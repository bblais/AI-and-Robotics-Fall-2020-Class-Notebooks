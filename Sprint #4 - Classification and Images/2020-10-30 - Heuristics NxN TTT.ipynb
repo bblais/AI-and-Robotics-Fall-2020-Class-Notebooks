{
 "cells": [
  {
   "cell_type": "code",
   "execution_count": 1,
   "metadata": {},
   "outputs": [
    {
     "name": "stdout",
     "output_type": "stream",
     "text": [
      "Version:  0.2.23\n"
     ]
    }
   ],
   "source": [
    "from Game import *"
   ]
  },
  {
   "cell_type": "code",
   "execution_count": 2,
   "metadata": {},
   "outputs": [],
   "source": [
    "def initial_state():\n",
    "    N=3\n",
    "    state=Board(N,N)\n",
    "            \n",
    "    return state"
   ]
  },
  {
   "cell_type": "code",
   "execution_count": 3,
   "metadata": {},
   "outputs": [],
   "source": [
    "def show_state(state):\n",
    "    print(state)\n"
   ]
  },
  {
   "cell_type": "code",
   "execution_count": 4,
   "metadata": {},
   "outputs": [],
   "source": [
    "def valid_moves(state,player):\n",
    "    moves=[]\n",
    "    N=state.shape[0]  # notice I am not hardcoding the size\n",
    "    for i in range(N*N):\n",
    "        if state[i]==0:\n",
    "            moves.append(i)        \n",
    "    return moves"
   ]
  },
  {
   "cell_type": "code",
   "execution_count": 5,
   "metadata": {},
   "outputs": [],
   "source": [
    "def win_status(state,player):\n",
    "    if player==1:\n",
    "        other_player=2\n",
    "    else:\n",
    "        other_player=1\n",
    "        \n",
    "    N=state.shape[0]  # notice I am not hardcoding the size        \n",
    "    if N==3 or N==4:\n",
    "        N_in_a_row=3\n",
    "    else:\n",
    "        N_in_a_row=4\n",
    "        \n",
    "        \n",
    "    for in_a_row in state.diags(N_in_a_row):\n",
    "        if in_a_row ==[player]*N_in_a_row:\n",
    "            return 'win'\n",
    "\n",
    "    for in_a_row in state.rows(N_in_a_row):\n",
    "        if in_a_row ==[player]*N_in_a_row:\n",
    "            return 'win'\n",
    "        \n",
    "    for in_a_row in state.cols(N_in_a_row):\n",
    "        if in_a_row ==[player]*N_in_a_row:\n",
    "            return 'win'\n",
    "                \n",
    "    if not valid_moves(state,other_player):\n",
    "        return 'stalemate'\n",
    "    \n",
    "    "
   ]
  },
  {
   "cell_type": "code",
   "execution_count": 6,
   "metadata": {},
   "outputs": [],
   "source": [
    "def update_state(state,player,move):\n",
    "    # make a new state, and modify it (technically there is a lazy hack here)\n",
    "    new_state=state\n",
    "    new_state[move]=player\n",
    "    \n",
    "    return new_state"
   ]
  },
  {
   "cell_type": "code",
   "execution_count": 7,
   "metadata": {},
   "outputs": [],
   "source": [
    "def human_move(state,player):\n",
    "    state.show_locations()\n",
    "    \n",
    "    while True:\n",
    "        move=int(input(\"What square?\"))\n",
    "\n",
    "        if move in valid_moves(state,player):\n",
    "            break\n",
    "        \n",
    "    return move\n",
    "\n",
    "human_agent=Agent(human_move)"
   ]
  },
  {
   "cell_type": "code",
   "execution_count": 8,
   "metadata": {},
   "outputs": [],
   "source": [
    "def random_move(state,player):\n",
    "    possible_moves=valid_moves(state,player)\n",
    "    move=random.choice(possible_moves)\n",
    "    return move\n",
    "\n",
    "\n",
    "random_agent=Agent(random_move)"
   ]
  },
  {
   "cell_type": "code",
   "execution_count": 9,
   "metadata": {},
   "outputs": [],
   "source": [
    "from Game.minimax import *\n",
    "def minimax_move(state,player):\n",
    "\n",
    "    values,moves=minimax_values(state,player,display=True)\n",
    "    return top_choice(moves,values)\n",
    "\n",
    "\n",
    "minimax_agent=Agent(minimax_move)"
   ]
  },
  {
   "cell_type": "code",
   "execution_count": 10,
   "metadata": {},
   "outputs": [
    {
     "name": "stdout",
     "output_type": "stream",
     "text": [
      "====\n",
      "Game  1\n",
      " 0  0  0 \n",
      " 0  0  0 \n",
      " 0  0  0 \n",
      "\n",
      "Player 1 moves 6\n",
      " 0  0  0 \n",
      " 0  0  0 \n",
      " 1  0  0 \n",
      "\n",
      "Player 2 moves 1\n",
      " 0  2  0 \n",
      " 0  0  0 \n",
      " 1  0  0 \n",
      "\n",
      "Player 1 moves 5\n",
      " 0  2  0 \n",
      " 0  0  1 \n",
      " 1  0  0 \n",
      "\n",
      "Player 2 moves 7\n",
      " 0  2  0 \n",
      " 0  0  1 \n",
      " 1  2  0 \n",
      "\n",
      "Player 1 moves 3\n",
      " 0  2  0 \n",
      " 1  0  1 \n",
      " 1  2  0 \n",
      "\n",
      "Player 2 moves 0\n",
      " 2  2  0 \n",
      " 1  0  1 \n",
      " 1  2  0 \n",
      "\n",
      "Player 1 moves 8\n",
      " 2  2  0 \n",
      " 1  0  1 \n",
      " 1  2  1 \n",
      "\n",
      "Player 2 moves 2\n",
      " 2  2  0 \n",
      " 1  0  1 \n",
      " 1  2  1 \n",
      "\n",
      "Player  2 won.\n"
     ]
    }
   ],
   "source": [
    "g=Game(1)\n",
    "result=g.run(random_agent,random_agent)"
   ]
  },
  {
   "cell_type": "code",
   "execution_count": 12,
   "metadata": {},
   "outputs": [
    {
     "name": "stdout",
     "output_type": "stream",
     "text": [
      "====\n",
      "Game  1\n",
      " 0  0  0 \n",
      " 0  0  0 \n",
      " 0  0  0 \n",
      "\n",
      "  Choice Time: 4.700510025024414 seconds \n",
      "Player 1 moves 1\n",
      " 0  1  0 \n",
      " 0  0  0 \n",
      " 0  0  0 \n",
      "\n",
      "Player 2 moves 8\n",
      " 0  1  0 \n",
      " 0  0  0 \n",
      " 0  0  2 \n",
      "\n",
      "  Choice Time: 0.2038869857788086 seconds \n",
      "Player 1 moves 2\n",
      " 0  1  1 \n",
      " 0  0  0 \n",
      " 0  0  2 \n",
      "\n",
      "Player 2 moves 0\n",
      " 2  1  1 \n",
      " 0  0  0 \n",
      " 0  0  2 \n",
      "\n",
      "  Choice Time: 0.013275861740112305 seconds \n",
      "Player 1 moves 4\n",
      " 2  1  1 \n",
      " 0  1  0 \n",
      " 0  0  2 \n",
      "\n",
      "Player 2 moves 6\n",
      " 2  1  1 \n",
      " 0  1  0 \n",
      " 2  0  2 \n",
      "\n",
      "  Choice Time: 0.0009720325469970703 seconds \n",
      "Player 1 moves 7\n",
      " 2  1  1 \n",
      " 0  1  0 \n",
      " 2  0  2 \n",
      "\n",
      "Player  1 won.\n"
     ]
    }
   ],
   "source": [
    "g=Game(1)\n",
    "result=g.run(minimax_agent,random_agent)"
   ]
  },
  {
   "cell_type": "code",
   "execution_count": 13,
   "metadata": {},
   "outputs": [],
   "source": [
    "def initial_state():\n",
    "    N=4\n",
    "    state=Board(N,N)\n",
    "            \n",
    "    return state"
   ]
  },
  {
   "cell_type": "code",
   "execution_count": 14,
   "metadata": {},
   "outputs": [],
   "source": [
    "from Game.minimax import *\n",
    "def minimax_move(state,player):\n",
    "\n",
    "    values,moves=minimax_values(state,player,display=True,maxdepth=3)\n",
    "    return top_choice(moves,values)\n",
    "\n",
    "\n",
    "minimax_agent=Agent(minimax_move)"
   ]
  },
  {
   "cell_type": "code",
   "execution_count": 15,
   "metadata": {},
   "outputs": [],
   "source": [
    "def in_a_row_with_zero(vec,player,num):\n",
    "    L=len(vec)\n",
    "    for i in range(L-num):\n",
    "        if vec[i:i+num+1] == [0] + [player]*num or vec[i:i+num+1] == [player]*num + [0]:\n",
    "            return True\n",
    "        \n",
    "    return False\n",
    "def two_in_a_row_with_zero(vec,player):\n",
    "    return in_a_row_with_zero(vec,player,2)\n",
    "def three_in_a_row_with_zero(vec,player):\n",
    "    return in_a_row_with_zero(vec,player,3)\n"
   ]
  },
  {
   "cell_type": "code",
   "execution_count": 16,
   "metadata": {},
   "outputs": [],
   "source": [
    "def in_a_row_heuristic(state,player):\n",
    "    if player==1:\n",
    "        other_player=2\n",
    "    else:\n",
    "        other_player=1\n",
    "    \n",
    "    N=state.shape[0]  # notice I am not hardcoding the size        \n",
    "    if N==3 or N==4:\n",
    "        N_in_a_row=3\n",
    "    else:\n",
    "        N_in_a_row=4\n",
    "    \n",
    "    count=0\n",
    "    rcount=0\n",
    "    for in_a_row in state.diags(N_in_a_row):\n",
    "        count+=1\n",
    "        if two_in_a_row_with_zero(in_a_row,player):\n",
    "            rcount+=1\n",
    "        if two_in_a_row_with_zero(in_a_row,other_player):\n",
    "            rcount-=1\n",
    "            \n",
    "    for in_a_row in state.rows(N_in_a_row):\n",
    "        count+=1\n",
    "        if two_in_a_row_with_zero(in_a_row,player):\n",
    "            rcount+=1\n",
    "        if two_in_a_row_with_zero(in_a_row,other_player):\n",
    "            rcount-=1\n",
    "        \n",
    "    for in_a_row in state.cols(N_in_a_row):\n",
    "        count+=1\n",
    "        if two_in_a_row_with_zero(in_a_row,player):\n",
    "            rcount+=1\n",
    "        if two_in_a_row_with_zero(in_a_row,other_player):\n",
    "            rcount-=1\n",
    "    v1=rcount/count       \n",
    "    \n",
    "    count=0\n",
    "    rcount=0\n",
    "    for in_a_row in state.diags(N_in_a_row):\n",
    "        count+=1\n",
    "        if three_in_a_row_with_zero(in_a_row,player):\n",
    "            rcount+=1\n",
    "        if three_in_a_row_with_zero(in_a_row,other_player):\n",
    "            rcount-=1\n",
    "            \n",
    "    for in_a_row in state.rows(N_in_a_row):\n",
    "        count+=1\n",
    "        if three_in_a_row_with_zero(in_a_row,player):\n",
    "            rcount+=1\n",
    "        if three_in_a_row_with_zero(in_a_row,other_player):\n",
    "            rcount-=1\n",
    "        \n",
    "    for in_a_row in state.cols(N_in_a_row):\n",
    "        count+=1\n",
    "        if three_in_a_row_with_zero(in_a_row,player):\n",
    "            rcount+=1\n",
    "        if three_in_a_row_with_zero(in_a_row,other_player):\n",
    "            rcount-=1\n",
    "    v2=rcount/count       \n",
    "    \n",
    "    \n",
    "    return v2*.8 + v1*.2   # weighted average\n",
    "\n"
   ]
  },
  {
   "cell_type": "code",
   "execution_count": 17,
   "metadata": {},
   "outputs": [],
   "source": [
    "def heuristic(state,player):\n",
    "    \n",
    "    v=in_a_row_heuristic(state,player)\n",
    "    \n",
    "    return v\n",
    "\n",
    "    "
   ]
  },
  {
   "cell_type": "code",
   "execution_count": 18,
   "metadata": {},
   "outputs": [],
   "source": [
    "def random_move(state,player):\n",
    "    possible_moves=valid_moves(state,player)\n",
    "    move=random.choice(possible_moves)\n",
    "    print(\"heuristic \",heuristic(state,player))\n",
    "    return move\n",
    "\n",
    "\n",
    "random_agent=Agent(random_move)"
   ]
  },
  {
   "cell_type": "code",
   "execution_count": 20,
   "metadata": {},
   "outputs": [
    {
     "name": "stdout",
     "output_type": "stream",
     "text": [
      "====\n",
      "Game  1\n",
      " 0  0  0  0 \n",
      " 0  0  0  0 \n",
      " 0  0  0  0 \n",
      " 0  0  0  0 \n",
      "\n",
      "heuristic  0.0\n",
      "Player 1 moves 12\n",
      " 0  0  0  0 \n",
      " 0  0  0  0 \n",
      " 0  0  0  0 \n",
      " 1  0  0  0 \n",
      "\n",
      "heuristic  0.0\n",
      "Player 2 moves 0\n",
      " 2  0  0  0 \n",
      " 0  0  0  0 \n",
      " 0  0  0  0 \n",
      " 1  0  0  0 \n",
      "\n",
      "heuristic  0.0\n",
      "Player 1 moves 3\n",
      " 2  0  0  1 \n",
      " 0  0  0  0 \n",
      " 0  0  0  0 \n",
      " 1  0  0  0 \n",
      "\n",
      "heuristic  0.0\n",
      "Player 2 moves 1\n",
      " 2  2  0  1 \n",
      " 0  0  0  0 \n",
      " 0  0  0  0 \n",
      " 1  0  0  0 \n",
      "\n",
      "heuristic  -0.008333333333333333\n",
      "Player 1 moves 4\n",
      " 2  2  0  1 \n",
      " 1  0  0  0 \n",
      " 0  0  0  0 \n",
      " 1  0  0  0 \n",
      "\n",
      "heuristic  0.008333333333333333\n",
      "Player 2 moves 2\n",
      " 2  2  0  1 \n",
      " 1  0  0  0 \n",
      " 0  0  0  0 \n",
      " 1  0  0  0 \n",
      "\n",
      "Player  2 won.\n"
     ]
    }
   ],
   "source": [
    "g=Game(1)\n",
    "result=g.run(random_agent,random_agent)"
   ]
  },
  {
   "cell_type": "code",
   "execution_count": null,
   "metadata": {},
   "outputs": [],
   "source": []
  },
  {
   "cell_type": "code",
   "execution_count": 21,
   "metadata": {},
   "outputs": [
    {
     "name": "stdout",
     "output_type": "stream",
     "text": [
      "====\n",
      "Game  1\n",
      " 0  0  0  0 \n",
      " 0  0  0  0 \n",
      " 0  0  0  0 \n",
      " 0  0  0  0 \n",
      "\n",
      "  Choice Time: 8.223526239395142 seconds \n",
      "Player 1 moves 11\n",
      " 0  0  0  0 \n",
      " 0  0  0  0 \n",
      " 0  0  0  1 \n",
      " 0  0  0  0 \n",
      "\n",
      "heuristic  0.0\n",
      "Player 2 moves 12\n",
      " 0  0  0  0 \n",
      " 0  0  0  0 \n",
      " 0  0  0  1 \n",
      " 2  0  0  0 \n",
      "\n",
      "  Choice Time: 10.012531995773315 seconds \n",
      "Player 1 moves 7\n",
      " 0  0  0  0 \n",
      " 0  0  0  1 \n",
      " 0  0  0  1 \n",
      " 2  0  0  0 \n",
      "\n",
      "heuristic  -0.016666666666666666\n",
      "Player 2 moves 4\n",
      " 0  0  0  0 \n",
      " 2  0  0  1 \n",
      " 0  0  0  1 \n",
      " 2  0  0  0 \n",
      "\n",
      "  Choice Time: 2.375920057296753 seconds \n",
      "Player 1 moves 3\n",
      " 0  0  0  0 \n",
      " 2  0  0  1 \n",
      " 0  0  0  1 \n",
      " 2  0  0  0 \n",
      "\n",
      "Player  1 won.\n"
     ]
    }
   ],
   "source": [
    "g=Game(1)\n",
    "result=g.run(minimax_agent,random_agent)"
   ]
  },
  {
   "cell_type": "code",
   "execution_count": null,
   "metadata": {},
   "outputs": [],
   "source": []
  }
 ],
 "metadata": {
  "kernelspec": {
   "display_name": "Python 3",
   "language": "python",
   "name": "python3"
  },
  "language_info": {
   "codemirror_mode": {
    "name": "ipython",
    "version": 3
   },
   "file_extension": ".py",
   "mimetype": "text/x-python",
   "name": "python",
   "nbconvert_exporter": "python",
   "pygments_lexer": "ipython3",
   "version": "3.7.7"
  }
 },
 "nbformat": 4,
 "nbformat_minor": 4
}
