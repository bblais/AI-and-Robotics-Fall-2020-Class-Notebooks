{
 "cells": [
  {
   "cell_type": "code",
   "execution_count": 1,
   "metadata": {},
   "outputs": [
    {
     "name": "stdout",
     "output_type": "stream",
     "text": [
      "Populating the interactive namespace from numpy and matplotlib\n"
     ]
    }
   ],
   "source": [
    "%pylab inline"
   ]
  },
  {
   "cell_type": "code",
   "execution_count": 2,
   "metadata": {},
   "outputs": [
    {
     "name": "stdout",
     "output_type": "stream",
     "text": [
      "Version:  0.0.22\n"
     ]
    }
   ],
   "source": [
    "from RobotSim373 import *"
   ]
  },
  {
   "cell_type": "code",
   "execution_count": 3,
   "metadata": {},
   "outputs": [],
   "source": [
    "def build(robot):    \n",
    "    \n",
    "    up=Box(robot,2,2.5,width=1,height=.3,name='up')\n",
    "    down=Box(robot,2,1.5,width=1,height=.3,name='down')\n",
    "    center=Disk(robot,2,2,radius=0.3,name='center')\n",
    "    left=Box(robot,1.3,2,width=1,height=.3,angle=90,name='left')\n",
    "    right=Box(robot,2.7,2,width=1,height=.3,angle=-90,name='right')\n",
    "    ram=Box(robot,3.2,2,width=.5,height=.5,name='ram',density=0)\n",
    "    \n",
    "    connect(up,down,'weld') \n",
    "    connect(center,down,'weld') \n",
    "    connect(up,center,'weld') \n",
    "    connect(center,left,'weld') \n",
    "    connect(left,right,'weld') \n",
    "    connect(right,ram,'weld')     \n",
    " "
   ]
  },
  {
   "cell_type": "code",
   "execution_count": 4,
   "metadata": {},
   "outputs": [],
   "source": [
    "def stop(t,robot):\n",
    "    robot['up'].F=0\n",
    "    robot['ram'].F=0\n",
    "    return True\n",
    "\n",
    "def move_up(t,robot):\n",
    "    robot['up'].F=20\n",
    "    robot['up'].F_angle=90\n",
    "    return False\n",
    "\n",
    "def move_down(t,robot):\n",
    "    robot['up'].F=-40\n",
    "    robot['up'].F_angle=90\n",
    "    return False\n",
    "\n",
    "\n",
    "def until_close_to_wall(t,robot):\n",
    "    d=robot['left'].read_distance()\n",
    "    if d<1.5:\n",
    "        return True\n",
    "    else:\n",
    "        return False\n",
    "    \n",
    "def until_close_to_floor(t,robot):\n",
    "    d=robot['right'].read_distance()\n",
    "    if d<1.5:\n",
    "        return True\n",
    "    else:\n",
    "        return False\n",
    "\n",
    "def wait(dt):\n",
    "    \n",
    "    def _wait(t,robot):\n",
    "        if t<dt:\n",
    "            return False\n",
    "        else:\n",
    "            return True\n",
    "        \n",
    "    return _wait\n",
    "    \n",
    "    \n",
    "def spawn(t,robot):\n",
    "    \n",
    "    robot.env -= \"me\"\n",
    "        \n",
    "    b=Box(robot.env,x=5,y=robot['center'].y,width=.5,height=0.5,name='me')\n",
    "    b.F=2\n",
    "    b.F_angle=(2*rand()-1)*90\n",
    "    \n",
    "    return True"
   ]
  },
  {
   "cell_type": "code",
   "execution_count": 5,
   "metadata": {},
   "outputs": [
    {
     "data": {
      "image/png": "[encoded data removed]",
      "text/plain": [
       "<Figure size 576x576 with 1 Axes>"
      ]
     },
     "metadata": {
      "needs_background": "light"
     },
     "output_type": "display_data"
    }
   ],
   "source": [
    "env=Environment(width=24,    # for consistency, manually set the environment size\n",
    "        height=24,\n",
    "linearDamping=20) \n",
    "robot=Robot(env)\n",
    "build(robot)\n",
    "\n",
    "state_machine=StateMachine(\n",
    "    {\n",
    "     'move up':([move_up,until_close_to_wall],'spawn'),\n",
    "     'spawn':([spawn],'move down'),\n",
    "     'move down':([move_down,until_close_to_floor],'move up'),\n",
    "    },\n",
    "    first_state='move up')\n",
    "robot.controller=Controller(robot,state_machine)\n",
    "\n",
    "run_sim(env,robot.controller,\n",
    "        total_time=1000,  # seconds\n",
    "        dt=1/60,\n",
    "        dt_display=5,  # make this larger for a faster display\n",
    "        figure_width=8,\n",
    "        plot_orientation=False,\n",
    "       )    "
   ]
  },
  {
   "cell_type": "code",
   "execution_count": null,
   "metadata": {},
   "outputs": [],
   "source": []
  }
 ],
 "metadata": {
  "kernelspec": {
   "display_name": "Python 3",
   "language": "python",
   "name": "python3"
  },
  "language_info": {
   "codemirror_mode": {
    "name": "ipython",
    "version": 3
   },
   "file_extension": ".py",
   "mimetype": "text/x-python",
   "name": "python",
   "nbconvert_exporter": "python",
   "pygments_lexer": "ipython3",
   "version": "3.7.7"
  }
 },
 "nbformat": 4,
 "nbformat_minor": 4
}
