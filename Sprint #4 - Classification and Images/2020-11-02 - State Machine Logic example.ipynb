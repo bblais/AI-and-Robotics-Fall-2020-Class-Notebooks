{
 "cells": [
  {
   "cell_type": "code",
   "execution_count": 2,
   "metadata": {},
   "outputs": [
    {
     "name": "stdout",
     "output_type": "stream",
     "text": [
      "Populating the interactive namespace from numpy and matplotlib\n"
     ]
    }
   ],
   "source": [
    "%pylab inline"
   ]
  },
  {
   "cell_type": "code",
   "execution_count": 3,
   "metadata": {},
   "outputs": [
    {
     "name": "stdout",
     "output_type": "stream",
     "text": [
      "Version:  0.0.22\n"
     ]
    }
   ],
   "source": [
    "from RobotSim373 import *"
   ]
  },
  {
   "cell_type": "code",
   "execution_count": 16,
   "metadata": {},
   "outputs": [],
   "source": [
    "def build(robot):\n",
    "    Box(robot,x=10,y=5,width=3,height=1,name='bob')"
   ]
  },
  {
   "cell_type": "code",
   "execution_count": 20,
   "metadata": {},
   "outputs": [],
   "source": [
    "def force_up(t,robot):\n",
    "    robot['bob'].F=10\n",
    "    robot['bob'].F_angle=90\n",
    "\n",
    "def force_down(t,robot):\n",
    "    robot['bob'].F=10\n",
    "    robot['bob'].F_angle=-90\n",
    "    \n",
    "def close_to_ceiling(t,robot):\n",
    "    if robot['bob'].y>20:\n",
    "        return True\n",
    "    \n",
    "def close_to_floor(t,robot):\n",
    "    if robot['bob'].y<5:\n",
    "        return True\n",
    "    "
   ]
  },
  {
   "cell_type": "code",
   "execution_count": 21,
   "metadata": {},
   "outputs": [],
   "source": [
    "state_machine=StateMachine(\n",
    "    {\n",
    "     'move_up':([force_up,close_to_ceiling],'move_down'),\n",
    "     'move_down':([force_down,close_to_floor],'move_up'),\n",
    "    },\n",
    "    first_state='move_up'\n",
    ")\n",
    "\n",
    "def monitor(t,robot):\n",
    "    robot.message=robot.controller.current_state  "
   ]
  },
  {
   "cell_type": "code",
   "execution_count": 25,
   "metadata": {},
   "outputs": [
    {
     "data": {
      "image/png": "[encoded data removed]",
      "text/plain": [
       "<Figure size 360x360 with 1 Axes>"
      ]
     },
     "metadata": {
      "needs_background": "light"
     },
     "output_type": "display_data"
    }
   ],
   "source": [
    "env=Environment(width=24,height=24,linearDamping=20) \n",
    "robot=Robot(env)\n",
    "build(robot)\n",
    "\n",
    "robot.controller=Controller(robot,state_machine)\n",
    "robot.controller.monitor=monitor\n",
    "\n",
    "\n",
    "run_sim(env,robot.controller,\n",
    "        total_time=250,  # seconds\n",
    "        dt=1/60,\n",
    "        dt_display=1,  # make this larger for a faster display\n",
    "        figure_width=5,\n",
    "        plot_orientation=False,\n",
    "       )    \n"
   ]
  },
  {
   "cell_type": "code",
   "execution_count": null,
   "metadata": {},
   "outputs": [],
   "source": []
  }
 ],
 "metadata": {
  "kernelspec": {
   "display_name": "Python 3",
   "language": "python",
   "name": "python3"
  },
  "language_info": {
   "codemirror_mode": {
    "name": "ipython",
    "version": 3
   },
   "file_extension": ".py",
   "mimetype": "text/x-python",
   "name": "python",
   "nbconvert_exporter": "python",
   "pygments_lexer": "ipython3",
   "version": "3.7.7"
  }
 },
 "nbformat": 4,
 "nbformat_minor": 4
}
