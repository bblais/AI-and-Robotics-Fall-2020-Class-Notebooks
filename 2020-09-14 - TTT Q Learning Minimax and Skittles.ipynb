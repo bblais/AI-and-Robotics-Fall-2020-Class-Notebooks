{
 "cells": [
  {
   "cell_type": "code",
   "execution_count": 1,
   "metadata": {},
   "outputs": [
    {
     "name": "stdout",
     "output_type": "stream",
     "text": [
      "Version:  0.2.21\n"
     ]
    }
   ],
   "source": [
    "from Game import *"
   ]
  },
  {
   "cell_type": "markdown",
   "metadata": {},
   "source": [
    "## Rules of the Game"
   ]
  },
  {
   "cell_type": "code",
   "execution_count": 2,
   "metadata": {},
   "outputs": [],
   "source": [
    "def initial_state():\n",
    "    board=Board(3,3)\n",
    "    board.pieces=['.','X','O']\n",
    "    return board\n",
    "\n",
    "def show_state(state):\n",
    "    print(state)\n",
    "    \n",
    "def valid_moves(state,player):  # returns a list of all of the possible moves given a state\n",
    "    moves=[]\n",
    "    \n",
    "    for i in range(9):\n",
    "        if state[i]==0:\n",
    "            moves.append(i)\n",
    "    \n",
    "    return moves\n",
    "    \n",
    "def update_state(state,player,move):\n",
    "    \n",
    "    new_state=state\n",
    "    state[move]=player\n",
    "    \n",
    "    return new_state\n",
    "\n",
    "def win_status(state,player):\n",
    "    # \"win\" if the player wins\n",
    "    # \"lose\" if the player loses\n",
    "    # \"stalemate\" if a tie\n",
    "    # None if the game continues\n",
    "    \n",
    "    # 0 1 2\n",
    "    # 3 4 5\n",
    "    # 6 7 8\n",
    "    \n",
    "    if state[0]==player and state[1]==player and state[2]==player:\n",
    "        return \"win\"\n",
    "    if state[3]==player and state[4]==player and state[5]==player:\n",
    "        return \"win\"\n",
    "    if state[6]==player and state[7]==player and state[8]==player:\n",
    "        return \"win\"\n",
    "    if state[0]==player and state[3]==player and state[6]==player:\n",
    "        return \"win\"\n",
    "    if state[1]==player and state[4]==player and state[7]==player:\n",
    "        return \"win\"\n",
    "    if state[2]==player and state[5]==player and state[8]==player:\n",
    "        return \"win\"\n",
    "    if state[0]==player and state[4]==player and state[8]==player:\n",
    "        return \"win\"\n",
    "    if state[6]==player and state[4]==player and state[2]==player:\n",
    "        return \"win\"\n",
    "    \n",
    "    if player==1:\n",
    "        other_player=2\n",
    "    else:\n",
    "        other_player=1\n",
    "        \n",
    "        \n",
    "    if not valid_moves(state,other_player):\n",
    "        return \"stalemate\"\n",
    "    \n",
    "    \n",
    "    return None\n",
    "    "
   ]
  },
  {
   "cell_type": "markdown",
   "metadata": {},
   "source": [
    "## Agents"
   ]
  },
  {
   "cell_type": "code",
   "execution_count": 3,
   "metadata": {},
   "outputs": [],
   "source": [
    "def human_move(state,player):\n",
    "    print(\"\"\"\n",
    "     0 1 2\n",
    "     3 4 5\n",
    "     6 7 8\n",
    "    \"\"\")\n",
    "    \n",
    "    move=int(input(\"What move?\"))\n",
    "    \n",
    "    return move\n",
    "\n",
    "human_agent=Agent(human_move)"
   ]
  },
  {
   "cell_type": "code",
   "execution_count": 4,
   "metadata": {},
   "outputs": [],
   "source": [
    "def random_move(state,player):\n",
    "    possible_moves=valid_moves(state,player)\n",
    "    move=random.choice(possible_moves)\n",
    "    return move\n",
    "\n",
    "\n",
    "random_agent=Agent(random_move)"
   ]
  },
  {
   "cell_type": "code",
   "execution_count": 12,
   "metadata": {},
   "outputs": [],
   "source": [
    "from Game.minimax import *\n",
    "def minimax_move(state,player):\n",
    "\n",
    "    values,moves=minimax_values(state,player,display=False)\n",
    "    return top_choice(moves,values)\n",
    "\n",
    "\n",
    "minimax_agent=Agent(minimax_move)"
   ]
  },
  {
   "cell_type": "code",
   "execution_count": 6,
   "metadata": {},
   "outputs": [],
   "source": [
    "def skittles_move(state,player,info):\n",
    "    S=info.S\n",
    "    last_action=info.last_action\n",
    "    last_state=info.last_state\n",
    "    \n",
    "    \n",
    "    # if Ive never seen this state before\n",
    "    if not state in S:\n",
    "        actions=valid_moves(state,player)\n",
    "\n",
    "        S[state]=Table()\n",
    "        for action in actions:\n",
    "            S[state][action]=3     \n",
    "    \n",
    "    move=weighted_choice(S[state])  # weighted across actions\n",
    "    \n",
    "    # what if there are no skittles for a particular state?\n",
    "    # move is None in that case\n",
    "    \n",
    "    if move is None:\n",
    "        # learn a little bit\n",
    "        if last_state:\n",
    "            S[last_state][last_action]=S[last_state][last_action]-1\n",
    "            if S[last_state][last_action]<0:\n",
    "                S[last_state][last_action]=0\n",
    "        \n",
    "        move=random_move(state,player)\n",
    "    \n",
    "    return move\n",
    "\n",
    "def skittles_after(status,player,info):\n",
    "    S=info.S\n",
    "    last_action=info.last_action\n",
    "    last_state=info.last_state\n",
    "\n",
    "    if status=='lose':\n",
    "        # learn a little bit\n",
    "        S[last_state][last_action]=S[last_state][last_action]-1\n",
    "        if S[last_state][last_action]<0:\n",
    "            S[last_state][last_action]=0\n",
    "        \n",
    "    \n",
    "\n",
    "\n",
    "skittles_agent=Agent(skittles_move)\n",
    "skittles_agent.S=Table()\n",
    "skittles_agent.post=skittles_after\n",
    "\n",
    "\n",
    "skittles_agent2=Agent(skittles_move)\n",
    "skittles_agent2.S=Table()\n",
    "skittles_agent2.post=skittles_after"
   ]
  },
  {
   "cell_type": "code",
   "execution_count": 7,
   "metadata": {},
   "outputs": [],
   "source": [
    "def Q_move(state,player,info):\n",
    "    Q=info.Q\n",
    "    last_action=info.last_action\n",
    "    last_state=info.last_state\n",
    "    \n",
    "    α=info.α\n",
    "    γ=info.γ\n",
    "    ϵ=info.ϵ\n",
    "    \n",
    "\n",
    "    # if Ive never seen this state before\n",
    "    if not state in Q:\n",
    "        actions=valid_moves(state,player)\n",
    "\n",
    "        Q[state]=Table()\n",
    "        for action in actions:\n",
    "            Q[state][action]=0     \n",
    "    \n",
    "    # deal with random vs top choice here\n",
    "    if random.random()<ϵ:\n",
    "        move=random_move(state,player)  \n",
    "    else:\n",
    "        move=top_choice(Q[state]) \n",
    "    \n",
    "    # what if there are no skittles for a particular state?\n",
    "    # move is None in that case\n",
    "    \n",
    "    if not last_action is None:  # not the first move\n",
    "        # learn a little bit\n",
    "        # change equation here\n",
    "        reward=0\n",
    "        \n",
    "        # Bellman equation\n",
    "        Q[last_state][last_action] += α*(reward+\n",
    "                         γ*max([Q[state][a] for a in Q[state]])  - \n",
    "                                Q[last_state][last_action])\n",
    "    \n",
    "        \n",
    "    \n",
    "    return move\n",
    "\n",
    "def Q_after(status,player,info):\n",
    "    Q=info.Q\n",
    "    last_action=info.last_action\n",
    "    last_state=info.last_state\n",
    "\n",
    "    α=info.α\n",
    "    γ=info.γ\n",
    "    ϵ=info.ϵ\n",
    "    \n",
    "    if status=='lose':\n",
    "        reward=-1\n",
    "    elif status=='win':\n",
    "        reward=1\n",
    "    elif status=='stalemate':\n",
    "        reward=0.5\n",
    "    else:\n",
    "        reward=0\n",
    "        \n",
    "    # learn a little bit\n",
    "    Q[last_state][last_action] += α*(reward-Q[last_state][last_action])\n",
    "        \n"
   ]
  },
  {
   "cell_type": "code",
   "execution_count": 15,
   "metadata": {},
   "outputs": [],
   "source": [
    "Q1_agent=Agent(Q_move)\n",
    "Q1_agent.Q=LoadTable('Q1_TTT_data.json')\n",
    "Q1_agent.post=Q_after\n",
    "\n",
    "Q1_agent.α=0.3  # learning rate\n",
    "Q1_agent.γ=0.9  # memory constant, discount factor\n",
    "Q1_agent.ϵ=0.1  # probability of a random move during learning\n",
    "\n",
    "Q2_agent=Agent(Q_move)\n",
    "Q2_agent.Q=LoadTable('Q2_TTT_data.json')\n",
    "Q2_agent.post=Q_after\n",
    "\n",
    "Q2_agent.α=0.3  # learning rate\n",
    "Q2_agent.γ=0.9  # memory constant, discount factor\n",
    "Q2_agent.ϵ=0.1  # probability of a random move during learning"
   ]
  },
  {
   "cell_type": "code",
   "execution_count": 23,
   "metadata": {},
   "outputs": [
    {
     "name": "stdout",
     "output_type": "stream",
     "text": [
      "1000 : 0.0  2000 : 0.0  3000 : 0.0  4000 : 0.0  5000 : 0.0  6000 : 0.0  7000 : 0.0  8000 : 0.0  9000 : 0.0  10000 : 0.0  11000 : 0.0  12000 : 0.0  13000 : 0.0  14000 : 0.0  15000 : 0.0  16000 : 0.0  17000 : 0.0  18000 : 0.0  19000 : 0.0  20000 : 0.0  21000 : 0.0  22000 : 0.0  23000 : 0.0  24000 : 0.0  25000 : 0.0  26000 : 0.0  27000 : 0.0  28000 : 0.0  29000 : 0.0  30000 : 0.0  31000 : 0.0  32000 : 0.0  33000 : 0.0  34000 : 0.0  35000 : 0.0  36000 : 0.0  37000 : 0.0  38000 : 0.0  39000 : 0.0  40000 : 0.0  41000 : 0.0  42000 : 0.0  43000 : 0.0  44000 : 0.0  45000 : 0.0  46000 : 0.0  47000 : 0.0  48000 : 0.0  49000 : 0.0  50000 : 0.0  51000 : 0.0  52000 : 0.0  53000 : 0.0  54000 : 0.0  55000 : 0.0  56000 : 0.0  57000 : 0.0  58000 : 0.0  59000 : 0.0  60000 : 0.0  61000 : 0.0  62000 : 0.0  63000 : 0.0  64000 : 0.0  65000 : 0.0  66000 : 0.0  67000 : 0.0  68000 : 0.0  69000 : 0.0  70000 : 0.0  71000 : 0.0  72000 : 0.0  73000 : 0.0  74000 : 0.0  75000 : 0.0  76000 : 0.0  77000 : 0.0  78000 : 0.0  79000 : 0.0  80000 : 0.0  81000 : 0.0  82000 : 0.0  83000 : 0.0  84000 : 0.0  85000 : 0.0  86000 : 0.0  87000 : 0.0  88000 : 0.0  89000 : 0.0  90000 : 0.0  91000 : 0.0  92000 : 0.0  93000 : 0.0  94000 : 0.0  95000 : 0.0  96000 : 0.0  97000 : 0.0  98000 : 0.0  99000 : 0.0  100000 : 0.0  "
     ]
    }
   ],
   "source": [
    "total_number_of_games=0\n",
    "for epoch in range(100):\n",
    "    \n",
    "    number_training_games=1000\n",
    "    number_of_testing_games=10\n",
    "    \n",
    "    #=================\n",
    "    # traning cycle\n",
    "    Q1_agent.α=0.3  # learning rate\n",
    "    Q1_agent.ϵ=0.1  # probability of a random move during learning\n",
    "    Q2_agent.α=0.3  # learning rate\n",
    "    Q2_agent.ϵ=0.1  # probability of a random move during learning\n",
    "    \n",
    "    g=Game(number_training_games)\n",
    "    g.display=False\n",
    "    g.run(Q1_agent,Q2_agent)\n",
    "\n",
    "    #=================\n",
    "    # testing cycle\n",
    "    Q1_agent.α=0.0  # learning rate\n",
    "    Q1_agent.ϵ=0.0  # probability of a random move during learning\n",
    "    Q2_agent.α=0.0  # learning rate\n",
    "    Q2_agent.ϵ=0.0  # probability of a random move during learning\n",
    "    \n",
    "    \n",
    "    g=Game(number_of_testing_games)\n",
    "    g.display=False\n",
    "    result=g.run(Q1_agent,Q2_agent)\n",
    "    \n",
    "    total_number_of_games+=number_training_games\n",
    "    win_percentage=sum([r==1 for r in result])/number_training_games*100\n",
    "    loss_percentage=sum([r==2 for r in result])/number_training_games*100\n",
    "    tie_percentage=sum([r==0 for r in result])/number_training_games*100\n",
    "\n",
    "    print(total_number_of_games,\":\",win_percentage,\" \",end=\"\")\n",
    "    \n",
    "    SaveTable(Q1_agent.Q,'Q1_TTT_data.json')\n",
    "    SaveTable(Q2_agent.Q,'Q2_TTT_data.json')    \n",
    "    "
   ]
  },
  {
   "cell_type": "code",
   "execution_count": 24,
   "metadata": {},
   "outputs": [],
   "source": [
    "g=Game(number_of_testing_games)\n",
    "g.display=False\n",
    "result=g.run(minimax_agent,Q2_agent)"
   ]
  },
  {
   "cell_type": "code",
   "execution_count": 25,
   "metadata": {},
   "outputs": [
    {
     "name": "stdout",
     "output_type": "stream",
     "text": [
      "Total number of games:  10\n",
      "Winning 10.00 percent\n",
      "Losing 0.00 percent\n",
      "Tie 90.00 percent\n"
     ]
    }
   ],
   "source": [
    "g.report()"
   ]
  },
  {
   "cell_type": "code",
   "execution_count": 26,
   "metadata": {},
   "outputs": [],
   "source": [
    "g=Game(number_of_testing_games)\n",
    "g.display=False\n",
    "result=g.run(Q1_agent,minimax_agent)"
   ]
  },
  {
   "cell_type": "code",
   "execution_count": 27,
   "metadata": {},
   "outputs": [
    {
     "name": "stdout",
     "output_type": "stream",
     "text": [
      "Total number of games:  10\n",
      "Winning 0.00 percent\n",
      "Losing 0.00 percent\n",
      "Tie 100.00 percent\n"
     ]
    }
   ],
   "source": [
    "g.report()"
   ]
  },
  {
   "cell_type": "markdown",
   "metadata": {},
   "source": [
    "## After 100,000 games, \n",
    "\n",
    "1. ties 100% with minimax\n",
    "2. I defeated it with the game below:\n",
    "\n",
    "    Game  1\n",
    "     .  .  . \n",
    "     .  .  . \n",
    "     .  .  . \n",
    "\n",
    "\n",
    "         0 1 2\n",
    "         3 4 5\n",
    "         6 7 8\n",
    "\n",
    "    What move? 4\n",
    "    Player 1 moves 4\n",
    "     .  .  . \n",
    "     .  X  . \n",
    "     .  .  . \n",
    "\n",
    "    Player 2 moves 0\n",
    "     O  .  . \n",
    "     .  X  . \n",
    "     .  .  . \n",
    "\n",
    "\n",
    "         0 1 2\n",
    "         3 4 5\n",
    "         6 7 8\n",
    "\n",
    "    What move? 1\n",
    "    Player 1 moves 1\n",
    "     O  X  . \n",
    "     .  X  . \n",
    "     .  .  . \n",
    "\n",
    "    Player 2 moves 7\n",
    "     O  X  . \n",
    "     .  X  . \n",
    "     .  O  . \n",
    "\n",
    "\n",
    "         0 1 2\n",
    "         3 4 5\n",
    "         6 7 8\n",
    "\n",
    "    What move? 6\n",
    "    Player 1 moves 6\n",
    "     O  X  . \n",
    "     .  X  . \n",
    "     X  O  . \n",
    "\n",
    "    Player 2 moves 3\n",
    "     O  X  . \n",
    "     O  X  . \n",
    "     X  O  . \n",
    "\n",
    "\n",
    "         0 1 2\n",
    "         3 4 5\n",
    "         6 7 8\n",
    "\n",
    "    What move? 2\n",
    "    Player 1 moves 2\n",
    "     O  X  X \n",
    "     O  X  . \n",
    "     X  O  . \n",
    "\n",
    "    Player  1 won."
   ]
  },
  {
   "cell_type": "code",
   "execution_count": 28,
   "metadata": {},
   "outputs": [
    {
     "name": "stdout",
     "output_type": "stream",
     "text": [
      "====\n",
      "Game  1\n",
      " .  .  . \n",
      " .  .  . \n",
      " .  .  . \n",
      "\n",
      "\n",
      "     0 1 2\n",
      "     3 4 5\n",
      "     6 7 8\n",
      "    \n"
     ]
    },
    {
     "name": "stdin",
     "output_type": "stream",
     "text": [
      "What move? 4\n"
     ]
    },
    {
     "name": "stdout",
     "output_type": "stream",
     "text": [
      "Player 1 moves 4\n",
      " .  .  . \n",
      " .  X  . \n",
      " .  .  . \n",
      "\n",
      "Player 2 moves 8\n",
      " .  .  . \n",
      " .  X  . \n",
      " .  .  O \n",
      "\n",
      "\n",
      "     0 1 2\n",
      "     3 4 5\n",
      "     6 7 8\n",
      "    \n"
     ]
    },
    {
     "name": "stdin",
     "output_type": "stream",
     "text": [
      "What move? 7\n"
     ]
    },
    {
     "name": "stdout",
     "output_type": "stream",
     "text": [
      "Player 1 moves 7\n",
      " .  .  . \n",
      " .  X  . \n",
      " .  X  O \n",
      "\n",
      "Player 2 moves 1\n",
      " .  O  . \n",
      " .  X  . \n",
      " .  X  O \n",
      "\n",
      "\n",
      "     0 1 2\n",
      "     3 4 5\n",
      "     6 7 8\n",
      "    \n"
     ]
    },
    {
     "name": "stdin",
     "output_type": "stream",
     "text": [
      "What move? 2\n"
     ]
    },
    {
     "name": "stdout",
     "output_type": "stream",
     "text": [
      "Player 1 moves 2\n",
      " .  O  X \n",
      " .  X  . \n",
      " .  X  O \n",
      "\n",
      "Player 2 moves 6\n",
      " .  O  X \n",
      " .  X  . \n",
      " O  X  O \n",
      "\n",
      "\n",
      "     0 1 2\n",
      "     3 4 5\n",
      "     6 7 8\n",
      "    \n"
     ]
    },
    {
     "name": "stdin",
     "output_type": "stream",
     "text": [
      "What move? 3\n"
     ]
    },
    {
     "name": "stdout",
     "output_type": "stream",
     "text": [
      "Player 1 moves 3\n",
      " .  O  X \n",
      " X  X  . \n",
      " O  X  O \n",
      "\n",
      "Player 2 moves 5\n",
      " .  O  X \n",
      " X  X  O \n",
      " O  X  O \n",
      "\n",
      "\n",
      "     0 1 2\n",
      "     3 4 5\n",
      "     6 7 8\n",
      "    \n"
     ]
    },
    {
     "name": "stdin",
     "output_type": "stream",
     "text": [
      "What move? 0\n"
     ]
    },
    {
     "name": "stdout",
     "output_type": "stream",
     "text": [
      "Player 1 moves 0\n",
      " X  O  X \n",
      " X  X  O \n",
      " O  X  O \n",
      "\n",
      "Neither player won:  stalemate\n"
     ]
    }
   ],
   "source": [
    "g=Game(1)\n",
    "result=g.run(human_agent,Q2_agent)"
   ]
  },
  {
   "cell_type": "code",
   "execution_count": null,
   "metadata": {},
   "outputs": [],
   "source": []
  }
 ],
 "metadata": {
  "kernelspec": {
   "display_name": "Python 3",
   "language": "python",
   "name": "python3"
  },
  "language_info": {
   "codemirror_mode": {
    "name": "ipython",
    "version": 3
   },
   "file_extension": ".py",
   "mimetype": "text/x-python",
   "name": "python",
   "nbconvert_exporter": "python",
   "pygments_lexer": "ipython3",
   "version": "3.7.7"
  }
 },
 "nbformat": 4,
 "nbformat_minor": 4
}
