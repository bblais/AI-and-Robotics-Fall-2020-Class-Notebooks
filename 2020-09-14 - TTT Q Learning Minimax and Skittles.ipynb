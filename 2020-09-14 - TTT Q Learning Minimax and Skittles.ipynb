{
 "cells": [
  {
   "cell_type": "code",
   "execution_count": 1,
   "metadata": {},
   "outputs": [
    {
     "name": "stdout",
     "output_type": "stream",
     "text": [
      "Version:  0.2.21\n"
     ]
    }
   ],
   "source": [
    "from Game import *"
   ]
  },
  {
   "cell_type": "markdown",
   "metadata": {},
   "source": [
    "## Rules of the Game"
   ]
  },
  {
   "cell_type": "code",
   "execution_count": 2,
   "metadata": {},
   "outputs": [],
   "source": [
    "def initial_state():\n",
    "    board=Board(3,3)\n",
    "    board.pieces=['.','X','O']\n",
    "    return board\n",
    "\n",
    "def show_state(state):\n",
    "    print(state)\n",
    "    \n",
    "def valid_moves(state,player):  # returns a list of all of the possible moves given a state\n",
    "    moves=[]\n",
    "    \n",
    "    for i in range(9):\n",
    "        if state[i]==0:\n",
    "            moves.append(i)\n",
    "    \n",
    "    return moves\n",
    "    \n",
    "def update_state(state,player,move):\n",
    "    \n",
    "    new_state=state\n",
    "    state[move]=player\n",
    "    \n",
    "    return new_state\n",
    "\n",
    "def win_status(state,player):\n",
    "    # \"win\" if the player wins\n",
    "    # \"lose\" if the player loses\n",
    "    # \"stalemate\" if a tie\n",
    "    # None if the game continues\n",
    "    \n",
    "    # 0 1 2\n",
    "    # 3 4 5\n",
    "    # 6 7 8\n",
    "    \n",
    "    if state[0]==player and state[1]==player and state[2]==player:\n",
    "        return \"win\"\n",
    "    if state[3]==player and state[4]==player and state[5]==player:\n",
    "        return \"win\"\n",
    "    if state[6]==player and state[7]==player and state[8]==player:\n",
    "        return \"win\"\n",
    "    if state[0]==player and state[3]==player and state[6]==player:\n",
    "        return \"win\"\n",
    "    if state[1]==player and state[4]==player and state[7]==player:\n",
    "        return \"win\"\n",
    "    if state[2]==player and state[5]==player and state[8]==player:\n",
    "        return \"win\"\n",
    "    if state[0]==player and state[4]==player and state[8]==player:\n",
    "        return \"win\"\n",
    "    if state[6]==player and state[4]==player and state[2]==player:\n",
    "        return \"win\"\n",
    "    \n",
    "    if player==1:\n",
    "        other_player=2\n",
    "    else:\n",
    "        other_player=1\n",
    "        \n",
    "        \n",
    "    if not valid_moves(state,other_player):\n",
    "        return \"stalemate\"\n",
    "    \n",
    "    \n",
    "    return None\n",
    "    "
   ]
  },
  {
   "cell_type": "markdown",
   "metadata": {},
   "source": [
    "## Agents"
   ]
  },
  {
   "cell_type": "code",
   "execution_count": 3,
   "metadata": {},
   "outputs": [],
   "source": [
    "def human_move(state,player):\n",
    "    print(\"\"\"\n",
    "     0 1 2\n",
    "     3 4 5\n",
    "     6 7 8\n",
    "    \"\"\")\n",
    "    \n",
    "    move=int(input(\"What move?\"))\n",
    "    \n",
    "    return move\n",
    "\n",
    "human_agent=Agent(human_move)"
   ]
  },
  {
   "cell_type": "code",
   "execution_count": 4,
   "metadata": {},
   "outputs": [],
   "source": [
    "def random_move(state,player):\n",
    "    possible_moves=valid_moves(state,player)\n",
    "    move=random.choice(possible_moves)\n",
    "    return move\n",
    "\n",
    "\n",
    "random_agent=Agent(random_move)"
   ]
  },
  {
   "cell_type": "code",
   "execution_count": 12,
   "metadata": {},
   "outputs": [],
   "source": [
    "from Game.minimax import *\n",
    "def minimax_move(state,player):\n",
    "\n",
    "    values,moves=minimax_values(state,player,display=False)\n",
    "    return top_choice(moves,values)\n",
    "\n",
    "\n",
    "minimax_agent=Agent(minimax_move)"
   ]
  },
  {
   "cell_type": "code",
   "execution_count": 6,
   "metadata": {},
   "outputs": [],
   "source": [
    "def skittles_move(state,player,info):\n",
    "    S=info.S\n",
    "    last_action=info.last_action\n",
    "    last_state=info.last_state\n",
    "    \n",
    "    \n",
    "    # if Ive never seen this state before\n",
    "    if not state in S:\n",
    "        actions=valid_moves(state,player)\n",
    "\n",
    "        S[state]=Table()\n",
    "        for action in actions:\n",
    "            S[state][action]=3     \n",
    "    \n",
    "    move=weighted_choice(S[state])  # weighted across actions\n",
    "    \n",
    "    # what if there are no skittles for a particular state?\n",
    "    # move is None in that case\n",
    "    \n",
    "    if move is None:\n",
    "        # learn a little bit\n",
    "        if last_state:\n",
    "            S[last_state][last_action]=S[last_state][last_action]-1\n",
    "            if S[last_state][last_action]<0:\n",
    "                S[last_state][last_action]=0\n",
    "        \n",
    "        move=random_move(state,player)\n",
    "    \n",
    "    return move\n",
    "\n",
    "def skittles_after(status,player,info):\n",
    "    S=info.S\n",
    "    last_action=info.last_action\n",
    "    last_state=info.last_state\n",
    "\n",
    "    if status=='lose':\n",
    "        # learn a little bit\n",
    "        S[last_state][last_action]=S[last_state][last_action]-1\n",
    "        if S[last_state][last_action]<0:\n",
    "            S[last_state][last_action]=0\n",
    "        \n",
    "    \n",
    "\n",
    "\n",
    "skittles_agent=Agent(skittles_move)\n",
    "skittles_agent.S=Table()\n",
    "skittles_agent.post=skittles_after\n",
    "\n",
    "\n",
    "skittles_agent2=Agent(skittles_move)\n",
    "skittles_agent2.S=Table()\n",
    "skittles_agent2.post=skittles_after"
   ]
  },
  {
   "cell_type": "code",
   "execution_count": 7,
   "metadata": {},
   "outputs": [],
   "source": [
    "def Q_move(state,player,info):\n",
    "    Q=info.Q\n",
    "    last_action=info.last_action\n",
    "    last_state=info.last_state\n",
    "    \n",
    "    α=info.α\n",
    "    γ=info.γ\n",
    "    ϵ=info.ϵ\n",
    "    \n",
    "\n",
    "    # if Ive never seen this state before\n",
    "    if not state in Q:\n",
    "        actions=valid_moves(state,player)\n",
    "\n",
    "        Q[state]=Table()\n",
    "        for action in actions:\n",
    "            Q[state][action]=0     \n",
    "    \n",
    "    # deal with random vs top choice here\n",
    "    if random.random()<ϵ:\n",
    "        move=random_move(state,player)  \n",
    "    else:\n",
    "        move=top_choice(Q[state]) \n",
    "    \n",
    "    # what if there are no skittles for a particular state?\n",
    "    # move is None in that case\n",
    "    \n",
    "    if not last_action is None:  # not the first move\n",
    "        # learn a little bit\n",
    "        # change equation here\n",
    "        reward=0\n",
    "        \n",
    "        # Bellman equation\n",
    "        Q[last_state][last_action] += α*(reward+\n",
    "                         γ*max([Q[state][a] for a in Q[state]])  - \n",
    "                                Q[last_state][last_action])\n",
    "    \n",
    "        \n",
    "    \n",
    "    return move\n",
    "\n",
    "def Q_after(status,player,info):\n",
    "    Q=info.Q\n",
    "    last_action=info.last_action\n",
    "    last_state=info.last_state\n",
    "\n",
    "    α=info.α\n",
    "    γ=info.γ\n",
    "    ϵ=info.ϵ\n",
    "    \n",
    "    if status=='lose':\n",
    "        reward=-1\n",
    "    elif status=='win':\n",
    "        reward=1\n",
    "    elif status=='stalemate':\n",
    "        reward=0.5\n",
    "    else:\n",
    "        reward=0\n",
    "        \n",
    "    # learn a little bit\n",
    "    Q[last_state][last_action] += α*(reward-Q[last_state][last_action])\n",
    "        \n"
   ]
  },
  {
   "cell_type": "code",
   "execution_count": 8,
   "metadata": {},
   "outputs": [],
   "source": [
    "Q1_agent=Agent(Q_move)\n",
    "Q1_agent.Q=LoadTable('Q1_TTT_data.json')\n",
    "Q1_agent.post=Q_after\n",
    "\n",
    "Q1_agent.α=0.3  # learning rate\n",
    "Q1_agent.γ=0.9  # memory constant, discount factor\n",
    "Q1_agent.ϵ=0.1  # probability of a random move during learning\n",
    "\n",
    "Q2_agent=Agent(Q_move)\n",
    "Q2_agent.Q=LoadTable('Q2_TTT_data.json')\n",
    "Q2_agent.post=Q_after\n",
    "\n",
    "Q2_agent.α=0.3  # learning rate\n",
    "Q2_agent.γ=0.9  # memory constant, discount factor\n",
    "Q2_agent.ϵ=0.1  # probability of a random move during learning"
   ]
  },
  {
   "cell_type": "code",
   "execution_count": 9,
   "metadata": {},
   "outputs": [
    {
     "name": "stdout",
     "output_type": "stream",
     "text": [
      "10 : 60.0  20 : 60.0  30 : 70.0  40 : 70.0  50 : 70.0  60 : 50.0  70 : 40.0  80 : 60.0  90 : 50.0  100 : 60.0  110 : 50.0  120 : 70.0  130 : 40.0  140 : 60.0  150 : 60.0  160 : 90.0  170 : 60.0  180 : 20.0  190 : 60.0  200 : 60.0  210 : 50.0  220 : 40.0  230 : 30.0  240 : 20.0  250 : 20.0  260 : 0.0  270 : 0.0  280 : 0.0  290 : 50.0  300 : 0.0  310 : 0.0  320 : 0.0  330 : 0.0  340 : 0.0  350 : 0.0  360 : 0.0  370 : 0.0  380 : 0.0  390 : 0.0  400 : 0.0  410 : 0.0  420 : 0.0  430 : 0.0  440 : 0.0  450 : 0.0  460 : 0.0  470 : 0.0  480 : 0.0  490 : 0.0  500 : 0.0  510 : 0.0  520 : 0.0  530 : 0.0  540 : 0.0  550 : 0.0  560 : 0.0  570 : 0.0  580 : 0.0  590 : 0.0  600 : 0.0  610 : 0.0  620 : 0.0  630 : 0.0  640 : 0.0  650 : 0.0  660 : 0.0  670 : 0.0  680 : 0.0  690 : 0.0  700 : 0.0  710 : 0.0  720 : 0.0  730 : 0.0  740 : 0.0  750 : 0.0  760 : 0.0  770 : 0.0  780 : 0.0  790 : 0.0  800 : 0.0  810 : 0.0  820 : 0.0  830 : 0.0  840 : 0.0  850 : 0.0  860 : 0.0  870 : 0.0  880 : 0.0  890 : 0.0  900 : 0.0  910 : 0.0  920 : 0.0  930 : 0.0  940 : 0.0  950 : 0.0  960 : 0.0  970 : 0.0  980 : 0.0  990 : 0.0  1000 : 0.0  "
     ]
    }
   ],
   "source": [
    "total_number_of_games=0\n",
    "for epoch in range(100):\n",
    "    \n",
    "    number_training_games=10\n",
    "    number_of_testing_games=10\n",
    "    \n",
    "    #=================\n",
    "    # traning cycle\n",
    "    Q1_agent.α=0.3  # learning rate\n",
    "    Q1_agent.ϵ=0.1  # probability of a random move during learning\n",
    "    Q2_agent.α=0.3  # learning rate\n",
    "    Q2_agent.ϵ=0.1  # probability of a random move during learning\n",
    "    \n",
    "    g=Game(number_training_games)\n",
    "    g.display=False\n",
    "    g.run(Q1_agent,Q2_agent)\n",
    "\n",
    "    #=================\n",
    "    # testing cycle\n",
    "    Q1_agent.α=0.0  # learning rate\n",
    "    Q1_agent.ϵ=0.0  # probability of a random move during learning\n",
    "    Q2_agent.α=0.0  # learning rate\n",
    "    Q2_agent.ϵ=0.0  # probability of a random move during learning\n",
    "    \n",
    "    \n",
    "    g=Game(number_of_testing_games)\n",
    "    g.display=False\n",
    "    result=g.run(Q1_agent,Q2_agent)\n",
    "    \n",
    "    total_number_of_games+=number_training_games\n",
    "    win_percentage=sum([r==1 for r in result])/number_training_games*100\n",
    "    loss_percentage=sum([r==2 for r in result])/number_training_games*100\n",
    "    tie_percentage=sum([r==0 for r in result])/number_training_games*100\n",
    "\n",
    "    print(total_number_of_games,\":\",win_percentage,\" \",end=\"\")\n",
    "    \n",
    "    SaveTable(Q1_agent.Q,'Q1_TTT_data.json')\n",
    "    SaveTable(Q2_agent.Q,'Q2_TTT_data.json')    \n",
    "    "
   ]
  },
  {
   "cell_type": "code",
   "execution_count": 10,
   "metadata": {},
   "outputs": [
    {
     "name": "stdout",
     "output_type": "stream",
     "text": [
      "  Choice Time: 2.572774887084961 seconds \n",
      "  Choice Time: 0.16410183906555176 seconds \n",
      "  Choice Time: 0.006684303283691406 seconds \n",
      "  Choice Time: 0.0007719993591308594 seconds \n",
      "  Choice Time: 7.081031799316406e-05 seconds \n",
      "  Choice Time: 2.532865047454834 seconds \n",
      "  Choice Time: 0.14731168746948242 seconds \n",
      "  Choice Time: 0.010020017623901367 seconds \n",
      "  Choice Time: 2.549088954925537 seconds \n",
      "  Choice Time: 0.17021489143371582 seconds \n",
      "  Choice Time: 0.007784128189086914 seconds \n",
      "  Choice Time: 0.0006473064422607422 seconds \n",
      "  Choice Time: 2.530078411102295 seconds \n",
      "  Choice Time: 0.1370072364807129 seconds \n",
      "  Choice Time: 0.0028641223907470703 seconds \n",
      "  Choice Time: 2.5515668392181396 seconds \n",
      "  Choice Time: 0.14461898803710938 seconds \n",
      "  Choice Time: 0.007224082946777344 seconds \n",
      "  Choice Time: 0.0006101131439208984 seconds \n",
      "  Choice Time: 2.5883829593658447 seconds \n",
      "  Choice Time: 0.1966710090637207 seconds \n",
      "  Choice Time: 0.00590205192565918 seconds \n",
      "  Choice Time: 2.5538289546966553 seconds \n",
      "  Choice Time: 0.15867900848388672 seconds \n",
      "  Choice Time: 0.01047205924987793 seconds \n",
      "  Choice Time: 0.00026702880859375 seconds \n",
      "  Choice Time: 2.600389003753662 seconds \n",
      "  Choice Time: 0.1455228328704834 seconds \n",
      "  Choice Time: 0.011891841888427734 seconds \n",
      "  Choice Time: 0.0008680820465087891 seconds \n",
      "  Choice Time: 6.604194641113281e-05 seconds \n",
      "  Choice Time: 2.515216827392578 seconds \n",
      "  Choice Time: 0.20039606094360352 seconds \n",
      "  Choice Time: 0.005783796310424805 seconds \n",
      "  Choice Time: 2.498894691467285 seconds \n",
      "  Choice Time: 0.20217609405517578 seconds \n",
      "  Choice Time: 0.01168203353881836 seconds \n",
      "  Choice Time: 0.0009260177612304688 seconds \n",
      "  Choice Time: 5.984306335449219e-05 seconds \n"
     ]
    }
   ],
   "source": [
    "g=Game(number_of_testing_games)\n",
    "g.display=False\n",
    "result=g.run(minimax_agent,Q2_agent)"
   ]
  },
  {
   "cell_type": "code",
   "execution_count": 11,
   "metadata": {},
   "outputs": [
    {
     "name": "stdout",
     "output_type": "stream",
     "text": [
      "Total number of games:  10\n",
      "Winning 80.00 percent\n",
      "Losing 0.00 percent\n",
      "Tie 20.00 percent\n"
     ]
    }
   ],
   "source": [
    "g.report()"
   ]
  },
  {
   "cell_type": "code",
   "execution_count": 13,
   "metadata": {},
   "outputs": [],
   "source": [
    "g=Game(number_of_testing_games)\n",
    "g.display=False\n",
    "result=g.run(Q1_agent,minimax_agent)"
   ]
  },
  {
   "cell_type": "code",
   "execution_count": 14,
   "metadata": {},
   "outputs": [
    {
     "name": "stdout",
     "output_type": "stream",
     "text": [
      "Total number of games:  10\n",
      "Winning 0.00 percent\n",
      "Losing 0.00 percent\n",
      "Tie 100.00 percent\n"
     ]
    }
   ],
   "source": [
    "g.report()"
   ]
  },
  {
   "cell_type": "code",
   "execution_count": null,
   "metadata": {},
   "outputs": [],
   "source": []
  }
 ],
 "metadata": {
  "kernelspec": {
   "display_name": "Python 3",
   "language": "python",
   "name": "python3"
  },
  "language_info": {
   "codemirror_mode": {
    "name": "ipython",
    "version": 3
   },
   "file_extension": ".py",
   "mimetype": "text/x-python",
   "name": "python",
   "nbconvert_exporter": "python",
   "pygments_lexer": "ipython3",
   "version": "3.7.6"
  }
 },
 "nbformat": 4,
 "nbformat_minor": 4
}
