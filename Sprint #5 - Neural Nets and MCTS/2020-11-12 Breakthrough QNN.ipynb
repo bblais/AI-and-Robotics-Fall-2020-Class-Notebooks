{
 "cells": [
  {
   "cell_type": "code",
   "execution_count": 1,
   "metadata": {},
   "outputs": [
    {
     "name": "stdout",
     "output_type": "stream",
     "text": [
      "Populating the interactive namespace from numpy and matplotlib\n"
     ]
    }
   ],
   "source": [
    "%pylab inline"
   ]
  },
  {
   "cell_type": "code",
   "execution_count": 2,
   "metadata": {},
   "outputs": [
    {
     "name": "stdout",
     "output_type": "stream",
     "text": [
      "Version:  0.2.23\n"
     ]
    }
   ],
   "source": [
    "from breakthrough import *\n",
    "from tqdm import tqdm"
   ]
  },
  {
   "cell_type": "code",
   "execution_count": 3,
   "metadata": {},
   "outputs": [
    {
     "name": "stdout",
     "output_type": "stream",
     "text": [
      "Version  1.0.6\n",
      "nn 0 0 2\n"
     ]
    }
   ],
   "source": [
    "from nn import NumpyNetTable"
   ]
  },
  {
   "cell_type": "code",
   "execution_count": 4,
   "metadata": {},
   "outputs": [],
   "source": [
    "def all_possible_moves():\n",
    "    all_moves=[]\n",
    "    for start in range(9):\n",
    "        for end in range(9):\n",
    "            move=[start,end]\n",
    "            all_moves.append(move)\n",
    "            \n",
    "    return all_moves\n",
    "\n",
    "def state_to_X(state):  # this works for ints (like Nim)\n",
    "    import numpy as np\n",
    "    N2=len(state)\n",
    "    arr=np.zeros((1,N2))  # number of samples, size\n",
    "    for i in range(N2):\n",
    "        if state[i]==0:\n",
    "            arr[0,i]=0\n",
    "        elif state[i]==1:\n",
    "            arr[0,i]=1\n",
    "        elif state[i]==2:\n",
    "            arr[0,i]=-1\n",
    "                     \n",
    "    return arr"
   ]
  },
  {
   "cell_type": "code",
   "execution_count": 5,
   "metadata": {},
   "outputs": [
    {
     "name": "stdout",
     "output_type": "stream",
     "text": [
      "[[0, 0], [0, 1], [0, 2], [0, 3], [0, 4], [0, 5], [0, 6], [0, 7], [0, 8], [1, 0], [1, 1], [1, 2], [1, 3], [1, 4], [1, 5], [1, 6], [1, 7], [1, 8], [2, 0], [2, 1], [2, 2], [2, 3], [2, 4], [2, 5], [2, 6], [2, 7], [2, 8], [3, 0], [3, 1], [3, 2], [3, 3], [3, 4], [3, 5], [3, 6], [3, 7], [3, 8], [4, 0], [4, 1], [4, 2], [4, 3], [4, 4], [4, 5], [4, 6], [4, 7], [4, 8], [5, 0], [5, 1], [5, 2], [5, 3], [5, 4], [5, 5], [5, 6], [5, 7], [5, 8], [6, 0], [6, 1], [6, 2], [6, 3], [6, 4], [6, 5], [6, 6], [6, 7], [6, 8], [7, 0], [7, 1], [7, 2], [7, 3], [7, 4], [7, 5], [7, 6], [7, 7], [7, 8], [8, 0], [8, 1], [8, 2], [8, 3], [8, 4], [8, 5], [8, 6], [8, 7], [8, 8]]\n"
     ]
    }
   ],
   "source": [
    "print(all_possible_moves())"
   ]
  },
  {
   "cell_type": "code",
   "execution_count": 6,
   "metadata": {},
   "outputs": [
    {
     "name": "stdout",
     "output_type": "stream",
     "text": [
      " v  v  v \n",
      " .  .  . \n",
      " ^  ^  ^ \n",
      "\n",
      "[[-1. -1. -1.  0.  0.  0.  1.  1.  1.]]\n"
     ]
    }
   ],
   "source": [
    "state=initial_state()\n",
    "initial_X=state_to_X(state)\n",
    "all_moves=all_possible_moves()\n",
    "\n",
    "print(state)\n",
    "print(initial_X)"
   ]
  },
  {
   "cell_type": "code",
   "execution_count": 7,
   "metadata": {},
   "outputs": [],
   "source": [
    "Q=NumpyNetTable(state_to_X,all_possible_moves(),\n",
    "                {\n",
    "                    'input':initial_X.shape[1],               # number of inputs\n",
    "                    'hidden':[(5,'logistic'),],\n",
    "                    'output':(len(all_moves),'tanh'),  # number of moves\n",
    "                    'cost':'mse',\n",
    "                })"
   ]
  },
  {
   "cell_type": "code",
   "execution_count": 8,
   "metadata": {},
   "outputs": [
    {
     "data": {
      "text/plain": [
       "[array([0.6990665 , 0.35593546, 0.56040469, 0.71652136, 0.6070703 ]),\n",
       " array([-0.16600044, -0.19832271,  0.02599315, -0.71585346,  0.54748756,\n",
       "         0.58940062,  0.20303619, -0.13146142,  0.48970653,  0.81163953,\n",
       "        -0.28645909,  0.07375856,  0.53582004, -0.47025594, -0.56968982,\n",
       "        -0.50955089,  0.20588656,  0.28277989,  0.22687529,  0.00818831,\n",
       "        -0.32344849,  0.48275524,  0.00313068,  0.1833398 ,  0.31850547,\n",
       "         0.45729623,  0.04113618,  0.0827571 , -0.74278721,  0.46797676,\n",
       "         0.0620613 , -0.12454773, -0.58264144, -0.58649297, -0.19683037,\n",
       "        -0.48811236,  0.53425169, -0.41709602, -0.41228211, -0.51318347,\n",
       "         0.62353019,  0.49310205, -0.01833878,  0.12100295,  0.61409203,\n",
       "        -0.24485823, -0.47136688, -0.46300223,  0.3516533 , -0.41793764,\n",
       "         0.59417388, -0.44109482,  0.59876649,  0.05503878,  0.04630341,\n",
       "        -0.01328321, -0.77776032,  0.3810003 , -0.13662756, -0.21929538,\n",
       "        -0.25385393,  0.04658435, -0.59831566, -0.19372355,  0.30460584,\n",
       "         0.19888882,  0.31122184,  0.03746144,  0.04195255,  0.0524812 ,\n",
       "         0.2509623 , -0.35652569,  0.09130961, -0.60661433,  0.52767848,\n",
       "         0.01129399, -0.8722914 , -0.2402679 ,  0.65476889,  0.47912624,\n",
       "        -0.25676975])]"
      ]
     },
     "execution_count": 8,
     "metadata": {},
     "output_type": "execute_result"
    }
   ],
   "source": [
    "Q.output(state)"
   ]
  },
  {
   "cell_type": "code",
   "execution_count": 9,
   "metadata": {},
   "outputs": [
    {
     "data": {
      "text/plain": [
       "2"
      ]
     },
     "execution_count": 9,
     "metadata": {},
     "output_type": "execute_result"
    }
   ],
   "source": [
    "state[0]"
   ]
  },
  {
   "cell_type": "code",
   "execution_count": 10,
   "metadata": {},
   "outputs": [
    {
     "data": {
      "text/plain": [
       "1"
      ]
     },
     "execution_count": 10,
     "metadata": {},
     "output_type": "execute_result"
    }
   ],
   "source": [
    "len(initial_X)"
   ]
  },
  {
   "cell_type": "code",
   "execution_count": 11,
   "metadata": {},
   "outputs": [
    {
     "data": {
      "text/plain": [
       "{(0, 0): -0.16600043609778078,\n",
       " (0, 1): -0.19832270854310652,\n",
       " (0, 2): 0.025993149132542057,\n",
       " (0, 3): -0.7158534648216873,\n",
       " (0, 4): 0.5474875648718305,\n",
       " (0, 5): 0.5894006243790243,\n",
       " (0, 6): 0.2030361890872435,\n",
       " (0, 7): -0.1314614160224663,\n",
       " (0, 8): 0.4897065335131867,\n",
       " (1, 0): 0.8116395325203728,\n",
       " (1, 1): -0.28645909203954595,\n",
       " (1, 2): 0.07375855869599766,\n",
       " (1, 3): 0.5358200414201795,\n",
       " (1, 4): -0.4702559360963472,\n",
       " (1, 5): -0.5696898225056573,\n",
       " (1, 6): -0.5095508908291423,\n",
       " (1, 7): 0.20588655749499238,\n",
       " (1, 8): 0.28277989279270066,\n",
       " (2, 0): 0.2268752934591829,\n",
       " (2, 1): 0.008188309828864461,\n",
       " (2, 2): -0.32344849490916555,\n",
       " (2, 3): 0.48275523851693963,\n",
       " (2, 4): 0.0031306793957495884,\n",
       " (2, 5): 0.18333979590450747,\n",
       " (2, 6): 0.31850547471167495,\n",
       " (2, 7): 0.4572962291563598,\n",
       " (2, 8): 0.04113618083105317,\n",
       " (3, 0): 0.08275710078313007,\n",
       " (3, 1): -0.7427872062437548,\n",
       " (3, 2): 0.46797676156402895,\n",
       " (3, 3): 0.062061297314373265,\n",
       " (3, 4): -0.12454772723279606,\n",
       " (3, 5): -0.5826414352943142,\n",
       " (3, 6): -0.5864929688840925,\n",
       " (3, 7): -0.196830369529962,\n",
       " (3, 8): -0.48811236278735715,\n",
       " (4, 0): 0.5342516923743675,\n",
       " (4, 1): -0.4170960231727505,\n",
       " (4, 2): -0.4122821097814449,\n",
       " (4, 3): -0.5131834664897182,\n",
       " (4, 4): 0.6235301872278607,\n",
       " (4, 5): 0.49310204676167707,\n",
       " (4, 6): -0.018338780649871638,\n",
       " (4, 7): 0.12100294557209659,\n",
       " (4, 8): 0.6140920281945802,\n",
       " (5, 0): -0.2448582295804617,\n",
       " (5, 1): -0.4713668838605331,\n",
       " (5, 2): -0.46300222985671263,\n",
       " (5, 3): 0.35165330053728155,\n",
       " (5, 4): -0.4179376406101347,\n",
       " (5, 5): 0.594173878063032,\n",
       " (5, 6): -0.4410948221090928,\n",
       " (5, 7): 0.598766494338064,\n",
       " (5, 8): 0.05503877729314451,\n",
       " (6, 0): 0.046303407407779204,\n",
       " (6, 1): -0.013283208111747026,\n",
       " (6, 2): -0.7777603218880486,\n",
       " (6, 3): 0.38100030207440766,\n",
       " (6, 4): -0.13662756183338942,\n",
       " (6, 5): -0.21929537953641107,\n",
       " (6, 6): -0.25385392632464415,\n",
       " (6, 7): 0.04658434794783656,\n",
       " (6, 8): -0.5983156617700871,\n",
       " (7, 0): -0.19372354721264723,\n",
       " (7, 1): 0.30460584275652475,\n",
       " (7, 2): 0.19888881896250762,\n",
       " (7, 3): 0.3112218407014867,\n",
       " (7, 4): 0.03746143568195988,\n",
       " (7, 5): 0.04195255268489177,\n",
       " (7, 6): 0.05248120288963962,\n",
       " (7, 7): 0.25096230369412087,\n",
       " (7, 8): -0.356525692488045,\n",
       " (8, 0): 0.09130961114150761,\n",
       " (8, 1): -0.6066143306892732,\n",
       " (8, 2): 0.5276784759553332,\n",
       " (8, 3): 0.011293990315280562,\n",
       " (8, 4): -0.8722914006037091,\n",
       " (8, 5): -0.24026789914714222,\n",
       " (8, 6): 0.6547688912283963,\n",
       " (8, 7): 0.4791262411753573,\n",
       " (8, 8): -0.2567697517577676}"
      ]
     },
     "execution_count": 11,
     "metadata": {},
     "output_type": "execute_result"
    }
   ],
   "source": [
    "Q[state]"
   ]
  },
  {
   "cell_type": "code",
   "execution_count": 12,
   "metadata": {},
   "outputs": [],
   "source": [
    "target=[]\n",
    "actual_moves=valid_moves(state,1)\n",
    "for i,move in enumerate(all_moves):\n",
    "    if move in actual_moves:  # keep the old values for valid moves\n",
    "        target.append(1)\n",
    "    else:\n",
    "        target.append(-1)  # lose with illegal move"
   ]
  },
  {
   "cell_type": "code",
   "execution_count": 13,
   "metadata": {},
   "outputs": [
    {
     "data": {
      "text/plain": [
       "array([-1, -1, -1, -1, -1, -1, -1, -1, -1, -1, -1, -1, -1, -1, -1, -1, -1,\n",
       "       -1, -1, -1, -1, -1, -1, -1, -1, -1, -1, -1, -1, -1, -1, -1, -1, -1,\n",
       "       -1, -1, -1, -1, -1, -1, -1, -1, -1, -1, -1, -1, -1, -1, -1, -1, -1,\n",
       "       -1, -1, -1, -1, -1, -1,  1, -1, -1, -1, -1, -1, -1, -1, -1, -1,  1,\n",
       "       -1, -1, -1, -1, -1, -1, -1, -1, -1,  1, -1, -1, -1])"
      ]
     },
     "execution_count": 13,
     "metadata": {},
     "output_type": "execute_result"
    }
   ],
   "source": [
    "np.array(target)"
   ]
  },
  {
   "cell_type": "code",
   "execution_count": 14,
   "metadata": {},
   "outputs": [],
   "source": [
    "Q[state]=target"
   ]
  },
  {
   "cell_type": "code",
   "execution_count": 15,
   "metadata": {},
   "outputs": [
    {
     "data": {
      "text/plain": [
       "{(0, 0): -0.16774551274516386,\n",
       " (0, 1): -0.20029976940943997,\n",
       " (0, 2): 0.02330858854981336,\n",
       " (0, 3): -0.7140897270437893,\n",
       " (0, 4): 0.5439651065852462,\n",
       " (0, 5): 0.5857223435945801,\n",
       " (0, 6): 0.19913704767528698,\n",
       " (0, 7): -0.1339367938919547,\n",
       " (0, 8): 0.48567797260634943,\n",
       " (1, 0): 0.8095021675895784,\n",
       " (1, 1): -0.28776251410192005,\n",
       " (1, 2): 0.0704974100811286,\n",
       " (1, 3): 0.5322415955483655,\n",
       " (1, 4): -0.46964753675539184,\n",
       " (1, 5): -0.5685884099999599,\n",
       " (1, 6): -0.5084870091489231,\n",
       " (1, 7): 0.20251511234577713,\n",
       " (1, 8): 0.278526782416033,\n",
       " (2, 0): 0.22290566362685593,\n",
       " (2, 1): 0.004929272321059819,\n",
       " (2, 2): -0.3240365108110317,\n",
       " (2, 3): 0.47903206304554247,\n",
       " (2, 4): -5.5649973241233415e-05,\n",
       " (2, 5): 0.1800685980131901,\n",
       " (2, 6): 0.31446256446224197,\n",
       " (2, 7): 0.45376193381430974,\n",
       " (2, 8): 0.038044583315231,\n",
       " (3, 0): 0.07881685844676217,\n",
       " (3, 1): -0.7410707808619112,\n",
       " (3, 2): 0.4646809083096397,\n",
       " (3, 3): 0.05864330633269561,\n",
       " (3, 4): -0.12702903879687702,\n",
       " (3, 5): -0.5817471530252594,\n",
       " (3, 6): -0.5849794267572789,\n",
       " (3, 7): -0.19878488529935956,\n",
       " (3, 8): -0.4878286803086554,\n",
       " (4, 0): 0.5304797602698114,\n",
       " (4, 1): -0.41681740089172725,\n",
       " (4, 2): -0.4122372065888379,\n",
       " (4, 3): -0.5126759823694673,\n",
       " (4, 4): 0.6203437568455221,\n",
       " (4, 5): 0.4893184887979066,\n",
       " (4, 6): -0.02095143003359939,\n",
       " (4, 7): 0.11784037162516003,\n",
       " (4, 8): 0.6106967900650346,\n",
       " (5, 0): -0.24613455331674175,\n",
       " (5, 1): -0.4709447074300132,\n",
       " (5, 2): -0.46238528254262296,\n",
       " (5, 3): 0.348118567192983,\n",
       " (5, 4): -0.4175821102086222,\n",
       " (5, 5): 0.5912090039839234,\n",
       " (5, 6): -0.4405500459930539,\n",
       " (5, 7): 0.5954786142084972,\n",
       " (5, 8): 0.05182584820548518,\n",
       " (6, 0): 0.04276536422636161,\n",
       " (6, 1): -0.016090487668637327,\n",
       " (6, 2): -0.7762064424675608,\n",
       " (6, 3): 0.380939948583818,\n",
       " (6, 4): -0.1388994710911254,\n",
       " (6, 5): -0.22058398502304039,\n",
       " (6, 6): -0.2548757578791029,\n",
       " (6, 7): 0.04334496164276199,\n",
       " (6, 8): -0.5969796597772434,\n",
       " (7, 0): -0.19524630912712962,\n",
       " (7, 1): 0.3011271693626306,\n",
       " (7, 2): 0.19507714073698929,\n",
       " (7, 3): 0.3079453237837882,\n",
       " (7, 4): 0.03987510643321201,\n",
       " (7, 5): 0.03854334879697659,\n",
       " (7, 6): 0.04941914633782874,\n",
       " (7, 7): 0.24683197009980906,\n",
       " (7, 8): -0.3566129109600052,\n",
       " (8, 0): 0.0881226758173456,\n",
       " (8, 1): -0.6053056671695367,\n",
       " (8, 2): 0.5241048289840241,\n",
       " (8, 3): 0.008656320321566938,\n",
       " (8, 4): -0.8710532231128622,\n",
       " (8, 5): -0.2363550374604487,\n",
       " (8, 6): 0.6517202014653236,\n",
       " (8, 7): 0.475528346088667,\n",
       " (8, 8): -0.2583450125624998}"
      ]
     },
     "execution_count": 15,
     "metadata": {},
     "output_type": "execute_result"
    }
   ],
   "source": [
    "Q[state]"
   ]
  },
  {
   "cell_type": "code",
   "execution_count": null,
   "metadata": {},
   "outputs": [],
   "source": []
  },
  {
   "cell_type": "code",
   "execution_count": null,
   "metadata": {},
   "outputs": [],
   "source": []
  },
  {
   "cell_type": "code",
   "execution_count": null,
   "metadata": {},
   "outputs": [],
   "source": []
  },
  {
   "cell_type": "code",
   "execution_count": null,
   "metadata": {},
   "outputs": [],
   "source": []
  },
  {
   "cell_type": "code",
   "execution_count": 16,
   "metadata": {},
   "outputs": [],
   "source": [
    "def QNN_move(state,player,info):\n",
    "    Q=info.Q\n",
    "    last_action=info.last_action\n",
    "    last_state=info.last_state\n",
    "    \n",
    "    alpha=info.alpha  # learning rate\n",
    "    gamma=info.gamma  # memory \n",
    "    epsilon=info.epsilon  # probability of doing random move\n",
    "    \n",
    "    new_state=state\n",
    "    new_actual_moves=valid_moves(new_state,player)\n",
    "    new_action_values=Q[new_state]\n",
    "    new_values=[new_action_values[move] for move in new_actual_moves] \n",
    "    \n",
    "    if random.random()<epsilon:  # random move\n",
    "        action=random_choice(new_actual_moves)\n",
    "    else:\n",
    "        action=top_choice(new_actual_moves,weights=new_values)\n",
    "            \n",
    "            \n",
    "#         # Ask the model for the Q values of the old state (inference)\n",
    "#         old_state_Q_values = self.get_Q(old_state)\n",
    "\n",
    "#         # Ask the model for the Q values of the new state (inference)\n",
    "#         new_state_Q_values = self.get_Q(new_state)\n",
    "\n",
    "#         # Real Q value for the action we took. This is what we will train towards.\n",
    "#         old_state_Q_values[action] = reward + self.discount * np.amax(new_state_Q_values)\n",
    "        \n",
    "    if alpha==0:  # no learning\n",
    "        return action\n",
    "\n",
    "    if not last_action is None:  # anything but the first move\n",
    "        r=0.0  # no reward middle of game\n",
    "        possible_moves=Q.all_moves\n",
    "        \n",
    "        old_state=last_state\n",
    "\n",
    "        old_actual_moves=valid_moves(old_state,player)\n",
    "        old_action_values=Q[old_state]\n",
    "        old_values=[old_action_values[move] for move in old_actual_moves] \n",
    "        \n",
    "        \n",
    "        target=[]\n",
    "        for i,move in enumerate(possible_moves):\n",
    "            if move==last_action:\n",
    "                target.append(r + gamma*max(new_values))  # max of actually available values\n",
    "            elif move in old_actual_moves:  # keep the old values for valid moves\n",
    "                target.append(old_action_values[move])\n",
    "            else:\n",
    "                target.append(-1)  # lose with illegal move\n",
    "\n",
    "        Q[old_state]=target\n",
    "        \n",
    "    return action\n",
    "\n",
    "def QNN_post(status,player,info):\n",
    "    Q=info.Q\n",
    "    last_action=info.last_action\n",
    "    last_state=info.last_state\n",
    "    \n",
    "    alpha=info.alpha  # learning rate\n",
    "    gamma=info.gamma  # memory \n",
    "    epsilon=info.epsilon  # probability of doing random move\n",
    "\n",
    "    if alpha==0.0:  # no update if not learning\n",
    "        return\n",
    "    \n",
    "    if status=='lose':\n",
    "        r=-1.0\n",
    "    elif status=='win':\n",
    "        r=1.0\n",
    "    elif status=='stalemate':\n",
    "        r=0.5\n",
    "    else:\n",
    "        r=0.0\n",
    "        \n",
    "    if not last_action is None:  # anything but the first move\n",
    "        possible_moves=Q.all_moves\n",
    "        old_state=last_state\n",
    "\n",
    "        old_actual_moves=valid_moves(old_state,player)\n",
    "        old_action_values=Q[old_state]\n",
    "        old_values=[old_action_values[move] for move in old_actual_moves] \n",
    "        \n",
    "        \n",
    "        target=[]\n",
    "        for i,move in enumerate(possible_moves):\n",
    "            if move==last_action:\n",
    "                target.append(r)  # just the reward\n",
    "            elif move in old_actual_moves:  # keep the old values for valid moves\n",
    "                target.append(old_action_values[move])\n",
    "            else:\n",
    "                target.append(-1)  # lose with illegal move\n",
    "\n",
    "        Q[old_state]=target\n"
   ]
  },
  {
   "cell_type": "code",
   "execution_count": 23,
   "metadata": {},
   "outputs": [],
   "source": [
    "Q1_agent=Agent(QNN_move)\n",
    "Q1_agent.post=QNN_post\n",
    "\n",
    "Q1_agent.alpha=0.03  # learning rate\n",
    "Q1_agent.gamma=0.9  # memory\n",
    "Q1_agent.epsilon=0.1  # chance of making a random move\n",
    "\n",
    "Q1_agent.original_alpha=Q1_agent.alpha\n",
    "\n",
    "Q2_agent=Agent(QNN_move)\n",
    "Q2_agent.post=QNN_post\n",
    "\n",
    "Q2_agent.alpha=0.03  # learning rate\n",
    "Q2_agent.gamma=0.9  # memory\n",
    "Q2_agent.epsilon=0.1  # chance of making a random move\n",
    "\n",
    "Q2_agent.original_alpha=Q2_agent.alpha\n"
   ]
  },
  {
   "cell_type": "markdown",
   "metadata": {},
   "source": [
    "### set the Q tables for the agents"
   ]
  },
  {
   "cell_type": "code",
   "execution_count": 27,
   "metadata": {},
   "outputs": [
    {
     "name": "stdout",
     "output_type": "stream",
     "text": [
      " v  v  v \n",
      " .  .  . \n",
      " ^  ^  ^ \n",
      "\n",
      "[[-1. -1. -1.  0.  0.  0.  1.  1.  1.]]\n"
     ]
    }
   ],
   "source": [
    "state=initial_state()\n",
    "initial_X=state_to_X(state)\n",
    "all_moves=all_possible_moves()\n",
    "\n",
    "print(state)\n",
    "print(initial_X)\n",
    "\n",
    "Q1_agent.Q=NumpyNetTable(state_to_X,all_possible_moves(),\n",
    "                {\n",
    "                    'input':initial_X.shape[1],               # number of inputs\n",
    "                    'hidden':[(5,'logistic'),],\n",
    "                    'output':(len(all_moves),'tanh'),  # number of moves\n",
    "                    'cost':'mse',\n",
    "                },\n",
    "                        verbose=False)\n",
    "\n",
    "Q2_agent.Q=NumpyNetTable(state_to_X,all_possible_moves(),\n",
    "                {\n",
    "                    'input':initial_X.shape[1],               # number of inputs\n",
    "                    'hidden':[(5,'logistic'),],\n",
    "                    'output':(len(all_moves),'tanh'),  # number of moves\n",
    "                    'cost':'mse',\n",
    "                },\n",
    "                        verbose=False)\n",
    "\n",
    "# initialize things\n",
    "Q1_agent.Q[state]=[0]*len(all_possible_moves())\n",
    "Q2_agent.Q[state]=[0]*len(all_possible_moves())\n"
   ]
  },
  {
   "cell_type": "code",
   "execution_count": 28,
   "metadata": {},
   "outputs": [
    {
     "name": "stderr",
     "output_type": "stream",
     "text": [
      "100%|██████████| 100/100 [04:06<00:00,  2.46s/it]\n"
     ]
    }
   ],
   "source": [
    "\n",
    "\n",
    "W=[]\n",
    "L=[]\n",
    "T=[]\n",
    "\n",
    "n=[]\n",
    "games_per_epoch=100\n",
    "number_of_epochs=100\n",
    "number_of_epochs_to_explore=50\n",
    "total_games=0\n",
    "\n",
    "for epoch in tqdm(range(number_of_epochs)):\n",
    "    \n",
    "    # ramp down the randomness over time\n",
    "    epsilon=1-epoch/number_of_epochs_to_explore\n",
    "    if epsilon<0:\n",
    "        epsilon=0\n",
    "    \n",
    "    \n",
    "    # train with learning\n",
    "    Q1_agent.epsilon=0.1\n",
    "    Q1_agent.alpha=0.03\n",
    "    Q2_agent.epsilon=0.1\n",
    "    Q2_agent.alpha=0.03\n",
    "    g=Game(number_of_games=games_per_epoch)\n",
    "    g.display=False\n",
    "    result=g.run(Q1_agent,Q2_agent)\n",
    "\n",
    "    # test with no learning\n",
    "    Q1_agent.epsilon=0.0\n",
    "    Q1_agent.alpha=0.0\n",
    "    Q2_agent.epsilon=0.0\n",
    "    Q2_agent.alpha=0.0\n",
    "    g=Game(number_of_games=100)\n",
    "    g.display=False\n",
    "    \n",
    "    result=g.run(random_agent,Q2_agent)    \n",
    "    percent_wins=sum([_==1 for _ in result])/len(result)*100\n",
    "    percent_losses=sum([_==2 for _ in result])/len(result)*100\n",
    "    percent_ties=sum([_==0 for _ in result])/len(result)*100\n",
    "    percent_broken=sum([_==3 for _ in result])/len(result)*100\n",
    "    \n",
    "    assert percent_broken==0.0\n",
    "\n",
    "    total_games+=games_per_epoch\n",
    "    \n",
    "    \n",
    "    n.append(total_games)\n",
    "    W.append(percent_wins)\n",
    "    L.append(percent_losses)\n",
    "    T.append(percent_ties)\n",
    "    \n",
    "    #print('%.2f' % percent_wins,\" \",end=\"\")"
   ]
  },
  {
   "cell_type": "code",
   "execution_count": 29,
   "metadata": {},
   "outputs": [
    {
     "data": {
      "text/plain": [
       "<matplotlib.legend.Legend at 0x7fa14034fc10>"
      ]
     },
     "execution_count": 29,
     "metadata": {},
     "output_type": "execute_result"
    },
    {
     "data": {
      "image/png": "[encoded data removed]",
      "text/plain": [
       "<Figure size 720x576 with 1 Axes>"
      ]
     },
     "metadata": {
      "needs_background": "light"
     },
     "output_type": "display_data"
    }
   ],
   "source": [
    "figure(figsize=(10,8))\n",
    "plot(n,W,'-o',label='Player 1 Wins')\n",
    "plot(n,L,'-o',label='Player 2 Wins')\n",
    "plot(n,T,'-o',label='Ties')\n",
    "title('random vs Q')\n",
    "legend()"
   ]
  },
  {
   "cell_type": "code",
   "execution_count": null,
   "metadata": {},
   "outputs": [],
   "source": []
  }
 ],
 "metadata": {
  "kernelspec": {
   "display_name": "Python 3",
   "language": "python",
   "name": "python3"
  },
  "language_info": {
   "codemirror_mode": {
    "name": "ipython",
    "version": 3
   },
   "file_extension": ".py",
   "mimetype": "text/x-python",
   "name": "python",
   "nbconvert_exporter": "python",
   "pygments_lexer": "ipython3",
   "version": "3.7.7"
  }
 },
 "nbformat": 4,
 "nbformat_minor": 4
}
