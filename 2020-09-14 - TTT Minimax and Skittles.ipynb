{
 "cells": [
  {
   "cell_type": "code",
   "execution_count": 2,
   "metadata": {},
   "outputs": [
    {
     "name": "stdout",
     "output_type": "stream",
     "text": [
      "Version:  0.2.20\n"
     ]
    }
   ],
   "source": [
    "from Game import *"
   ]
  },
  {
   "cell_type": "markdown",
   "metadata": {},
   "source": [
    "## Rules of the Game"
   ]
  },
  {
   "cell_type": "code",
   "execution_count": 3,
   "metadata": {},
   "outputs": [],
   "source": [
    "def initial_state():\n",
    "    board=Board(3,3)\n",
    "    board.pieces=['.','X','O']\n",
    "    return board\n",
    "\n",
    "def show_state(state):\n",
    "    print(state)\n",
    "    \n",
    "def valid_moves(state,player):  # returns a list of all of the possible moves given a state\n",
    "    moves=[]\n",
    "    \n",
    "    for i in range(9):\n",
    "        if state[i]==0:\n",
    "            moves.append(i)\n",
    "    \n",
    "    return moves\n",
    "    \n",
    "def update_state(state,player,move):\n",
    "    \n",
    "    new_state=state\n",
    "    state[move]=player\n",
    "    \n",
    "    return new_state\n",
    "\n",
    "def win_status(state,player):\n",
    "    # \"win\" if the player wins\n",
    "    # \"lose\" if the player loses\n",
    "    # \"stalemate\" if a tie\n",
    "    # None if the game continues\n",
    "    \n",
    "    # 0 1 2\n",
    "    # 3 4 5\n",
    "    # 6 7 8\n",
    "    \n",
    "    if state[0]==player and state[1]==player and state[2]==player:\n",
    "        return \"win\"\n",
    "    if state[3]==player and state[4]==player and state[5]==player:\n",
    "        return \"win\"\n",
    "    if state[6]==player and state[7]==player and state[8]==player:\n",
    "        return \"win\"\n",
    "    if state[0]==player and state[3]==player and state[6]==player:\n",
    "        return \"win\"\n",
    "    if state[1]==player and state[4]==player and state[7]==player:\n",
    "        return \"win\"\n",
    "    if state[2]==player and state[5]==player and state[8]==player:\n",
    "        return \"win\"\n",
    "    if state[0]==player and state[4]==player and state[8]==player:\n",
    "        return \"win\"\n",
    "    if state[6]==player and state[4]==player and state[2]==player:\n",
    "        return \"win\"\n",
    "    \n",
    "    if player==1:\n",
    "        other_player=2\n",
    "    else:\n",
    "        other_player=1\n",
    "        \n",
    "        \n",
    "    if not valid_moves(state,other_player):\n",
    "        return \"stalemate\"\n",
    "    \n",
    "    \n",
    "    return None\n",
    "    "
   ]
  },
  {
   "cell_type": "markdown",
   "metadata": {},
   "source": [
    "## Agents"
   ]
  },
  {
   "cell_type": "code",
   "execution_count": 4,
   "metadata": {},
   "outputs": [],
   "source": [
    "def human_move(state,player):\n",
    "    print(\"\"\"\n",
    "     0 1 2\n",
    "     3 4 5\n",
    "     6 7 8\n",
    "    \"\"\")\n",
    "    \n",
    "    move=int(input(\"What move?\"))\n",
    "    \n",
    "    return move\n",
    "\n",
    "human_agent=Agent(human_move)"
   ]
  },
  {
   "cell_type": "code",
   "execution_count": 5,
   "metadata": {},
   "outputs": [],
   "source": [
    "def random_move(state,player):\n",
    "    possible_moves=valid_moves(state,player)\n",
    "    move=random.choice(possible_moves)\n",
    "    return move\n",
    "\n",
    "\n",
    "random_agent=Agent(random_move)"
   ]
  },
  {
   "cell_type": "code",
   "execution_count": 6,
   "metadata": {},
   "outputs": [],
   "source": [
    "from Game.minimax import *\n",
    "def minimax_move(state,player):\n",
    "\n",
    "    values,moves=minimax_values(state,player,display=True)\n",
    "    return top_choice(moves,values)\n",
    "\n",
    "\n",
    "minimax_agent=Agent(minimax_move)"
   ]
  },
  {
   "cell_type": "code",
   "execution_count": 7,
   "metadata": {},
   "outputs": [],
   "source": [
    "def skittles_move(state,player,info):\n",
    "    S=info.S\n",
    "    last_action=info.last_action\n",
    "    last_state=info.last_state\n",
    "    \n",
    "    \n",
    "    # if Ive never seen this state before\n",
    "    if not state in S:\n",
    "        actions=valid_moves(state,player)\n",
    "\n",
    "        S[state]=Table()\n",
    "        for action in actions:\n",
    "            S[state][action]=3     \n",
    "    \n",
    "    move=weighted_choice(S[state])  # weighted across actions\n",
    "    \n",
    "    # what if there are no skittles for a particular state?\n",
    "    # move is None in that case\n",
    "    \n",
    "    if move is None:\n",
    "        # learn a little bit\n",
    "        if last_state:\n",
    "            S[last_state][last_action]=S[last_state][last_action]-1\n",
    "            if S[last_state][last_action]<0:\n",
    "                S[last_state][last_action]=0\n",
    "        \n",
    "        move=random_move(state,player)\n",
    "    \n",
    "    return move\n",
    "\n",
    "def skittles_after(status,player,info):\n",
    "    S=info.S\n",
    "    last_action=info.last_action\n",
    "    last_state=info.last_state\n",
    "\n",
    "    if status=='lose':\n",
    "        # learn a little bit\n",
    "        S[last_state][last_action]=S[last_state][last_action]-1\n",
    "        if S[last_state][last_action]<0:\n",
    "            S[last_state][last_action]=0\n",
    "        \n",
    "    \n",
    "\n",
    "\n",
    "skittles_agent=Agent(skittles_move)\n",
    "skittles_agent.S=Table()\n",
    "skittles_agent.post=skittles_after\n",
    "\n",
    "\n",
    "skittles_agent2=Agent(skittles_move)\n",
    "skittles_agent2.S=Table()\n",
    "skittles_agent2.post=skittles_after"
   ]
  },
  {
   "cell_type": "code",
   "execution_count": null,
   "metadata": {},
   "outputs": [],
   "source": []
  },
  {
   "cell_type": "code",
   "execution_count": 8,
   "metadata": {},
   "outputs": [
    {
     "name": "stdout",
     "output_type": "stream",
     "text": [
      "====\n",
      "Game  1\n",
      " .  .  . \n",
      " .  .  . \n",
      " .  .  . \n",
      "\n",
      "  Choice Time: 2.5981240272521973 seconds \n",
      "Player 1 moves 3\n",
      " .  .  . \n",
      " X  .  . \n",
      " .  .  . \n",
      "\n",
      "Player 2 moves 5\n",
      " .  .  . \n",
      " X  .  O \n",
      " .  .  . \n",
      "\n",
      "  Choice Time: 0.16729092597961426 seconds \n",
      "Player 1 moves 6\n",
      " .  .  . \n",
      " X  .  O \n",
      " X  .  . \n",
      "\n",
      "Player 2 moves 8\n",
      " .  .  . \n",
      " X  .  O \n",
      " X  .  O \n",
      "\n",
      "  Choice Time: 0.004871368408203125 seconds \n",
      "Player 1 moves 0\n",
      " X  .  . \n",
      " X  .  O \n",
      " X  .  O \n",
      "\n",
      "Player  1 won.\n"
     ]
    },
    {
     "data": {
      "text/plain": [
       "[1]"
      ]
     },
     "execution_count": 8,
     "metadata": {},
     "output_type": "execute_result"
    }
   ],
   "source": [
    "g=Game()\n",
    "g.run(minimax_agent,skittles_agent)"
   ]
  },
  {
   "cell_type": "code",
   "execution_count": 9,
   "metadata": {},
   "outputs": [
    {
     "data": {
      "text/plain": [
       "{(0, 0, 0, 1, 0, 0, 0, 0, 0): {0: 3, 1: 3, 2: 3, 4: 3, 5: 3, 6: 3, 7: 3, 8: 3},\n",
       " (0, 0, 0, 1, 0, 2, 1, 0, 0): {0: 3, 1: 3, 2: 3, 4: 3, 7: 3, 8: 2}}"
      ]
     },
     "execution_count": 9,
     "metadata": {},
     "output_type": "execute_result"
    }
   ],
   "source": [
    "skittles_agent.S"
   ]
  },
  {
   "cell_type": "code",
   "execution_count": null,
   "metadata": {},
   "outputs": [],
   "source": []
  },
  {
   "cell_type": "code",
   "execution_count": 12,
   "metadata": {},
   "outputs": [
    {
     "name": "stdout",
     "output_type": "stream",
     "text": [
      "Total number of games:  100\n",
      "Winning 64.00 percent\n",
      "Losing 26.00 percent\n",
      "Tie 10.00 percent\n"
     ]
    }
   ],
   "source": [
    "g=Game(100)\n",
    "g.display=False\n",
    "result=g.run(skittles_agent,skittles_agent2)\n",
    "g.report()"
   ]
  },
  {
   "cell_type": "code",
   "execution_count": 14,
   "metadata": {},
   "outputs": [],
   "source": [
    "SaveTable(skittles_agent.S,\"ttt player 1 skittles.json\")\n",
    "SaveTable(skittles_agent2.S,\"ttt player 2 skittles.json\")"
   ]
  },
  {
   "cell_type": "code",
   "execution_count": 26,
   "metadata": {},
   "outputs": [
    {
     "name": "stdout",
     "output_type": "stream",
     "text": [
      "590 273 137\n",
      "599 284 117\n",
      "612 260 128\n",
      "582 296 122\n",
      "620 243 137\n",
      "597 273 130\n",
      "600 268 132\n",
      "633 245 122\n",
      "613 253 134\n",
      "647 220 133\n",
      "640 221 139\n",
      "640 242 118\n",
      "655 205 140\n",
      "649 232 119\n",
      "677 207 116\n",
      "660 208 132\n",
      "662 198 140\n",
      "669 204 127\n",
      "677 201 122\n",
      "693 180 127\n",
      "675 197 128\n",
      "692 199 109\n",
      "729 156 115\n",
      "701 138 161\n",
      "692 185 123\n",
      "714 150 136\n",
      "711 159 130\n",
      "723 144 133\n",
      "724 139 137\n",
      "727 148 125\n",
      "725 140 135\n",
      "729 133 138\n",
      "732 113 155\n",
      "743 122 135\n",
      "734 143 123\n",
      "755 113 132\n",
      "737 114 149\n",
      "753 112 135\n",
      "766 108 126\n",
      "769 91 140\n",
      "772 90 138\n",
      "774 96 130\n",
      "761 95 144\n",
      "782 80 138\n",
      "784 80 136\n",
      "773 82 145\n",
      "793 66 141\n",
      "761 76 163\n",
      "784 66 150\n",
      "795 62 143\n",
      "804 47 149\n",
      "800 54 146\n",
      "813 57 130\n",
      "783 61 156\n",
      "808 47 145\n",
      "804 41 155\n",
      "804 48 148\n",
      "798 57 145\n",
      "809 38 153\n",
      "811 35 154\n",
      "830 26 144\n",
      "817 45 138\n",
      "819 28 153\n",
      "797 37 166\n",
      "813 35 152\n",
      "820 34 146\n",
      "811 15 174\n",
      "805 25 170\n",
      "818 33 149\n",
      "835 15 150\n",
      "818 17 165\n",
      "829 10 161\n",
      "817 14 169\n",
      "832 9 159\n",
      "825 13 162\n",
      "828 8 164\n",
      "821 15 164\n",
      "813 13 174\n",
      "814 10 176\n",
      "819 11 170\n",
      "826 10 164\n",
      "834 8 158\n",
      "809 5 186\n",
      "851 7 142\n",
      "830 10 160\n",
      "837 12 151\n",
      "831 9 160\n",
      "823 9 168\n",
      "831 6 163\n",
      "841 7 152\n",
      "799 7 194\n",
      "833 4 163\n",
      "829 6 165\n",
      "823 10 167\n",
      "831 6 163\n",
      "840 4 156\n",
      "865 7 128\n",
      "841 6 153\n",
      "838 6 156\n",
      "837 1 162\n"
     ]
    }
   ],
   "source": [
    "number_of_batches=100\n",
    "wins=[]\n",
    "losses=[]\n",
    "ties=[]\n",
    "skittles_agent.S=Table()\n",
    "for i in range(number_of_batches):\n",
    "    N=1000\n",
    "    g=Game(N)\n",
    "    g.display=False\n",
    "    result=g.run(skittles_agent,random_agent)\n",
    "    wins.append(sum([r==1 for r in result]))\n",
    "    losses.append(sum([r==2 for r in result]))\n",
    "    ties.append(sum([r==0 for r in result]))\n",
    "    print(wins[-1],losses[-1],ties[-1])"
   ]
  },
  {
   "cell_type": "code",
   "execution_count": null,
   "metadata": {},
   "outputs": [],
   "source": []
  }
 ],
 "metadata": {
  "kernelspec": {
   "display_name": "Python 3",
   "language": "python",
   "name": "python3"
  },
  "language_info": {
   "codemirror_mode": {
    "name": "ipython",
    "version": 3
   },
   "file_extension": ".py",
   "mimetype": "text/x-python",
   "name": "python",
   "nbconvert_exporter": "python",
   "pygments_lexer": "ipython3",
   "version": "3.7.6"
  }
 },
 "nbformat": 4,
 "nbformat_minor": 4
}
