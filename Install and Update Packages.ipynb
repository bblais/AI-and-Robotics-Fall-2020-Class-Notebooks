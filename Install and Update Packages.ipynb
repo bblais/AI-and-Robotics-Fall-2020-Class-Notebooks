{
 "cells": [
  {
   "cell_type": "markdown",
   "metadata": {},
   "source": [
    "## Sprint #1"
   ]
  },
  {
   "cell_type": "code",
   "execution_count": 3,
   "metadata": {},
   "outputs": [
    {
     "name": "stdout",
     "output_type": "stream",
     "text": [
      "Collecting git+git://github.com/bblais/Game\n",
      "  Cloning git://github.com/bblais/Game to /Users/bblais/tmp/pip-req-build-wuord_3s\n",
      "Building wheels for collected packages: Game\n",
      "  Building wheel for Game (setup.py) ... \u001b[?25ldone\n",
      "\u001b[?25h  Created wheel for Game: filename=Game-0.2.23-py3-none-any.whl size=15431 sha256=57e9ca75c7e51cbc9f20648a6d61185204438f5fe96b1a93632529aafec25091\n",
      "  Stored in directory: /Users/bblais/tmp/pip-ephem-wheel-cache-fxny79vc/wheels/6b/ec/ac/2b0b658b2f9da04c5bd43cef51e163a1f1eb7d3045cf82bd20\n",
      "Successfully built Game\n",
      "Installing collected packages: Game\n",
      "  Attempting uninstall: Game\n",
      "    Found existing installation: Game 0.2.23\n",
      "    Uninstalling Game-0.2.23:\n",
      "      Successfully uninstalled Game-0.2.23\n",
      "Successfully installed Game-0.2.23\n"
     ]
    }
   ],
   "source": [
    "!pip install \"git+git://github.com/bblais/Game\" --upgrade"
   ]
  },
  {
   "cell_type": "markdown",
   "metadata": {},
   "source": [
    "## Sprint #2"
   ]
  },
  {
   "cell_type": "code",
   "execution_count": 4,
   "metadata": {},
   "outputs": [
    {
     "name": "stdout",
     "output_type": "stream",
     "text": [
      "Requirement already satisfied: box2d in /Users/bblais/opt/anaconda3/envs/py3/lib/python3.7/site-packages (2.3.10)\n"
     ]
    }
   ],
   "source": [
    "!pip install box2d"
   ]
  },
  {
   "cell_type": "code",
   "execution_count": 5,
   "metadata": {},
   "outputs": [
    {
     "name": "stdout",
     "output_type": "stream",
     "text": [
      "Collecting git+git://github.com/bblais/RobotSim373\n",
      "  Cloning git://github.com/bblais/RobotSim373 to /Users/bblais/tmp/pip-req-build-2ukl2h6n\n",
      "Requirement already satisfied, skipping upgrade: box2d in /Users/bblais/opt/anaconda3/envs/py3/lib/python3.7/site-packages (from RobotSim373==0.0.17) (2.3.10)\n",
      "Requirement already satisfied, skipping upgrade: matplotlib in /Users/bblais/opt/anaconda3/envs/py3/lib/python3.7/site-packages (from RobotSim373==0.0.17) (3.3.1)\n",
      "Requirement already satisfied, skipping upgrade: pyglet in /Users/bblais/opt/anaconda3/envs/py3/lib/python3.7/site-packages (from RobotSim373==0.0.17) (1.5.7)\n",
      "Requirement already satisfied, skipping upgrade: numpy>=1.15 in /Users/bblais/opt/anaconda3/envs/py3/lib/python3.7/site-packages (from matplotlib->RobotSim373==0.0.17) (1.19.1)\n",
      "Requirement already satisfied, skipping upgrade: cycler>=0.10 in /Users/bblais/opt/anaconda3/envs/py3/lib/python3.7/site-packages (from matplotlib->RobotSim373==0.0.17) (0.10.0)\n",
      "Requirement already satisfied, skipping upgrade: python-dateutil>=2.1 in /Users/bblais/opt/anaconda3/envs/py3/lib/python3.7/site-packages (from matplotlib->RobotSim373==0.0.17) (2.8.1)\n",
      "Requirement already satisfied, skipping upgrade: pyparsing!=2.0.4,!=2.1.2,!=2.1.6,>=2.0.3 in /Users/bblais/opt/anaconda3/envs/py3/lib/python3.7/site-packages (from matplotlib->RobotSim373==0.0.17) (2.4.7)\n",
      "Requirement already satisfied, skipping upgrade: pillow>=6.2.0 in /Users/bblais/opt/anaconda3/envs/py3/lib/python3.7/site-packages (from matplotlib->RobotSim373==0.0.17) (7.2.0)\n",
      "Requirement already satisfied, skipping upgrade: certifi>=2020.06.20 in /Users/bblais/opt/anaconda3/envs/py3/lib/python3.7/site-packages (from matplotlib->RobotSim373==0.0.17) (2020.6.20)\n",
      "Requirement already satisfied, skipping upgrade: kiwisolver>=1.0.1 in /Users/bblais/opt/anaconda3/envs/py3/lib/python3.7/site-packages (from matplotlib->RobotSim373==0.0.17) (1.2.0)\n",
      "Requirement already satisfied, skipping upgrade: six in /Users/bblais/opt/anaconda3/envs/py3/lib/python3.7/site-packages (from cycler>=0.10->matplotlib->RobotSim373==0.0.17) (1.15.0)\n",
      "Building wheels for collected packages: RobotSim373\n",
      "  Building wheel for RobotSim373 (setup.py) ... \u001b[?25ldone\n",
      "\u001b[?25h  Created wheel for RobotSim373: filename=RobotSim373-0.0.17-py3-none-any.whl size=6807 sha256=4ced603ee756fd74840fd95985e334f78092469f2caa108559b5c411c328754e\n",
      "  Stored in directory: /Users/bblais/tmp/pip-ephem-wheel-cache-20uk1tqk/wheels/1c/1d/7d/43a5af78343b50185cfd2a310afad23387e47c127bc41defb0\n",
      "Successfully built RobotSim373\n",
      "Installing collected packages: RobotSim373\n",
      "  Attempting uninstall: RobotSim373\n",
      "    Found existing installation: RobotSim373 0.0.17\n",
      "    Uninstalling RobotSim373-0.0.17:\n",
      "      Successfully uninstalled RobotSim373-0.0.17\n",
      "Successfully installed RobotSim373-0.0.17\n"
     ]
    }
   ],
   "source": [
    "!pip install \"git+git://github.com/bblais/RobotSim373\" --upgrade"
   ]
  },
  {
   "cell_type": "markdown",
   "metadata": {},
   "source": [
    "## Sprint #3"
   ]
  },
  {
   "cell_type": "code",
   "execution_count": null,
   "metadata": {},
   "outputs": [],
   "source": []
  },
  {
   "cell_type": "markdown",
   "metadata": {},
   "source": [
    "## Sprint #4"
   ]
  },
  {
   "cell_type": "code",
   "execution_count": 1,
   "metadata": {},
   "outputs": [
    {
     "name": "stdout",
     "output_type": "stream",
     "text": [
      "Requirement already satisfied: scikit-learn in /Users/bblais/opt/anaconda3/envs/py3/lib/python3.7/site-packages (0.23.2)\n",
      "Requirement already satisfied: numpy>=1.13.3 in /Users/bblais/opt/anaconda3/envs/py3/lib/python3.7/site-packages (from scikit-learn) (1.19.1)\n",
      "Requirement already satisfied: joblib>=0.11 in /Users/bblais/opt/anaconda3/envs/py3/lib/python3.7/site-packages (from scikit-learn) (0.17.0)\n",
      "Requirement already satisfied: threadpoolctl>=2.0.0 in /Users/bblais/opt/anaconda3/envs/py3/lib/python3.7/site-packages (from scikit-learn) (2.1.0)\n",
      "Requirement already satisfied: scipy>=0.19.1 in /Users/bblais/opt/anaconda3/envs/py3/lib/python3.7/site-packages (from scikit-learn) (1.5.2)\n"
     ]
    }
   ],
   "source": [
    "!pip install scikit-learn"
   ]
  },
  {
   "cell_type": "code",
   "execution_count": 2,
   "metadata": {},
   "outputs": [
    {
     "name": "stdout",
     "output_type": "stream",
     "text": [
      "Collecting git+git://github.com/bblais/classy\n",
      "  Cloning git://github.com/bblais/classy to /Users/bblais/tmp/pip-req-build-yw26its4\n",
      "Building wheels for collected packages: classy\n",
      "  Building wheel for classy (setup.py) ... \u001b[?25ldone\n",
      "\u001b[?25h  Created wheel for classy: filename=classy-0.0.25-py3-none-any.whl size=42659 sha256=cafd57f9eab26f59c54f5bbcdbe7d4e754fba1ab7f2305bdd3cb9426de18654a\n",
      "  Stored in directory: /Users/bblais/tmp/pip-ephem-wheel-cache-w4r09aq7/wheels/99/fd/d3/5aeb58829f98c3b1843867767d5c74ab2c21bd1f93e973ade9\n",
      "Successfully built classy\n",
      "Installing collected packages: classy\n",
      "  Attempting uninstall: classy\n",
      "    Found existing installation: classy 0.0.25\n",
      "    Uninstalling classy-0.0.25:\n",
      "      Successfully uninstalled classy-0.0.25\n",
      "Successfully installed classy-0.0.25\n"
     ]
    }
   ],
   "source": [
    "!pip install \"git+git://github.com/bblais/classy\" --upgrade"
   ]
  },
  {
   "cell_type": "code",
   "execution_count": null,
   "metadata": {},
   "outputs": [],
   "source": []
  }
 ],
 "metadata": {
  "kernelspec": {
   "display_name": "Python 3",
   "language": "python",
   "name": "python3"
  },
  "language_info": {
   "codemirror_mode": {
    "name": "ipython",
    "version": 3
   },
   "file_extension": ".py",
   "mimetype": "text/x-python",
   "name": "python",
   "nbconvert_exporter": "python",
   "pygments_lexer": "ipython3",
   "version": "3.7.7"
  }
 },
 "nbformat": 4,
 "nbformat_minor": 4
}
