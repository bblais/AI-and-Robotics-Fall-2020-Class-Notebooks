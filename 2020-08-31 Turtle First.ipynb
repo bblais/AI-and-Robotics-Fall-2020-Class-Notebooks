{
 "cells": [
  {
   "cell_type": "code",
   "execution_count": 6,
   "metadata": {},
   "outputs": [],
   "source": [
    "%gui tk"
   ]
  },
  {
   "cell_type": "code",
   "execution_count": 7,
   "metadata": {},
   "outputs": [],
   "source": [
    "from turtle import *"
   ]
  },
  {
   "cell_type": "code",
   "execution_count": 8,
   "metadata": {},
   "outputs": [],
   "source": [
    "forward(50)"
   ]
  },
  {
   "cell_type": "code",
   "execution_count": 9,
   "metadata": {},
   "outputs": [],
   "source": [
    "forward(100)"
   ]
  },
  {
   "cell_type": "code",
   "execution_count": 10,
   "metadata": {},
   "outputs": [],
   "source": [
    "reset()"
   ]
  },
  {
   "cell_type": "markdown",
   "metadata": {},
   "source": [
    "# Draw a square"
   ]
  },
  {
   "cell_type": "code",
   "execution_count": 15,
   "metadata": {},
   "outputs": [],
   "source": [
    "reset()\n",
    "forward(50)\n",
    "right(90)\n",
    "forward(50)\n",
    "right(90)\n",
    "forward(50)\n",
    "right(90)\n",
    "forward(50)\n",
    "right(90)"
   ]
  },
  {
   "cell_type": "code",
   "execution_count": 17,
   "metadata": {},
   "outputs": [
    {
     "name": "stdout",
     "output_type": "stream",
     "text": [
      "start\n",
      "inside the loop\n",
      "inside the loop\n",
      "inside the loop\n",
      "inside the loop\n",
      "done.\n"
     ]
    }
   ],
   "source": [
    "reset()\n",
    "pencolor(\"red\")\n",
    "print(\"start\")\n",
    "for i in range(4):\n",
    "    print(\"inside the loop\")\n",
    "    forward(50)\n",
    "    right(90)    \n",
    "\n",
    "print(\"done.\")"
   ]
  },
  {
   "cell_type": "code",
   "execution_count": 19,
   "metadata": {},
   "outputs": [
    {
     "name": "stdout",
     "output_type": "stream",
     "text": [
      "start\n",
      "inside the loop\n",
      "inside the loop\n",
      "inside the loop\n",
      "inside the loop\n",
      "done.\n"
     ]
    }
   ],
   "source": [
    "length=200\n",
    "\n",
    "reset()\n",
    "pencolor(\"red\")\n",
    "print(\"start\")\n",
    "for i in range(4):\n",
    "    print(\"inside the loop\")\n",
    "    forward(length)\n",
    "    right(90)    \n",
    "\n",
    "print(\"done.\")"
   ]
  },
  {
   "cell_type": "code",
   "execution_count": null,
   "metadata": {},
   "outputs": [],
   "source": []
  }
 ],
 "metadata": {
  "kernelspec": {
   "display_name": "Python 3",
   "language": "python",
   "name": "python3"
  },
  "language_info": {
   "codemirror_mode": {
    "name": "ipython",
    "version": 3
   },
   "file_extension": ".py",
   "mimetype": "text/x-python",
   "name": "python",
   "nbconvert_exporter": "python",
   "pygments_lexer": "ipython3",
   "version": "3.7.6"
  }
 },
 "nbformat": 4,
 "nbformat_minor": 4
}
