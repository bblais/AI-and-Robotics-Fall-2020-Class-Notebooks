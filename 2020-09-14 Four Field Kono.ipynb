{
 "cells": [
  {
   "cell_type": "code",
   "execution_count": 1,
   "metadata": {},
   "outputs": [
    {
     "name": "stdout",
     "output_type": "stream",
     "text": [
      "Version:  0.2.20\n"
     ]
    }
   ],
   "source": [
    "from Game import *"
   ]
  },
  {
   "cell_type": "markdown",
   "metadata": {},
   "source": [
    "https://en.wikipedia.org/wiki/Four_Field_Kono\n",
    "\n",
    "The goal of each player is to capture the other player's pieces and reduce it to one. This is because with only one piece, a player can no longer execute a capture. Another way to win is for a player to immobilize the other player's pieces so that they cannot move or capture.\n",
    "\n",
    "The game is played according to these rules.[1]\n",
    "\n",
    "1. Players decide what color marbles to play, and who goes first.\n",
    "2. The board is completely filled with the 16 marbles in the beginning. Each player's marbles are set up on their half of the board.\n",
    "3. Since the board is filled up in the beginning and hence no vacant holes, the first move by the first player will be a capturing move.\n",
    "4. A capturing move requires a player's marble to jump over one of his own adjacent marbles orthogonally (not diagonally), and to land onto an enemy marble which is then removed from the board and replaced with the player's marble. Only one marble can be used to capture or move per turn. Multiple captures are not allowed. Once a marble has captured one enemy marble, the turn is completed. Captures are not compulsory.\n",
    "5. A marble can move orthogonally (not diagonally) one space per turn onto a vacant hole.\n",
    "6. Players alternate their turns throughout the game.\n",
    "\n",
    "\n",
    "\n",
    "<img src=\"images/2019-09-24 07.21.03 am.png\" width=100>\n",
    "\n",
    "\n",
    "<img src=\"images/2019-09-24 07.24.27 am.png\" width=400>\n"
   ]
  },
  {
   "cell_type": "code",
   "execution_count": 4,
   "metadata": {},
   "outputs": [],
   "source": [
    "def initial_state():\n",
    "    state=Board(4,4)\n",
    "    \n",
    "    for r in range(4):\n",
    "        for c in range(2):\n",
    "            state[r,c]=1\n",
    "            state[r,c+2]=2\n",
    "    return state"
   ]
  },
  {
   "cell_type": "code",
   "execution_count": 6,
   "metadata": {},
   "outputs": [
    {
     "name": "stdout",
     "output_type": "stream",
     "text": [
      " 0  1  2  3 \n",
      " 4  5  6  7 \n",
      " 8  9 10 11 \n",
      "12 13 14 15 \n",
      "\n"
     ]
    },
    {
     "data": {
      "text/plain": [
       " 1  1  2  2 \n",
       " 1  1  2  2 \n",
       " 1  1  2  2 \n",
       " 1  1  2  2 "
      ]
     },
     "execution_count": 6,
     "metadata": {},
     "output_type": "execute_result"
    }
   ],
   "source": [
    "state=initial_state()\n",
    "state.show_locations()\n",
    "state"
   ]
  },
  {
   "cell_type": "code",
   "execution_count": 7,
   "metadata": {},
   "outputs": [],
   "source": [
    "def show_state(state):\n",
    "    print(state)\n",
    "    \n",
    "def update_state(state,player,move):\n",
    "    # a move is a start and an end\n",
    "    start,end=move\n",
    "    new_state=state\n",
    "    new_state[start]=0\n",
    "    new_state[end]=player\n",
    "    return new_state"
   ]
  },
  {
   "cell_type": "code",
   "execution_count": 8,
   "metadata": {},
   "outputs": [],
   "source": [
    "def win_status(state,player):\n",
    "    if player==1:\n",
    "        other_player=2\n",
    "    else:\n",
    "        other_player=1\n",
    "        \n",
    "    if not valid_moves(state,other_player):\n",
    "        return 'win'\n",
    "    \n",
    "    # count the pieces of the other player\n",
    "    count=0\n",
    "    for i in range(16):\n",
    "        if state[i]==other_player:\n",
    "            count+=1\n",
    "    if count==1:\n",
    "        return 'win'\n",
    "    \n",
    "    return None  # middle of the game"
   ]
  },
  {
   "cell_type": "code",
   "execution_count": null,
   "metadata": {},
   "outputs": [],
   "source": [
    "def valid_moves(state,player):\n",
    "    \n",
    "    #  0  1  2  3 \n",
    "    #  4  5  6  7 \n",
    "    #  8  9 10 11 \n",
    "    # 12 13 14 15     \n",
    "    \n",
    "\n",
    "    # right-moving capture\n",
    "    for start in []\n",
    "    "
   ]
  }
 ],
 "metadata": {
  "kernelspec": {
   "display_name": "Python 3",
   "language": "python",
   "name": "python3"
  },
  "language_info": {
   "codemirror_mode": {
    "name": "ipython",
    "version": 3
   },
   "file_extension": ".py",
   "mimetype": "text/x-python",
   "name": "python",
   "nbconvert_exporter": "python",
   "pygments_lexer": "ipython3",
   "version": "3.7.6"
  }
 },
 "nbformat": 4,
 "nbformat_minor": 4
}
