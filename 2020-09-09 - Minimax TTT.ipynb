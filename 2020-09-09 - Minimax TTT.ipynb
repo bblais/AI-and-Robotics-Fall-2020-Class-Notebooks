{
 "cells": [
  {
   "cell_type": "code",
   "execution_count": 1,
   "metadata": {},
   "outputs": [
    {
     "name": "stdout",
     "output_type": "stream",
     "text": [
      "Version:  0.2.20\n"
     ]
    }
   ],
   "source": [
    "from Game import *"
   ]
  },
  {
   "cell_type": "markdown",
   "metadata": {},
   "source": [
    "## Rules of the Game"
   ]
  },
  {
   "cell_type": "code",
   "execution_count": 2,
   "metadata": {},
   "outputs": [],
   "source": [
    "def initial_state():\n",
    "    board=Board(3,3)\n",
    "    board.pieces=['.','X','O']\n",
    "    return board\n",
    "\n",
    "def show_state(state):\n",
    "    print(state)\n",
    "    \n",
    "def valid_moves(state,player):  # returns a list of all of the possible moves given a state\n",
    "    moves=[]\n",
    "    \n",
    "    for i in range(9):\n",
    "        if state[i]==0:\n",
    "            moves.append(i)\n",
    "    \n",
    "    return moves\n",
    "    \n",
    "def update_state(state,player,move):\n",
    "    \n",
    "    new_state=state\n",
    "    state[move]=player\n",
    "    \n",
    "    return new_state\n",
    "\n",
    "def win_status(state,player):\n",
    "    # \"win\" if the player wins\n",
    "    # \"lose\" if the player loses\n",
    "    # \"stalemate\" if a tie\n",
    "    # None if the game continues\n",
    "    \n",
    "    # 0 1 2\n",
    "    # 3 4 5\n",
    "    # 6 7 8\n",
    "    \n",
    "    if state[0]==player and state[1]==player and state[2]==player:\n",
    "        return \"win\"\n",
    "    if state[3]==player and state[4]==player and state[5]==player:\n",
    "        return \"win\"\n",
    "    if state[6]==player and state[7]==player and state[8]==player:\n",
    "        return \"win\"\n",
    "    if state[0]==player and state[3]==player and state[6]==player:\n",
    "        return \"win\"\n",
    "    if state[1]==player and state[4]==player and state[7]==player:\n",
    "        return \"win\"\n",
    "    if state[2]==player and state[5]==player and state[8]==player:\n",
    "        return \"win\"\n",
    "    if state[0]==player and state[4]==player and state[8]==player:\n",
    "        return \"win\"\n",
    "    if state[6]==player and state[4]==player and state[2]==player:\n",
    "        return \"win\"\n",
    "    \n",
    "    if player==1:\n",
    "        other_player=2\n",
    "    else:\n",
    "        other_player=1\n",
    "        \n",
    "        \n",
    "    if not valid_moves(state,other_player):\n",
    "        return \"stalemate\"\n",
    "    \n",
    "    \n",
    "    return None\n",
    "    "
   ]
  },
  {
   "cell_type": "markdown",
   "metadata": {},
   "source": [
    "## Agents"
   ]
  },
  {
   "cell_type": "code",
   "execution_count": 3,
   "metadata": {},
   "outputs": [],
   "source": [
    "def human_move(state,player):\n",
    "    print(\"\"\"\n",
    "     0 1 2\n",
    "     3 4 5\n",
    "     6 7 8\n",
    "    \"\"\")\n",
    "    \n",
    "    move=int(input(\"What move?\"))\n",
    "    \n",
    "    return move\n",
    "\n",
    "human_agent=Agent(human_move)"
   ]
  },
  {
   "cell_type": "code",
   "execution_count": 4,
   "metadata": {},
   "outputs": [],
   "source": [
    "def random_move(state,player):\n",
    "    possible_moves=valid_moves(state,player)\n",
    "    move=random.choice(possible_moves)\n",
    "    return move\n",
    "\n",
    "\n",
    "random_agent=Agent(random_move)"
   ]
  },
  {
   "cell_type": "markdown",
   "metadata": {},
   "source": [
    "## Minimax agent\n",
    "\n",
    "<img src='images/ttt minimax 1.jpeg' width=750>\n",
    "<br>\n",
    "<img src='images/ttt minimax 2.jpeg' width=750>\n",
    "<br>\n",
    "<img src='images/ttt minimax 3.jpeg' width=750>\n",
    "<br>\n"
   ]
  },
  {
   "cell_type": "code",
   "execution_count": null,
   "metadata": {},
   "outputs": [],
   "source": [
    "\n",
    "\n",
    "\n",
    "\n"
   ]
  },
  {
   "cell_type": "code",
   "execution_count": null,
   "metadata": {},
   "outputs": [],
   "source": []
  },
  {
   "cell_type": "code",
   "execution_count": 5,
   "metadata": {},
   "outputs": [],
   "source": [
    "from Game.minimax import *\n",
    "def minimax_move(state,player):\n",
    "\n",
    "    values,moves=minimax_values(state,player,display=True)\n",
    "    return top_choice(moves,values)\n",
    "\n",
    "\n",
    "minimax_agent=Agent(minimax_move)"
   ]
  },
  {
   "cell_type": "code",
   "execution_count": 6,
   "metadata": {},
   "outputs": [
    {
     "data": {
      "text/plain": [
       " O  .  X \n",
       " X  .  . \n",
       " X  O  O "
      ]
     },
     "execution_count": 6,
     "metadata": {},
     "output_type": "execute_result"
    }
   ],
   "source": [
    "state=initial_state()\n",
    "for loc in [0,7,8]:\n",
    "    state[loc]=2\n",
    "    \n",
    "for loc in [2,3,6]:\n",
    "    state[loc]=1\n",
    "\n",
    "\n",
    "state"
   ]
  },
  {
   "cell_type": "code",
   "execution_count": 7,
   "metadata": {},
   "outputs": [
    {
     "name": "stdout",
     "output_type": "stream",
     "text": [
      "  Choice Time: 0.0006618499755859375 seconds \n"
     ]
    },
    {
     "data": {
      "text/plain": [
       "([1, -1, -1], [4, 5, 1])"
      ]
     },
     "execution_count": 7,
     "metadata": {},
     "output_type": "execute_result"
    }
   ],
   "source": [
    "minimax_values(state,1)"
   ]
  },
  {
   "cell_type": "markdown",
   "metadata": {},
   "source": [
    "## how does it work?"
   ]
  },
  {
   "cell_type": "code",
   "execution_count": 8,
   "metadata": {},
   "outputs": [],
   "source": [
    "def minimax_values_example(current_state,player):\n",
    "\n",
    "    from copy import deepcopy\n",
    "    \n",
    "    if player==1:\n",
    "        other_player=2\n",
    "    else:\n",
    "        other_player=1\n",
    "\n",
    "    values=[]\n",
    "    states=[]\n",
    "\n",
    "    moves=valid_moves(current_state,player)\n",
    "    available_states=[update_state(deepcopy(current_state),player,move)\n",
    "                                for move in moves]\n",
    "    \n",
    "    print(\"minimax_values_example current state\\n\")\n",
    "    print(current_state)\n",
    "    print(\"Getting MIN value for states\")\n",
    "    for s in available_states:\n",
    "        print(s)\n",
    "    \n",
    "    for state in available_states:\n",
    "        value=minvalue_example(state,other_player)\n",
    "        values.append(value)\n",
    "        states.append(state)\n",
    "\n",
    "    return values,moves\n"
   ]
  },
  {
   "cell_type": "code",
   "execution_count": 9,
   "metadata": {},
   "outputs": [],
   "source": [
    "def minvalue_example(current_state,player,depth=1):\n",
    "    if player==1:\n",
    "        other_player=2\n",
    "    else:\n",
    "        other_player=1\n",
    "\n",
    "    # since win_status is called with a player and an updated state\n",
    "    # the current state is really the updated state from the\n",
    "    # other player's last move.\n",
    "\n",
    "    tabs='\\t'*depth\n",
    "    print(tabs,\"MIN value current state\\n\")\n",
    "    s=current_state\n",
    "    print('\\n'.join([tabs +_ for _ in str(s).split('\\n')]))    \n",
    "    \n",
    "    status=win_status(current_state,other_player)\n",
    "\n",
    "    if status=='win':  # bad for min\n",
    "        print(tabs,\"end state value: 1\")\n",
    "        return 1\n",
    "    elif status=='lose':  # good for min\n",
    "        print(tabs,\"end state value: -1\")\n",
    "        return -1\n",
    "    elif status=='stalemate':  # draw\n",
    "        print(tabs,\"end state value: 0\")\n",
    "        return 0\n",
    "\n",
    "\n",
    "    moves=valid_moves(current_state,player)\n",
    "    available_states=[update_state(deepcopy(current_state),player,move)\n",
    "                                for move in moves]\n",
    "    \n",
    "    \n",
    "    print(tabs,\"Getting MAX value for states\")\n",
    "    for s in available_states:\n",
    "        print('\\n'.join([tabs +_ for _ in str(s).split('\\n')]))    \n",
    "    \n",
    "    \n",
    "    values=[]\n",
    "    for state in available_states:\n",
    "        value=maxvalue_example(state,other_player,depth+1)\n",
    "        values.append(value)\n",
    "                \n",
    "    if not values:  # no available states  = stalemate\n",
    "        return 0\n",
    "    else:\n",
    "        return min(values)\n",
    "     \n",
    "        \n",
    "def maxvalue_example(current_state,player,depth=1):\n",
    "    if player==1:\n",
    "        other_player=2\n",
    "    else:\n",
    "        other_player=1\n",
    "\n",
    "    # since win_status is called with a player and an updated state\n",
    "    # the current state is really the updated state from the\n",
    "    # other player's last move.\n",
    "    tabs='\\t'*depth\n",
    "    print(tabs,\"MAX value current state\\n\")\n",
    "    s=current_state\n",
    "    print('\\n'.join([tabs +_ for _ in str(s).split('\\n')]))    \n",
    "\n",
    "\n",
    "    status=win_status(current_state,other_player)\n",
    "\n",
    "    if status=='win':  # bad for max\n",
    "        print(tabs,\"end state value: -1\")\n",
    "        return -1\n",
    "    elif status=='lose':  # good for max\n",
    "        print(tabs,\"end state value: 1\")\n",
    "        return 1\n",
    "    elif status=='stalemate':  # draw\n",
    "        print(tabs,\"end state value: 0\")\n",
    "        return 0\n",
    "\n",
    "\n",
    "    moves=valid_moves(current_state,player)\n",
    "    available_states=[update_state(deepcopy(current_state),player,move)\n",
    "                                for move in moves]\n",
    "    print(tabs,\"Getting MIN value for states\")\n",
    "    for s in available_states:\n",
    "        print('\\n'.join([tabs +_ for _ in str(s).split('\\n')]))    \n",
    "    \n",
    "    values=[]\n",
    "    for state in available_states:\n",
    "        value=minvalue(state,other_player,depth+1)\n",
    "        values.append(value)\n",
    "                \n",
    "    if not values:  # no available states  = stalemate\n",
    "        return 0\n",
    "    else:\n",
    "        return max(values)\n",
    "             "
   ]
  },
  {
   "cell_type": "code",
   "execution_count": 10,
   "metadata": {},
   "outputs": [
    {
     "name": "stdout",
     "output_type": "stream",
     "text": [
      "minimax_values_example current state\n",
      "\n",
      " O  .  X \n",
      " X  .  . \n",
      " X  O  O \n",
      "\n",
      "Getting MIN value for states\n",
      " O  X  X \n",
      " X  .  . \n",
      " X  O  O \n",
      "\n",
      " O  .  X \n",
      " X  X  . \n",
      " X  O  O \n",
      "\n",
      " O  .  X \n",
      " X  .  X \n",
      " X  O  O \n",
      "\n",
      "\t MIN value current state\n",
      "\n",
      "\t O  X  X \n",
      "\t X  .  . \n",
      "\t X  O  O \n",
      "\t\n",
      "\t Getting MAX value for states\n",
      "\t O  X  X \n",
      "\t X  O  . \n",
      "\t X  O  O \n",
      "\t\n",
      "\t O  X  X \n",
      "\t X  .  O \n",
      "\t X  O  O \n",
      "\t\n",
      "\t\t MAX value current state\n",
      "\n",
      "\t\t O  X  X \n",
      "\t\t X  O  . \n",
      "\t\t X  O  O \n",
      "\t\t\n",
      "\t\t end state value: -1\n",
      "\t\t MAX value current state\n",
      "\n",
      "\t\t O  X  X \n",
      "\t\t X  .  O \n",
      "\t\t X  O  O \n",
      "\t\t\n",
      "\t\t Getting MIN value for states\n",
      "\t\t O  X  X \n",
      "\t\t X  X  O \n",
      "\t\t X  O  O \n",
      "\t\t\n",
      "\t MIN value current state\n",
      "\n",
      "\t O  .  X \n",
      "\t X  X  . \n",
      "\t X  O  O \n",
      "\t\n",
      "\t end state value: 1\n",
      "\t MIN value current state\n",
      "\n",
      "\t O  .  X \n",
      "\t X  .  X \n",
      "\t X  O  O \n",
      "\t\n",
      "\t Getting MAX value for states\n",
      "\t O  O  X \n",
      "\t X  .  X \n",
      "\t X  O  O \n",
      "\t\n",
      "\t O  .  X \n",
      "\t X  O  X \n",
      "\t X  O  O \n",
      "\t\n",
      "\t\t MAX value current state\n",
      "\n",
      "\t\t O  O  X \n",
      "\t\t X  .  X \n",
      "\t\t X  O  O \n",
      "\t\t\n",
      "\t\t Getting MIN value for states\n",
      "\t\t O  O  X \n",
      "\t\t X  X  X \n",
      "\t\t X  O  O \n",
      "\t\t\n",
      "\t\t MAX value current state\n",
      "\n",
      "\t\t O  .  X \n",
      "\t\t X  O  X \n",
      "\t\t X  O  O \n",
      "\t\t\n",
      "\t\t end state value: -1\n"
     ]
    },
    {
     "data": {
      "text/plain": [
       "([-1, 1, -1], [1, 4, 5])"
      ]
     },
     "execution_count": 10,
     "metadata": {},
     "output_type": "execute_result"
    }
   ],
   "source": [
    "minimax_values_example(state,1)"
   ]
  },
  {
   "cell_type": "markdown",
   "metadata": {},
   "source": [
    "# Minimax vs random"
   ]
  },
  {
   "cell_type": "code",
   "execution_count": 13,
   "metadata": {},
   "outputs": [
    {
     "name": "stdout",
     "output_type": "stream",
     "text": [
      "====\n",
      "Game  1\n",
      " .  .  . \n",
      " .  .  . \n",
      " .  .  . \n",
      "\n",
      "  Choice Time: 2.2402210235595703 seconds \n",
      "Player 1 moves 5\n",
      " .  .  . \n",
      " .  .  X \n",
      " .  .  . \n",
      "\n",
      "Player 2 moves 2\n",
      " .  .  O \n",
      " .  .  X \n",
      " .  .  . \n",
      "\n",
      "  Choice Time: 0.13045907020568848 seconds \n",
      "Player 1 moves 0\n",
      " X  .  O \n",
      " .  .  X \n",
      " .  .  . \n",
      "\n",
      "Player 2 moves 6\n",
      " X  .  O \n",
      " .  .  X \n",
      " O  .  . \n",
      "\n",
      "  Choice Time: 0.007193088531494141 seconds \n",
      "Player 1 moves 4\n",
      " X  .  O \n",
      " .  X  X \n",
      " O  .  . \n",
      "\n",
      "Player 2 moves 8\n",
      " X  .  O \n",
      " .  X  X \n",
      " O  .  O \n",
      "\n",
      "  Choice Time: 0.0005137920379638672 seconds \n",
      "Player 1 moves 3\n",
      " X  .  O \n",
      " X  X  X \n",
      " O  .  O \n",
      "\n",
      "Player  1 won.\n"
     ]
    },
    {
     "data": {
      "text/plain": [
       "[1]"
      ]
     },
     "execution_count": 13,
     "metadata": {},
     "output_type": "execute_result"
    }
   ],
   "source": [
    "g=Game()\n",
    "g.run(minimax_agent,random_agent)"
   ]
  },
  {
   "cell_type": "markdown",
   "metadata": {},
   "source": [
    "## Turning off the display, playing multiple games"
   ]
  },
  {
   "cell_type": "code",
   "execution_count": 15,
   "metadata": {},
   "outputs": [],
   "source": [
    "def minimax_move(state,player):\n",
    "\n",
    "    values,moves=minimax_values(state,player,display=False)\n",
    "    return top_choice(moves,values)\n",
    "\n",
    "\n",
    "minimax_agent=Agent(minimax_move)"
   ]
  },
  {
   "cell_type": "code",
   "execution_count": 16,
   "metadata": {},
   "outputs": [
    {
     "name": "stdout",
     "output_type": "stream",
     "text": [
      "Total number of games:  10\n",
      "Winning 100.00 percent\n",
      "Losing 0.00 percent\n",
      "Tie 0.00 percent\n"
     ]
    }
   ],
   "source": [
    "g=Game(number_of_games=10)\n",
    "g.display=False\n",
    "g.run(minimax_agent,random_agent)\n",
    "g.report()"
   ]
  },
  {
   "cell_type": "code",
   "execution_count": null,
   "metadata": {},
   "outputs": [],
   "source": [
    "\n",
    "\n",
    "\n",
    "\n",
    "\n",
    "\n",
    "\n",
    "\n",
    "\n",
    "\n",
    "\n",
    "\n",
    "\n",
    "\n",
    "\n",
    "\n",
    "\n",
    "\n",
    "\n",
    "\n",
    "\n"
   ]
  },
  {
   "cell_type": "markdown",
   "metadata": {},
   "source": [
    "## Maximum Depth -- need to set a heuristic"
   ]
  },
  {
   "cell_type": "code",
   "execution_count": 18,
   "metadata": {},
   "outputs": [],
   "source": [
    "def minimax_move(state,player):\n",
    "\n",
    "    values,moves=minimax_values(state,player,maxdepth=2,display=False)\n",
    "    return top_choice(moves,values)\n",
    "\n",
    "\n",
    "minimax_agent=Agent(minimax_move)\n",
    "\n",
    "def heuristic(state,player):\n",
    "    # a really bad heuristic -- just do random!\n",
    "    return random.choice([-1,0,1])\n",
    "    "
   ]
  },
  {
   "cell_type": "code",
   "execution_count": 20,
   "metadata": {},
   "outputs": [
    {
     "name": "stdout",
     "output_type": "stream",
     "text": [
      "Total number of games:  10\n",
      "Winning 90.00 percent\n",
      "Losing 0.00 percent\n",
      "Tie 10.00 percent\n"
     ]
    }
   ],
   "source": [
    "g=Game(number_of_games=10)\n",
    "g.display=False\n",
    "g.run(minimax_agent,random_agent)\n",
    "g.report()"
   ]
  },
  {
   "cell_type": "code",
   "execution_count": null,
   "metadata": {},
   "outputs": [],
   "source": []
  }
 ],
 "metadata": {
  "kernelspec": {
   "display_name": "Python 3",
   "language": "python",
   "name": "python3"
  },
  "language_info": {
   "codemirror_mode": {
    "name": "ipython",
    "version": 3
   },
   "file_extension": ".py",
   "mimetype": "text/x-python",
   "name": "python",
   "nbconvert_exporter": "python",
   "pygments_lexer": "ipython3",
   "version": "3.7.6"
  }
 },
 "nbformat": 4,
 "nbformat_minor": 4
}
