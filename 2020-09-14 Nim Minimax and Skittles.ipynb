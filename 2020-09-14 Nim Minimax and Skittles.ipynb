{
 "cells": [
  {
   "cell_type": "code",
   "execution_count": 1,
   "metadata": {},
   "outputs": [
    {
     "name": "stdout",
     "output_type": "stream",
     "text": [
      "Version:  0.2.23\n"
     ]
    }
   ],
   "source": [
    "from Game import *"
   ]
  },
  {
   "cell_type": "markdown",
   "metadata": {},
   "source": [
    "# Nim\n",
    "\n",
    "Rules:\n",
    "\n",
    "1. start with 21 sticks -- state = number of sticks\n",
    "2. turns alternate taking 1,2, or 3 sticks\n",
    "3. player taking last stick loses"
   ]
  },
  {
   "cell_type": "code",
   "execution_count": 7,
   "metadata": {},
   "outputs": [],
   "source": [
    "def initial_state():\n",
    "    return 25\n",
    "\n",
    "def show_state(state):\n",
    "    print(\"There are \",state,\"sticks.\")\n",
    "    \n",
    "def valid_moves(state,player):\n",
    "    if state==1:\n",
    "        return [1]\n",
    "    elif state==2:\n",
    "        return [1,2]\n",
    "    else:\n",
    "        return [1,2,3]\n",
    "    \n",
    "def update_state(state,player,move):\n",
    "    # move = number of sticks to pick up\n",
    "    new_state=state-move # remove the sticks\n",
    "    return new_state\n",
    "\n",
    "def win_status(state,player):\n",
    "    if state==0:\n",
    "        return 'lose'\n",
    "    elif state==1:\n",
    "        return 'win'\n",
    "    else:\n",
    "        return None\n",
    "    \n",
    "    # there is no stalemate"
   ]
  },
  {
   "cell_type": "code",
   "execution_count": 8,
   "metadata": {},
   "outputs": [],
   "source": [
    "def human_move(state,player):\n",
    "    print(\"Player \",player)\n",
    "    move=int(input(\"How many sticks?\"))\n",
    "    return move\n",
    "\n",
    "human_agent=Agent(human_move)"
   ]
  },
  {
   "cell_type": "code",
   "execution_count": 9,
   "metadata": {},
   "outputs": [],
   "source": [
    "def random_move(state,player):\n",
    "    possible_moves=valid_moves(state,player)\n",
    "    move=random.choice(possible_moves)\n",
    "    return move\n",
    "random_agent=Agent(random_move)"
   ]
  },
  {
   "cell_type": "code",
   "execution_count": 10,
   "metadata": {},
   "outputs": [],
   "source": [
    "from Game.minimax import *\n",
    "def minimax_move(state,player):\n",
    "\n",
    "    values,moves=minimax_values(state,player,display=False)\n",
    "    return top_choice(moves,values)\n",
    "\n",
    "\n",
    "minimax_agent=Agent(minimax_move)"
   ]
  },
  {
   "cell_type": "code",
   "execution_count": 11,
   "metadata": {},
   "outputs": [],
   "source": [
    "def skittles_move(state,player,info):\n",
    "    S=info.S\n",
    "    last_action=info.last_action\n",
    "    last_state=info.last_state\n",
    "    \n",
    "    \n",
    "    # if Ive never seen this state before\n",
    "    if not state in S:\n",
    "        actions=valid_moves(state,player)\n",
    "\n",
    "        S[state]=Table()\n",
    "        for action in actions:\n",
    "            S[state][action]=3     \n",
    "    \n",
    "    move=weighted_choice(S[state])  # weighted across actions\n",
    "    \n",
    "    # what if there are no skittles for a particular state?\n",
    "    # move is None in that case\n",
    "    \n",
    "    if move is None:\n",
    "        # learn a little bit\n",
    "        if last_state:\n",
    "            S[last_state][last_action]=S[last_state][last_action]-1\n",
    "            if S[last_state][last_action]<0:\n",
    "                S[last_state][last_action]=0\n",
    "        \n",
    "        move=random_move(state,player)\n",
    "    \n",
    "    return move\n",
    "\n",
    "def skittles_after(status,player,info):\n",
    "    S=info.S\n",
    "    last_action=info.last_action\n",
    "    last_state=info.last_state\n",
    "\n",
    "    if status=='lose':\n",
    "        # learn a little bit\n",
    "        S[last_state][last_action]=S[last_state][last_action]-1\n",
    "        if S[last_state][last_action]<0:\n",
    "            S[last_state][last_action]=0\n",
    "        \n",
    "    \n",
    "\n",
    "\n",
    "skittles_agent=Agent(skittles_move)\n",
    "skittles_agent.S=Table()\n",
    "skittles_agent.post=skittles_after\n"
   ]
  },
  {
   "cell_type": "code",
   "execution_count": null,
   "metadata": {},
   "outputs": [],
   "source": []
  },
  {
   "cell_type": "code",
   "execution_count": null,
   "metadata": {},
   "outputs": [],
   "source": []
  },
  {
   "cell_type": "code",
   "execution_count": null,
   "metadata": {},
   "outputs": [],
   "source": []
  },
  {
   "cell_type": "markdown",
   "metadata": {},
   "source": [
    "Some miscellaneous table stuff"
   ]
  },
  {
   "cell_type": "code",
   "execution_count": 9,
   "metadata": {},
   "outputs": [],
   "source": [
    "S=Table()"
   ]
  },
  {
   "cell_type": "code",
   "execution_count": 16,
   "metadata": {},
   "outputs": [
    {
     "data": {
      "text/plain": [
       " 0  0  0 \n",
       " 0  1  0 \n",
       " 0  0  0 "
      ]
     },
     "execution_count": 16,
     "metadata": {},
     "output_type": "execute_result"
    }
   ],
   "source": [
    "state=Board(3,3)\n",
    "state[4]=1\n",
    "state"
   ]
  },
  {
   "cell_type": "code",
   "execution_count": 17,
   "metadata": {},
   "outputs": [
    {
     "data": {
      "text/plain": [
       " 0  0  0 \n",
       " 0  1  0 \n",
       " 0  0  0 "
      ]
     },
     "execution_count": 17,
     "metadata": {},
     "output_type": "execute_result"
    }
   ],
   "source": [
    "state"
   ]
  },
  {
   "cell_type": "code",
   "execution_count": 18,
   "metadata": {},
   "outputs": [],
   "source": [
    "S[state]=2"
   ]
  },
  {
   "cell_type": "code",
   "execution_count": 19,
   "metadata": {},
   "outputs": [
    {
     "data": {
      "text/plain": [
       "{21: 4, (0, 0, 0, 0, 1, 0, 0, 0, 0): 2}"
      ]
     },
     "execution_count": 19,
     "metadata": {},
     "output_type": "execute_result"
    }
   ],
   "source": [
    "S"
   ]
  },
  {
   "cell_type": "code",
   "execution_count": 24,
   "metadata": {},
   "outputs": [],
   "source": [
    "S=Table()\n",
    "state=initial_state()\n",
    "actions=valid_moves(state,1)\n",
    "\n",
    "S[state]=Table()\n",
    "for action in actions:\n",
    "    S[state][action]=3  # nunber of skittles"
   ]
  },
  {
   "cell_type": "code",
   "execution_count": 25,
   "metadata": {},
   "outputs": [
    {
     "data": {
      "text/plain": [
       "{21: {1: 3, 2: 3, 3: 3}}"
      ]
     },
     "execution_count": 25,
     "metadata": {},
     "output_type": "execute_result"
    }
   ],
   "source": [
    "S"
   ]
  },
  {
   "cell_type": "code",
   "execution_count": 26,
   "metadata": {},
   "outputs": [],
   "source": [
    "state=2\n",
    "S[state]=Table()\n",
    "actions=valid_moves(state,1)\n",
    "for action in actions:\n",
    "    S[state][action]=3  # nunber of skittles"
   ]
  },
  {
   "cell_type": "code",
   "execution_count": 27,
   "metadata": {},
   "outputs": [
    {
     "data": {
      "text/plain": [
       "{21: {1: 3, 2: 3, 3: 3}, 2: {1: 3, 2: 3}}"
      ]
     },
     "execution_count": 27,
     "metadata": {},
     "output_type": "execute_result"
    }
   ],
   "source": [
    "S"
   ]
  },
  {
   "cell_type": "code",
   "execution_count": 52,
   "metadata": {},
   "outputs": [],
   "source": [
    "skittles_agent.S=Table()"
   ]
  },
  {
   "cell_type": "code",
   "execution_count": 26,
   "metadata": {},
   "outputs": [],
   "source": [
    "g=Game(1000)\n",
    "g.display=False\n",
    "g.run(random_agent,skittles_agent);"
   ]
  },
  {
   "cell_type": "code",
   "execution_count": 27,
   "metadata": {},
   "outputs": [
    {
     "name": "stdout",
     "output_type": "stream",
     "text": [
      "Total number of games:  1000\n",
      "Winning 0.00 percent\n",
      "Losing 100.00 percent\n",
      "Tie 0.00 percent\n"
     ]
    }
   ],
   "source": [
    "g.report()"
   ]
  },
  {
   "cell_type": "code",
   "execution_count": 55,
   "metadata": {},
   "outputs": [
    {
     "data": {
      "text/plain": [
       "{18: {1: 3, 2: 0, 3: 0},\n",
       " 13: {1: 0, 2: 0, 3: 0},\n",
       " 9: {1: 0, 2: 0, 3: 0},\n",
       " 5: {1: 0, 2: 0, 3: 0},\n",
       " 19: {1: 0, 2: 3, 3: 0},\n",
       " 17: {1: 0, 2: 0, 3: 0},\n",
       " 16: {1: 0, 2: 0, 3: 3},\n",
       " 20: {1: 0, 2: 0, 3: 3},\n",
       " 11: {1: 0, 2: 3, 3: 2},\n",
       " 15: {1: 0, 2: 3, 3: 0},\n",
       " 14: {1: 3, 2: 0, 3: 1},\n",
       " 12: {1: 2, 2: 0, 3: 3},\n",
       " 10: {1: 3, 2: 2, 3: 0},\n",
       " 8: {1: 0, 2: 2, 3: 3},\n",
       " 7: {1: 2, 2: 3, 3: 2},\n",
       " 3: {1: 0, 2: 3, 3: 2},\n",
       " 6: {1: 3, 2: 1, 3: 1},\n",
       " 4: {1: 3, 2: 3, 3: 3},\n",
       " 2: {1: 3, 2: 3}}"
      ]
     },
     "execution_count": 55,
     "metadata": {},
     "output_type": "execute_result"
    }
   ],
   "source": [
    "skittles_agent.S"
   ]
  },
  {
   "cell_type": "code",
   "execution_count": 33,
   "metadata": {},
   "outputs": [],
   "source": [
    "SaveTable(skittles_agent.S,'nim skittles table.json')"
   ]
  },
  {
   "cell_type": "code",
   "execution_count": 32,
   "metadata": {},
   "outputs": [
    {
     "data": {
      "text/plain": [
       "[2,\n",
       " 3,\n",
       " 4,\n",
       " 5,\n",
       " 6,\n",
       " 7,\n",
       " 8,\n",
       " 9,\n",
       " 10,\n",
       " 11,\n",
       " 12,\n",
       " 13,\n",
       " 14,\n",
       " 15,\n",
       " 16,\n",
       " 17,\n",
       " 18,\n",
       " 19,\n",
       " 20,\n",
       " 21,\n",
       " 22,\n",
       " 23,\n",
       " 24]"
      ]
     },
     "execution_count": 32,
     "metadata": {},
     "output_type": "execute_result"
    }
   ],
   "source": [
    "sorted(list(skittles_agent.S.keys()))"
   ]
  },
  {
   "cell_type": "code",
   "execution_count": 57,
   "metadata": {},
   "outputs": [],
   "source": [
    "skittles_agent.S=LoadTable('nim skittles table.json')"
   ]
  },
  {
   "cell_type": "code",
   "execution_count": null,
   "metadata": {},
   "outputs": [],
   "source": []
  },
  {
   "cell_type": "code",
   "execution_count": 6,
   "metadata": {},
   "outputs": [
    {
     "name": "stdout",
     "output_type": "stream",
     "text": [
      "====\n",
      "Game  1\n",
      "There are  21 sticks.\n",
      "  Choice Time: 0.15351605415344238 seconds \n",
      "Player 1 moves 1\n",
      "There are  20 sticks.\n",
      "Player 2 moves 2\n",
      "There are  18 sticks.\n",
      "  Choice Time: 0.0407710075378418 seconds \n",
      "Player 1 moves 1\n",
      "There are  17 sticks.\n",
      "Player 2 moves 3\n",
      "There are  14 sticks.\n",
      "  Choice Time: 0.005802154541015625 seconds \n",
      "Player 1 moves 1\n",
      "There are  13 sticks.\n",
      "Player 2 moves 1\n",
      "There are  12 sticks.\n",
      "  Choice Time: 0.0020380020141601562 seconds \n",
      "Player 1 moves 3\n",
      "There are  9 sticks.\n",
      "Player 2 moves 3\n",
      "There are  6 sticks.\n",
      "  Choice Time: 8.797645568847656e-05 seconds \n",
      "Player 1 moves 1\n",
      "There are  5 sticks.\n",
      "Player 2 moves 1\n",
      "There are  4 sticks.\n",
      "  Choice Time: 2.8133392333984375e-05 seconds \n",
      "Player 1 moves 3\n",
      "There are  1 sticks.\n",
      "Player  1 won.\n"
     ]
    },
    {
     "data": {
      "text/plain": [
       "[1]"
      ]
     },
     "execution_count": 6,
     "metadata": {},
     "output_type": "execute_result"
    }
   ],
   "source": [
    "g=Game()\n",
    "g.run(minimax_agent,random_agent)"
   ]
  },
  {
   "cell_type": "code",
   "execution_count": 7,
   "metadata": {},
   "outputs": [
    {
     "name": "stdout",
     "output_type": "stream",
     "text": [
      "  Choice Time: 0.15744709968566895 seconds \n",
      "  Choice Time: 0.017589807510375977 seconds \n",
      "  Choice Time: 0.0011348724365234375 seconds \n",
      "  Choice Time: 0.00014209747314453125 seconds \n",
      "  Choice Time: 1.5974044799804688e-05 seconds \n",
      "  Choice Time: 0.15554213523864746 seconds \n",
      "  Choice Time: 0.02327895164489746 seconds \n",
      "  Choice Time: 0.004106998443603516 seconds \n",
      "  Choice Time: 0.0007109642028808594 seconds \n",
      "  Choice Time: 5.316734313964844e-05 seconds \n",
      "  Choice Time: 1.0013580322265625e-05 seconds \n",
      "  Choice Time: 0.160170316696167 seconds \n",
      "  Choice Time: 0.0248870849609375 seconds \n",
      "  Choice Time: 0.0032148361206054688 seconds \n",
      "  Choice Time: 0.0007231235504150391 seconds \n",
      "  Choice Time: 0.0001380443572998047 seconds \n",
      "  Choice Time: 9.059906005859375e-06 seconds \n",
      "  Choice Time: 0.15797185897827148 seconds \n",
      "  Choice Time: 0.014777898788452148 seconds \n",
      "  Choice Time: 0.0014598369598388672 seconds \n",
      "  Choice Time: 0.00029015541076660156 seconds \n",
      "  Choice Time: 1.5020370483398438e-05 seconds \n",
      "  Choice Time: 0.1573467254638672 seconds \n",
      "  Choice Time: 0.04096698760986328 seconds \n",
      "  Choice Time: 0.013598918914794922 seconds \n",
      "  Choice Time: 0.0008080005645751953 seconds \n",
      "  Choice Time: 0.000141143798828125 seconds \n",
      "  Choice Time: 1.6927719116210938e-05 seconds \n",
      "  Choice Time: 0.15003275871276855 seconds \n",
      "  Choice Time: 0.01028299331665039 seconds \n",
      "  Choice Time: 0.0011091232299804688 seconds \n",
      "  Choice Time: 7.891654968261719e-05 seconds \n",
      "  Choice Time: 1.8835067749023438e-05 seconds \n",
      "  Choice Time: 0.15319299697875977 seconds \n",
      "  Choice Time: 0.013341903686523438 seconds \n",
      "  Choice Time: 0.0022919178009033203 seconds \n",
      "  Choice Time: 0.00014209747314453125 seconds \n",
      "  Choice Time: 1.5735626220703125e-05 seconds \n",
      "  Choice Time: 0.1734321117401123 seconds \n",
      "  Choice Time: 0.025300979614257812 seconds \n",
      "  Choice Time: 0.0035059452056884766 seconds \n",
      "  Choice Time: 0.001268148422241211 seconds \n",
      "  Choice Time: 0.00028586387634277344 seconds \n",
      "  Choice Time: 3.0040740966796875e-05 seconds \n",
      "  Choice Time: 0.15727901458740234 seconds \n",
      "  Choice Time: 0.023870229721069336 seconds \n",
      "  Choice Time: 0.0017139911651611328 seconds \n",
      "  Choice Time: 8.606910705566406e-05 seconds \n",
      "  Choice Time: 1.621246337890625e-05 seconds \n",
      "  Choice Time: 0.15313100814819336 seconds \n",
      "  Choice Time: 0.02306199073791504 seconds \n",
      "  Choice Time: 0.0036499500274658203 seconds \n",
      "  Choice Time: 0.0007181167602539062 seconds \n",
      "  Choice Time: 8.225440979003906e-05 seconds \n",
      "  Choice Time: 2.6226043701171875e-05 seconds \n"
     ]
    },
    {
     "data": {
      "text/plain": [
       "[1, 1, 1, 1, 1, 1, 1, 1, 1, 1]"
      ]
     },
     "execution_count": 7,
     "metadata": {},
     "output_type": "execute_result"
    }
   ],
   "source": [
    "g=Game(10)\n",
    "g.display=False\n",
    "g.run(minimax_agent,random_agent)"
   ]
  },
  {
   "cell_type": "code",
   "execution_count": null,
   "metadata": {},
   "outputs": [],
   "source": []
  }
 ],
 "metadata": {
  "kernelspec": {
   "display_name": "Python 3",
   "language": "python",
   "name": "python3"
  },
  "language_info": {
   "codemirror_mode": {
    "name": "ipython",
    "version": 3
   },
   "file_extension": ".py",
   "mimetype": "text/x-python",
   "name": "python",
   "nbconvert_exporter": "python",
   "pygments_lexer": "ipython3",
   "version": "3.7.7"
  }
 },
 "nbformat": 4,
 "nbformat_minor": 4
}
