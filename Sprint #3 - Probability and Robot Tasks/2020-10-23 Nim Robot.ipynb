{
 "cells": [
  {
   "cell_type": "code",
   "execution_count": 1,
   "metadata": {},
   "outputs": [
    {
     "name": "stdout",
     "output_type": "stream",
     "text": [
      "Populating the interactive namespace from numpy and matplotlib\n"
     ]
    }
   ],
   "source": [
    "%pylab inline"
   ]
  },
  {
   "cell_type": "code",
   "execution_count": 2,
   "metadata": {},
   "outputs": [
    {
     "name": "stdout",
     "output_type": "stream",
     "text": [
      "Version:  0.2.23\n"
     ]
    }
   ],
   "source": [
    "from Game import *"
   ]
  },
  {
   "cell_type": "code",
   "execution_count": 3,
   "metadata": {},
   "outputs": [
    {
     "name": "stdout",
     "output_type": "stream",
     "text": [
      "Version:  0.0.17\n"
     ]
    }
   ],
   "source": [
    "from RobotSim373 import *"
   ]
  },
  {
   "cell_type": "code",
   "execution_count": 4,
   "metadata": {},
   "outputs": [],
   "source": [
    "def initial_state(N=20):\n",
    "    return N\n",
    "\n",
    "def show_state(state):\n",
    "    print(\"There are \",state,\"sticks.\")\n",
    "    \n",
    "def valid_moves(state,player):\n",
    "    if state==1:\n",
    "        return [1]\n",
    "    elif state==2:\n",
    "        return [1,2]\n",
    "    else:\n",
    "        return [1,2,3]\n",
    "    \n",
    "def update_state(state,player,move):\n",
    "    # move = number of sticks to pick up\n",
    "    new_state=state-move # remove the sticks\n",
    "    return new_state\n",
    "\n",
    "def win_status(state,player):\n",
    "    if state==0:\n",
    "        return 'lose'\n",
    "    elif state==1:\n",
    "        return 'win'\n",
    "    else:\n",
    "        return None\n",
    " "
   ]
  },
  {
   "cell_type": "code",
   "execution_count": 5,
   "metadata": {},
   "outputs": [],
   "source": [
    "def human_move(state,player):\n",
    "    print(\"Player \",player)\n",
    "    move=int(input(\"How many sticks?\"))\n",
    "    return move"
   ]
  },
  {
   "cell_type": "code",
   "execution_count": 6,
   "metadata": {},
   "outputs": [],
   "source": [
    "def random_move(state,player):\n",
    "    possible_moves=valid_moves(state,player)\n",
    "    move=random.choice(possible_moves)\n",
    "    return move\n"
   ]
  },
  {
   "cell_type": "code",
   "execution_count": 7,
   "metadata": {},
   "outputs": [],
   "source": [
    "def robot_skittles_move(state,player,S):\n",
    "    if not state in S:\n",
    "        move=random_move(state,player)\n",
    "    else:\n",
    "        move=weighted_choice(S[state])  \n",
    "        \n",
    "        \n",
    "    return move\n",
    "\n",
    "\n",
    "\n",
    "S=LoadTable('nim skittles table.json')\n",
    "\n"
   ]
  },
  {
   "cell_type": "code",
   "execution_count": 8,
   "metadata": {},
   "outputs": [],
   "source": [
    "def build(robot):    \n",
    "    \n",
    "    up=Box(robot,2,2.5,width=1,height=.3,name='up')\n",
    "    down=Box(robot,2,1.5,width=1,height=.3,name='down')\n",
    "    center=Disk(robot,2,2,radius=0.3,name='center')\n",
    "    left=Box(robot,1.3,2,width=1,height=.3,angle=90,name='left')\n",
    "    right=Box(robot,2.7,2,width=1,height=.3,angle=-90,name='right')\n",
    "    ram=Box(robot,3.2,2,width=.5,height=.5,name='ram',density=0)\n",
    "    \n",
    "    \n",
    "    \n",
    "    \n",
    "    connect(up,down,'weld') \n",
    "    connect(center,down,'weld') \n",
    "    connect(up,center,'weld') \n",
    "    connect(center,left,'weld') \n",
    "    connect(left,right,'weld') \n",
    "    connect(right,ram,'weld') "
   ]
  },
  {
   "cell_type": "code",
   "execution_count": 9,
   "metadata": {},
   "outputs": [],
   "source": [
    "def act(t,robot):\n",
    "    pass"
   ]
  },
  {
   "cell_type": "markdown",
   "metadata": {},
   "source": [
    "## Just drawing it to make sure it looks ok"
   ]
  },
  {
   "cell_type": "code",
   "execution_count": 10,
   "metadata": {},
   "outputs": [
    {
     "data": {
      "image/png": "[encoded data removed]",
      "text/plain": [
       "<Figure size 576x576 with 1 Axes>"
      ]
     },
     "metadata": {
      "needs_background": "light"
     },
     "output_type": "display_data"
    }
   ],
   "source": [
    "env=Environment(linearDamping=20) \n",
    "robot=Robot(env)\n",
    "build(robot)\n",
    "\n",
    "N=initial_state()\n",
    "\n",
    "for i in range(N):\n",
    "    Box(env,x=10,y=4+0.9*i,width=10,height=0.5)\n",
    "\n",
    "run_sim(env,act,\n",
    "        total_time=15,  # seconds\n",
    "        dt=1/60,\n",
    "        dt_display=15,  # make this larger for a faster display\n",
    "        figure_width=8,\n",
    "        plot_orientation=False,\n",
    "       )    "
   ]
  },
  {
   "cell_type": "markdown",
   "metadata": {},
   "source": [
    "## Behaviors"
   ]
  },
  {
   "cell_type": "code",
   "execution_count": 11,
   "metadata": {},
   "outputs": [],
   "source": [
    "def stop(t,robot):\n",
    "    robot['up'].F=0\n",
    "    robot['ram'].F=0\n",
    "    return True\n",
    "\n",
    "def move_up(t,robot):\n",
    "    robot['up'].F=20\n",
    "    robot['up'].F_angle=90\n",
    "    return False\n",
    "\n",
    "def move_down(t,robot):\n",
    "    robot['up'].F=-40\n",
    "    robot['up'].F_angle=90\n",
    "    return False\n",
    "\n",
    "\n",
    "def count(t,robot):\n",
    "    d=robot['up'].read_distance()\n",
    "    \n",
    "    robot.storage+=t,d\n",
    "    \n",
    "    if d<10:  # a stick\n",
    "        if robot.already_counted:\n",
    "            return False\n",
    "        else:\n",
    "            robot.count+=1\n",
    "            robot.already_counted=True\n",
    "            return False\n",
    "    else:\n",
    "        robot.already_counted=False\n",
    "        return False\n",
    "    \n",
    "    \n",
    "def until_close_to_wall(t,robot):\n",
    "    d=robot['left'].read_distance()\n",
    "    if d<1.5:\n",
    "        return True\n",
    "    else:\n",
    "        return False\n",
    "    \n",
    "def until_close_to_floor(t,robot):\n",
    "    d=robot['right'].read_distance()\n",
    "    if d<1.5:\n",
    "        return True\n",
    "    else:\n",
    "        return False\n",
    "    \n",
    "def until_stick(t,robot):\n",
    "    d=robot['ram'].read_distance()\n",
    "    if d<10:\n",
    "        return True\n",
    "    else:\n",
    "        return False\n",
    "\n",
    "def wait(dt):\n",
    "    \n",
    "    def _wait(t,robot):\n",
    "        if t<dt:\n",
    "            return False\n",
    "        else:\n",
    "            return True\n",
    "        \n",
    "    return _wait\n",
    "    \n",
    "def ramming_speed(t,robot):\n",
    "    stop(t,robot)\n",
    "    robot['ram'].F=100\n",
    "    \n",
    "    if robot['ram'].x>16:\n",
    "        return True\n",
    "    \n",
    "    return False\n",
    "\n",
    "def ramming_return(t,robot):\n",
    "    stop(t,robot)\n",
    "    robot['ram'].F=-100\n",
    "    if robot['ram'].x<5:\n",
    "        robot.taken_count+=1\n",
    "        return True\n",
    "    return False\n",
    "      \n",
    "    \n",
    "def get_move(t,robot):\n",
    "    S=LoadTable('nim skittles table.json')    \n",
    "    state=robot.count\n",
    "    player=robot.player\n",
    "    \n",
    "    if state not in S:\n",
    "        move=random_move(state,player)\n",
    "    else:\n",
    "        move=top_choice(S[state])\n",
    "        \n",
    "    robot.move=move\n",
    "    robot.taken_count=0\n",
    "    return True\n",
    "    \n",
    "def check_done(t,robot):\n",
    "    if robot.taken_count==robot.move:\n",
    "        return True  # go to next state\n",
    "    else:\n",
    "        return 'up_to_one'\n",
    "\n",
    "def check_win(t,robot):\n",
    "    state=robot.count\n",
    "    move=robot.move\n",
    "    player=robot.player\n",
    "    state=update_state(state,player,move)\n",
    "    if win_status(state,player)=='win':\n",
    "        return 'win dance'\n",
    "    if win_status(state,player)=='lose':\n",
    "        return 'lose dance'\n",
    "    \n",
    "    # otherwise just do the next robot state\n",
    "    return True\n",
    "        \n",
    "def win_dance(t,robot):\n",
    "    robot.color='c'\n",
    "    robot['center'].F=100\n",
    "    robot['center'].F_angle=0\n",
    "    if t>15:\n",
    "        return True\n",
    "\n",
    "def lose_dance(t,robot):\n",
    "    robot.color='r'\n",
    "    robot['center'].F=100\n",
    "    robot['center'].F_angle=t*5\n",
    "    if t>15:\n",
    "        return True\n",
    "        \n",
    "    \n",
    "def monitor(t,robot):\n",
    "    robot.message=robot.controller.current_state+\" \"+str(robot.count)\n",
    "    if robot.move:\n",
    "        robot.message+=\"(move %d taken %d)\" % (robot.move,robot.taken_count)"
   ]
  },
  {
   "cell_type": "code",
   "execution_count": 12,
   "metadata": {},
   "outputs": [],
   "source": [
    "take_sticks=StateMachine(\n",
    "    {\n",
    "     'up_to_one':([move_up,until_stick],'wait'),\n",
    "     'wait':(wait(0.75),'ramming speed'),\n",
    "     'ramming speed':(ramming_speed,'ramming return'),\n",
    "     'ramming return':(ramming_return,'check if done'),\n",
    "     'check if done':(check_done,'check if win'),\n",
    "     'check if win':(check_win,'stop'),\n",
    "     'win dance':(win_dance,'stop'),\n",
    "     'lose dance':(lose_dance,'stop'),\n",
    "     'stop':(stop,'_end_simulation'),   \n",
    "    },\n",
    "    first_state='up_to_one')\n",
    "\n",
    "\n",
    "state_machine=StateMachine(\n",
    "    {\n",
    "     'count':([move_up,count,until_close_to_wall],'return'),\n",
    "     'return':([move_down,until_close_to_floor],'get move'),\n",
    "     'get move':(get_move,take_sticks),\n",
    "    },\n",
    "    first_state='count'\n",
    ")\n",
    "    \n",
    "\n",
    "\n"
   ]
  },
  {
   "cell_type": "markdown",
   "metadata": {},
   "source": [
    "## Try a read state and a move"
   ]
  },
  {
   "cell_type": "code",
   "execution_count": 13,
   "metadata": {},
   "outputs": [
    {
     "data": {
      "image/png": "[encoded data removed]",
      "text/plain": [
       "<Figure size 576x792 with 1 Axes>"
      ]
     },
     "metadata": {
      "needs_background": "light"
     },
     "output_type": "display_data"
    }
   ],
   "source": [
    "env=Environment(width=24,height=35,linearDamping=20) \n",
    "robot=Robot(env)\n",
    "build(robot)\n",
    "\n",
    "state=N=initial_state()\n",
    "\n",
    "for i in range(N):\n",
    "    Box(env,x=10,y=4+1.3*i,width=7,height=0.5)\n",
    "\n",
    "\n",
    "robot.player=1\n",
    "robot.taken_count=0\n",
    "robot.count=0\n",
    "robot.already_counted=False\n",
    "robot.move=None\n",
    "\n",
    "robot.controller=Controller(robot,state_machine)\n",
    "robot.controller.monitor=monitor\n",
    "\n",
    "\n",
    "run_sim(env,robot.controller,\n",
    "        total_time=250,  # seconds\n",
    "        dt=1/60,\n",
    "        dt_display=1,  # make this larger for a faster display\n",
    "        figure_width=8,\n",
    "        plot_orientation=False,\n",
    "       )    \n"
   ]
  },
  {
   "cell_type": "code",
   "execution_count": 14,
   "metadata": {},
   "outputs": [
    {
     "data": {
      "text/plain": [
       "[<matplotlib.lines.Line2D at 0x7ff1c834ebd0>]"
      ]
     },
     "execution_count": 14,
     "metadata": {},
     "output_type": "execute_result"
    },
    {
     "data": {
      "image/png": "[encoded data removed]",
      "text/plain": [
       "<Figure size 720x576 with 1 Axes>"
      ]
     },
     "metadata": {
      "needs_background": "light"
     },
     "output_type": "display_data"
    }
   ],
   "source": [
    "t,d=robot.storage.arrays()\n",
    "plot(t,d)"
   ]
  },
  {
   "cell_type": "markdown",
   "metadata": {},
   "source": [
    "## Try a human move"
   ]
  },
  {
   "cell_type": "code",
   "execution_count": 14,
   "metadata": {},
   "outputs": [],
   "source": [
    "move=robot.move\n",
    "player=2\n",
    "state=update_state(state,player,move)"
   ]
  },
  {
   "cell_type": "code",
   "execution_count": 15,
   "metadata": {},
   "outputs": [
    {
     "name": "stdout",
     "output_type": "stream",
     "text": [
      "There are  17 sticks.\n",
      "Player  2\n"
     ]
    },
    {
     "name": "stdin",
     "output_type": "stream",
     "text": [
      "How many sticks? 2\n"
     ]
    }
   ],
   "source": [
    "show_state(state)\n",
    "move=human_move(state,player)\n",
    "\n",
    "if not move in valid_moves(state,player):\n",
    "    raise ValueError(\"Bad move!\")"
   ]
  },
  {
   "cell_type": "markdown",
   "metadata": {},
   "source": [
    "manually move the pieces"
   ]
  },
  {
   "cell_type": "code",
   "execution_count": 16,
   "metadata": {},
   "outputs": [
    {
     "data": {
      "image/png": "[encoded data removed]",
      "text/plain": [
       "<Figure size 576x792 with 1 Axes>"
      ]
     },
     "metadata": {
      "needs_background": "light"
     },
     "output_type": "display_data"
    }
   ],
   "source": [
    "for i in range(move):\n",
    "    stick=env.objects[N-state+i]\n",
    "    stick.F=100\n",
    "    \n",
    "robot.message='Moving pieces manually'\n",
    "\n",
    "run_sim(env,wait(4),\n",
    "        total_time=6,  # seconds\n",
    "        dt=1/60,\n",
    "        dt_display=1,  # make this larger for a faster display\n",
    "        figure_width=8,\n",
    "        plot_orientation=False,\n",
    "       )        "
   ]
  },
  {
   "cell_type": "markdown",
   "metadata": {},
   "source": [
    "## Try another robot move"
   ]
  },
  {
   "cell_type": "code",
   "execution_count": 17,
   "metadata": {},
   "outputs": [
    {
     "data": {
      "image/png": "[encoded data removed]",
      "text/plain": [
       "<Figure size 576x792 with 1 Axes>"
      ]
     },
     "metadata": {
      "needs_background": "light"
     },
     "output_type": "display_data"
    }
   ],
   "source": [
    "robot.count=0\n",
    "robot.already_counted=False\n",
    "robot.move=None\n",
    "\n",
    "run_sim(env,robot.controller,\n",
    "        total_time=200,  # seconds\n",
    "        dt=1/60,\n",
    "        dt_display=1,  # make this larger for a faster display\n",
    "        figure_width=8,\n",
    "        plot_orientation=False,\n",
    "       )    "
   ]
  },
  {
   "cell_type": "markdown",
   "metadata": {},
   "source": [
    "## Putting it in a loop"
   ]
  },
  {
   "cell_type": "code",
   "execution_count": 45,
   "metadata": {},
   "outputs": [],
   "source": [
    "env=Environment(width=24,height=35,linearDamping=20) \n",
    "robot=Robot(env)\n",
    "build(robot)\n",
    "\n",
    "state=N=initial_state(2)\n",
    "\n",
    "for i in range(N):\n",
    "    Box(env,x=10,y=4+1.3*i,width=7,height=0.5)\n",
    "\n"
   ]
  },
  {
   "cell_type": "code",
   "execution_count": 46,
   "metadata": {},
   "outputs": [
    {
     "data": {
      "image/png": "[encoded data removed]",
      "text/plain": [
       "<Figure size 576x792 with 1 Axes>"
      ]
     },
     "metadata": {
      "needs_background": "light"
     },
     "output_type": "display_data"
    },
    {
     "name": "stdout",
     "output_type": "stream",
     "text": [
      "Player  1 wins.\n"
     ]
    }
   ],
   "source": [
    "while True:\n",
    "\n",
    "    robot.player=1\n",
    "    robot.taken_count=0\n",
    "    robot.count=0\n",
    "    robot.already_counted=False\n",
    "    robot.move=None\n",
    "\n",
    "    robot.controller=Controller(robot,state_machine)\n",
    "    robot.controller.monitor=monitor\n",
    "\n",
    "\n",
    "    run_sim(env,robot.controller,\n",
    "            total_time=250,  # seconds\n",
    "            dt=1/60,\n",
    "            dt_display=1,  # make this larger for a faster display\n",
    "            figure_width=8,\n",
    "            plot_orientation=False,\n",
    "           )\n",
    "    \n",
    "    \n",
    "    move=robot.move\n",
    "    player=robot.player\n",
    "    state=update_state(state,player,move)    \n",
    "    \n",
    "    if win_status(state,player)=='win':\n",
    "        print(\"Player \",player, \"wins.\")\n",
    "        break\n",
    "    elif win_status(state,player)=='lose':\n",
    "        print(\"Player \",player, \"loses.\")\n",
    "        break\n",
    "        \n",
    "    \n",
    "    player=2\n",
    "    show_state(state)\n",
    "    move=human_move(state,player)\n",
    "\n",
    "    if not move in valid_moves(state,player):\n",
    "        raise ValueError(\"Bad move!\")     \n",
    "\n",
    "        \n",
    "    for i in range(move):\n",
    "        stick=env.objects[N-state+i]\n",
    "        stick.F=100\n",
    "\n",
    "    robot.message='Moving pieces manually'\n",
    "\n",
    "    run_sim(env,wait(4),\n",
    "            total_time=6,  # seconds\n",
    "            dt=1/60,\n",
    "            dt_display=1,  # make this larger for a faster display\n",
    "            figure_width=8,\n",
    "            plot_orientation=False,\n",
    "           )    \n",
    "    \n",
    "    \n",
    "    state=update_state(state,player,move)    \n",
    "    \n",
    "    if win_status(state,player)=='win':\n",
    "        print(\"Player \",player, \"wins.\")\n",
    "        break\n",
    "    elif win_status(state,player)=='lose':\n",
    "        print(\"Player \",player, \"loses.\")\n",
    "        break\n",
    "    "
   ]
  },
  {
   "cell_type": "code",
   "execution_count": null,
   "metadata": {},
   "outputs": [],
   "source": []
  }
 ],
 "metadata": {
  "kernelspec": {
   "display_name": "Python 3",
   "language": "python",
   "name": "python3"
  },
  "language_info": {
   "codemirror_mode": {
    "name": "ipython",
    "version": 3
   },
   "file_extension": ".py",
   "mimetype": "text/x-python",
   "name": "python",
   "nbconvert_exporter": "python",
   "pygments_lexer": "ipython3",
   "version": "3.7.7"
  }
 },
 "nbformat": 4,
 "nbformat_minor": 4
}
