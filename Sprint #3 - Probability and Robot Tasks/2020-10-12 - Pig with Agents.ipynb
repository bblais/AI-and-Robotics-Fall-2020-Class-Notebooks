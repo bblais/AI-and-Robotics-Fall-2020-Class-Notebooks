{
 "cells": [
  {
   "cell_type": "code",
   "execution_count": 2,
   "metadata": {},
   "outputs": [
    {
     "name": "stdout",
     "output_type": "stream",
     "text": [
      "Version:  0.2.23\n"
     ]
    }
   ],
   "source": [
    "from Game import *"
   ]
  },
  {
   "cell_type": "markdown",
   "metadata": {},
   "source": [
    "## Rules of the Game"
   ]
  },
  {
   "cell_type": "markdown",
   "metadata": {},
   "source": [
    "- before each roll, we can either choose to roll or hold\n",
    "- roll a die\n",
    "    - if it is a 1, turn score goes to zero (or 1), the turn stops and goes to the next player\n",
    "    - if not a 1, add to the turn score the number rolled, and have another turn\n",
    "- hold\n",
    "    - turn score gets added to my current score\n",
    "    - goes to the next player\n",
    "- first to 21 wins"
   ]
  },
  {
   "cell_type": "markdown",
   "metadata": {},
   "source": [
    "1. what is a move?  (how do we represent it, what are possibilities)\n",
    "    - \"roll\", \"hold\"\n",
    "2. what is a state?  (how do we represent it, what are possibilities)\n",
    "    - your current score, their current score, turn score"
   ]
  },
  {
   "cell_type": "code",
   "execution_count": 3,
   "metadata": {},
   "outputs": [],
   "source": [
    "def valid_moves(state,player):\n",
    "    return [\"roll\",\"hold\"]\n",
    "\n",
    "def initial_state():\n",
    "    # your current score, their current score, turn score\n",
    "    return [0,0,0]"
   ]
  },
  {
   "cell_type": "code",
   "execution_count": 4,
   "metadata": {},
   "outputs": [],
   "source": [
    "def show_state(state):\n",
    "    print(\"Player 1 score is \",state[0])\n",
    "    print(\"Player 2 score is \",state[1])\n",
    "    print(\"Turn score is \",state[2])    "
   ]
  },
  {
   "cell_type": "code",
   "execution_count": 6,
   "metadata": {},
   "outputs": [],
   "source": [
    "def win_status(state,player):\n",
    "    \n",
    "    # playing until 21\n",
    "    max_score=21\n",
    "    \n",
    "    if player==1:\n",
    "        current_score=state[0]\n",
    "        other_score=state[1]\n",
    "    else:\n",
    "        current_score=state[1]\n",
    "        other_score=state[0]\n",
    "        \n",
    "    turn_score=state[2]\n",
    "    \n",
    "    if current_score+turn_score>=max_score:\n",
    "        return 'win'\n",
    "    \n",
    "    "
   ]
  },
  {
   "cell_type": "code",
   "execution_count": 7,
   "metadata": {},
   "outputs": [],
   "source": [
    "def update_state(state,player,move):\n",
    "    \n",
    "    # if hold, update the scores\n",
    "    \n",
    "    # if roll, then random number 1-6, if 1, ....\n",
    "    # update turn score\n",
    "    new_state=state\n",
    "    \n",
    "    if move=='hold':\n",
    "        \n",
    "        # state[player-1]+=state[2]\n",
    "        \n",
    "        if player==1:\n",
    "            new_state[0]+=state[2]  # add the turn score to player 1's current score\n",
    "        else:\n",
    "            new_state[1]+=state[2]  # add the turn score to player 1's current score\n",
    "        \n",
    "        new_state[2]=0  # reset the turn score\n",
    "        \n",
    "    else:  #  roll\n",
    "        dice=random.randint(1,6)\n",
    "        \n",
    "        if dice==1:\n",
    "            new_state[2]=0  # reset the turn score\n",
    "        else:\n",
    "            new_state[2]+=dice\n",
    "            \n",
    "    \n",
    "    return new_state"
   ]
  },
  {
   "cell_type": "code",
   "execution_count": 8,
   "metadata": {},
   "outputs": [],
   "source": [
    "def repeat_move(state,player,move):\n",
    "    turn_score=state[2]\n",
    "    \n",
    "    if turn_score>0:\n",
    "        return True\n",
    "    \n",
    "    return False\n",
    "    "
   ]
  },
  {
   "cell_type": "code",
   "execution_count": 13,
   "metadata": {},
   "outputs": [],
   "source": [
    "def human_move(state,player):\n",
    "    print(\"Player \",player)\n",
    "    s=input(\"hold or roll?\")\n",
    "    \n",
    "    if s[0]=='h':\n",
    "        return 'hold'\n",
    "    else:\n",
    "        return 'roll'\n",
    "    \n",
    "human_agent=Agent(human_move)"
   ]
  },
  {
   "cell_type": "code",
   "execution_count": 9,
   "metadata": {},
   "outputs": [],
   "source": [
    "def random_move(state,player):\n",
    "    possible_moves=valid_moves(state,player)\n",
    "    move=random.choice(possible_moves)\n",
    "    return move\n",
    "\n",
    "\n",
    "random_agent=Agent(random_move)"
   ]
  },
  {
   "cell_type": "code",
   "execution_count": 10,
   "metadata": {},
   "outputs": [],
   "source": [
    "from Game.minimax import *\n",
    "def minimax_move(state,player):\n",
    "\n",
    "    values,moves=minimax_values(state,player,display=False)\n",
    "    return top_choice(moves,values)\n",
    "\n",
    "\n",
    "minimax_agent=Agent(minimax_move)"
   ]
  },
  {
   "cell_type": "code",
   "execution_count": 11,
   "metadata": {},
   "outputs": [],
   "source": [
    "def skittles_move(state,player,info):\n",
    "    S=info.S\n",
    "    last_action=info.last_action\n",
    "    last_state=info.last_state\n",
    "    \n",
    "    \n",
    "    # if Ive never seen this state before\n",
    "    if not state in S:\n",
    "        actions=valid_moves(state,player)\n",
    "\n",
    "        S[state]=Table()\n",
    "        for action in actions:\n",
    "            S[state][action]=3     \n",
    "    \n",
    "    move=weighted_choice(S[state])  # weighted across actions\n",
    "    \n",
    "    # what if there are no skittles for a particular state?\n",
    "    # move is None in that case\n",
    "    \n",
    "    if move is None:\n",
    "        # learn a little bit\n",
    "        if last_state:\n",
    "            S[last_state][last_action]=S[last_state][last_action]-1\n",
    "            if S[last_state][last_action]<0:\n",
    "                S[last_state][last_action]=0\n",
    "        \n",
    "        move=random_move(state,player)\n",
    "    \n",
    "    return move\n",
    "\n",
    "def skittles_after(status,player,info):\n",
    "    S=info.S\n",
    "    last_action=info.last_action\n",
    "    last_state=info.last_state\n",
    "\n",
    "    if status=='lose':\n",
    "        # learn a little bit\n",
    "        S[last_state][last_action]=S[last_state][last_action]-1\n",
    "        if S[last_state][last_action]<0:\n",
    "            S[last_state][last_action]=0\n",
    "        \n",
    "    \n",
    "\n",
    "\n",
    "skittles_agent=Agent(skittles_move)\n",
    "skittles_agent.S=Table()\n",
    "skittles_agent.post=skittles_after\n",
    "\n",
    "\n",
    "skittles_agent2=Agent(skittles_move)\n",
    "skittles_agent2.S=Table()\n",
    "skittles_agent2.post=skittles_after"
   ]
  },
  {
   "cell_type": "code",
   "execution_count": 14,
   "metadata": {},
   "outputs": [],
   "source": [
    "def Q_move(state,player,info):\n",
    "    Q=info.Q\n",
    "    last_action=info.last_action\n",
    "    last_state=info.last_state\n",
    "    \n",
    "    α=info.α\n",
    "    γ=info.γ\n",
    "    ϵ=info.ϵ\n",
    "    \n",
    "\n",
    "    # if Ive never seen this state before\n",
    "    if not state in Q:\n",
    "        actions=valid_moves(state,player)\n",
    "\n",
    "        Q[state]=Table()\n",
    "        for action in actions:\n",
    "            Q[state][action]=0     \n",
    "    \n",
    "    # deal with random vs top choice here\n",
    "    if random.random()<ϵ:\n",
    "        move=random_move(state,player)  \n",
    "    else:\n",
    "        move=top_choice(Q[state]) \n",
    "    \n",
    "    # what if there are no skittles for a particular state?\n",
    "    # move is None in that case\n",
    "    \n",
    "    if not last_action is None:  # not the first move\n",
    "        # learn a little bit\n",
    "        # change equation here\n",
    "        reward=0\n",
    "        \n",
    "        # Bellman equation\n",
    "        Q[last_state][last_action] += α*(reward+\n",
    "                         γ*max([Q[state][a] for a in Q[state]])  - \n",
    "                                Q[last_state][last_action])\n",
    "    \n",
    "        \n",
    "    \n",
    "    return move\n",
    "\n",
    "def Q_after(status,player,info):\n",
    "    Q=info.Q\n",
    "    last_action=info.last_action\n",
    "    last_state=info.last_state\n",
    "\n",
    "    α=info.α\n",
    "    γ=info.γ\n",
    "    ϵ=info.ϵ\n",
    "    \n",
    "    if status=='lose':\n",
    "        reward=-1\n",
    "    elif status=='win':\n",
    "        reward=1\n",
    "    elif status=='stalemate':\n",
    "        reward=0.5\n",
    "    else:\n",
    "        reward=0\n",
    "        \n",
    "    # learn a little bit\n",
    "    Q[last_state][last_action] += α*(reward-Q[last_state][last_action])\n",
    "        \n"
   ]
  },
  {
   "cell_type": "code",
   "execution_count": 15,
   "metadata": {},
   "outputs": [],
   "source": [
    "Q1_agent=Agent(Q_move)\n",
    "Q1_agent.Q=LoadTable('Q1_Pig_data.json')\n",
    "Q1_agent.post=Q_after\n",
    "\n",
    "Q1_agent.α=0.3  # learning rate\n",
    "Q1_agent.γ=0.9  # memory constant, discount factor\n",
    "Q1_agent.ϵ=0.1  # probability of a random move during learning\n",
    "\n",
    "Q2_agent=Agent(Q_move)\n",
    "Q2_agent.Q=LoadTable('Q2_Pig_data.json')\n",
    "Q2_agent.post=Q_after\n",
    "\n",
    "Q2_agent.α=0.3  # learning rate\n",
    "Q2_agent.γ=0.9  # memory constant, discount factor\n",
    "Q2_agent.ϵ=0.1  # probability of a random move during learning"
   ]
  },
  {
   "cell_type": "code",
   "execution_count": null,
   "metadata": {},
   "outputs": [],
   "source": []
  },
  {
   "cell_type": "code",
   "execution_count": 16,
   "metadata": {},
   "outputs": [
    {
     "name": "stdout",
     "output_type": "stream",
     "text": [
      "1000 : 0.1  2000 : 0.7000000000000001  3000 : 0.5  4000 : 0.5  5000 : 0.5  6000 : 0.6  7000 : 0.6  8000 : 0.3  9000 : 0.6  10000 : 0.4  11000 : 0.6  12000 : 0.6  "
     ]
    },
    {
     "ename": "KeyboardInterrupt",
     "evalue": "",
     "output_type": "error",
     "traceback": [
      "\u001b[0;31m---------------------------------------------------------------------------\u001b[0m",
      "\u001b[0;31mKeyboardInterrupt\u001b[0m                         Traceback (most recent call last)",
      "\u001b[0;32m<ipython-input-16-105f6939314e>\u001b[0m in \u001b[0;36m<module>\u001b[0;34m()\u001b[0m\n\u001b[1;32m     14\u001b[0m     \u001b[0mg\u001b[0m\u001b[0;34m=\u001b[0m\u001b[0mGame\u001b[0m\u001b[0;34m(\u001b[0m\u001b[0mnumber_training_games\u001b[0m\u001b[0;34m)\u001b[0m\u001b[0;34m\u001b[0m\u001b[0;34m\u001b[0m\u001b[0m\n\u001b[1;32m     15\u001b[0m     \u001b[0mg\u001b[0m\u001b[0;34m.\u001b[0m\u001b[0mdisplay\u001b[0m\u001b[0;34m=\u001b[0m\u001b[0;32mFalse\u001b[0m\u001b[0;34m\u001b[0m\u001b[0;34m\u001b[0m\u001b[0m\n\u001b[0;32m---> 16\u001b[0;31m     \u001b[0mg\u001b[0m\u001b[0;34m.\u001b[0m\u001b[0mrun\u001b[0m\u001b[0;34m(\u001b[0m\u001b[0mQ1_agent\u001b[0m\u001b[0;34m,\u001b[0m\u001b[0mQ2_agent\u001b[0m\u001b[0;34m)\u001b[0m\u001b[0;34m\u001b[0m\u001b[0;34m\u001b[0m\u001b[0m\n\u001b[0m\u001b[1;32m     17\u001b[0m \u001b[0;34m\u001b[0m\u001b[0m\n\u001b[1;32m     18\u001b[0m     \u001b[0;31m#=================\u001b[0m\u001b[0;34m\u001b[0m\u001b[0;34m\u001b[0m\u001b[0;34m\u001b[0m\u001b[0m\n",
      "\u001b[0;32m/Users/bblais/opt/anaconda3/envs/py3/lib/python3.7/site-packages/Game/game.py\u001b[0m in \u001b[0;36mrun\u001b[0;34m(self, agent1, agent2)\u001b[0m\n\u001b[1;32m    326\u001b[0m                 \u001b[0mmove_count\u001b[0m\u001b[0;34m+=\u001b[0m\u001b[0;36m1\u001b[0m\u001b[0;34m\u001b[0m\u001b[0;34m\u001b[0m\u001b[0m\n\u001b[1;32m    327\u001b[0m                 \u001b[0magents\u001b[0m\u001b[0;34m[\u001b[0m\u001b[0mplayer\u001b[0m\u001b[0;34m]\u001b[0m\u001b[0;34m.\u001b[0m\u001b[0mstates\u001b[0m\u001b[0;34m.\u001b[0m\u001b[0mappend\u001b[0m\u001b[0;34m(\u001b[0m\u001b[0mdeepcopy\u001b[0m\u001b[0;34m(\u001b[0m\u001b[0mobservation\u001b[0m\u001b[0;34m)\u001b[0m\u001b[0;34m)\u001b[0m\u001b[0;34m\u001b[0m\u001b[0;34m\u001b[0m\u001b[0m\n\u001b[0;32m--> 328\u001b[0;31m                 \u001b[0magents\u001b[0m\u001b[0;34m[\u001b[0m\u001b[0mplayer\u001b[0m\u001b[0;34m]\u001b[0m\u001b[0;34m.\u001b[0m\u001b[0mactions\u001b[0m\u001b[0;34m.\u001b[0m\u001b[0mappend\u001b[0m\u001b[0;34m(\u001b[0m\u001b[0mdeepcopy\u001b[0m\u001b[0;34m(\u001b[0m\u001b[0mmove\u001b[0m\u001b[0;34m)\u001b[0m\u001b[0;34m)\u001b[0m\u001b[0;34m\u001b[0m\u001b[0;34m\u001b[0m\u001b[0m\n\u001b[0m\u001b[1;32m    329\u001b[0m                 \u001b[0magents\u001b[0m\u001b[0;34m[\u001b[0m\u001b[0mplayer\u001b[0m\u001b[0;34m]\u001b[0m\u001b[0;34m.\u001b[0m\u001b[0mlast_action\u001b[0m\u001b[0;34m=\u001b[0m\u001b[0mdeepcopy\u001b[0m\u001b[0;34m(\u001b[0m\u001b[0mmove\u001b[0m\u001b[0;34m)\u001b[0m\u001b[0;34m\u001b[0m\u001b[0;34m\u001b[0m\u001b[0m\n\u001b[1;32m    330\u001b[0m                 \u001b[0magents\u001b[0m\u001b[0;34m[\u001b[0m\u001b[0mplayer\u001b[0m\u001b[0;34m]\u001b[0m\u001b[0;34m.\u001b[0m\u001b[0mlast_state\u001b[0m\u001b[0;34m=\u001b[0m\u001b[0mdeepcopy\u001b[0m\u001b[0;34m(\u001b[0m\u001b[0mobservation\u001b[0m\u001b[0;34m)\u001b[0m\u001b[0;34m\u001b[0m\u001b[0;34m\u001b[0m\u001b[0m\n",
      "\u001b[0;32m/Users/bblais/opt/anaconda3/envs/py3/lib/python3.7/site-packages/Game/game.py\u001b[0m in \u001b[0;36m__getattr__\u001b[0;34m(self, name)\u001b[0m\n\u001b[1;32m    126\u001b[0m             \u001b[0;32mreturn\u001b[0m\u001b[0;34m\u001b[0m\u001b[0;34m\u001b[0m\u001b[0m\n\u001b[1;32m    127\u001b[0m \u001b[0;34m\u001b[0m\u001b[0m\n\u001b[0;32m--> 128\u001b[0;31m     \u001b[0;32mdef\u001b[0m \u001b[0m__getattr__\u001b[0m\u001b[0;34m(\u001b[0m\u001b[0mself\u001b[0m\u001b[0;34m,\u001b[0m\u001b[0mname\u001b[0m\u001b[0;34m)\u001b[0m\u001b[0;34m:\u001b[0m\u001b[0;34m\u001b[0m\u001b[0;34m\u001b[0m\u001b[0m\n\u001b[0m\u001b[1;32m    129\u001b[0m         \u001b[0;31m# this is called when things fail\u001b[0m\u001b[0;34m\u001b[0m\u001b[0;34m\u001b[0m\u001b[0;34m\u001b[0m\u001b[0m\n\u001b[1;32m    130\u001b[0m         \u001b[0;32mreturn\u001b[0m \u001b[0mself\u001b[0m\u001b[0;34m.\u001b[0m\u001b[0mstuff\u001b[0m\u001b[0;34m[\u001b[0m\u001b[0mname\u001b[0m\u001b[0;34m]\u001b[0m\u001b[0;34m\u001b[0m\u001b[0;34m\u001b[0m\u001b[0m\n",
      "\u001b[0;31mKeyboardInterrupt\u001b[0m: "
     ]
    }
   ],
   "source": [
    "total_number_of_games=0\n",
    "for epoch in range(100):\n",
    "    \n",
    "    try:\n",
    "        number_training_games=1000\n",
    "        number_of_testing_games=10\n",
    "\n",
    "        #=================\n",
    "        # traning cycle\n",
    "        Q1_agent.α=0.3  # learning rate\n",
    "        Q1_agent.ϵ=0.1  # probability of a random move during learning\n",
    "        Q2_agent.α=0.3  # learning rate\n",
    "        Q2_agent.ϵ=0.1  # probability of a random move during learning\n",
    "\n",
    "        g=Game(number_training_games)\n",
    "        g.display=False\n",
    "        g.run(Q1_agent,Q2_agent)\n",
    "\n",
    "        #=================\n",
    "        # testing cycle\n",
    "        Q1_agent.α=0.0  # learning rate\n",
    "        Q1_agent.ϵ=0.0  # probability of a random move during learning\n",
    "        Q2_agent.α=0.0  # learning rate\n",
    "        Q2_agent.ϵ=0.0  # probability of a random move during learning\n",
    "\n",
    "\n",
    "        g=Game(number_of_testing_games)\n",
    "        g.display=False\n",
    "        result=g.run(Q1_agent,Q2_agent)\n",
    "\n",
    "        total_number_of_games+=number_training_games\n",
    "        win_percentage=sum([r==1 for r in result])/number_training_games*100\n",
    "        loss_percentage=sum([r==2 for r in result])/number_training_games*100\n",
    "        tie_percentage=sum([r==0 for r in result])/number_training_games*100\n",
    "\n",
    "        print(total_number_of_games,\":\",win_percentage,\" \",end=\"\")\n",
    "    except KeyboardInterrupt:\n",
    "        \n",
    "        pass\n",
    "\n",
    "    SaveTable(Q1_agent.Q,'Q1_Pig_data.json')\n",
    "    SaveTable(Q2_agent.Q,'Q2_Pig_data.json')    \n",
    "    "
   ]
  },
  {
   "cell_type": "code",
   "execution_count": null,
   "metadata": {},
   "outputs": [],
   "source": []
  }
 ],
 "metadata": {
  "kernelspec": {
   "display_name": "Python 3",
   "language": "python",
   "name": "python3"
  },
  "language_info": {
   "codemirror_mode": {
    "name": "ipython",
    "version": 3
   },
   "file_extension": ".py",
   "mimetype": "text/x-python",
   "name": "python",
   "nbconvert_exporter": "python",
   "pygments_lexer": "ipython3",
   "version": "3.7.7"
  }
 },
 "nbformat": 4,
 "nbformat_minor": 4
}
