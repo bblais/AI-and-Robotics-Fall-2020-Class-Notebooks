{
 "cells": [
  {
   "cell_type": "markdown",
   "metadata": {},
   "source": [
    "Definition of factorial\n",
    "\n",
    "$$\n",
    "N! = 1 \\cdot 2 \\cdot 3 \\cdots N\n",
    "$$"
   ]
  },
  {
   "cell_type": "markdown",
   "metadata": {},
   "source": [
    "$$\n",
    "N! = N\\cdot (N-1)!\n",
    "$$"
   ]
  },
  {
   "cell_type": "code",
   "execution_count": 3,
   "metadata": {},
   "outputs": [],
   "source": [
    "def factorial(N):\n",
    "    if N==0:\n",
    "        return 1\n",
    "    \n",
    "    \n",
    "    return N*factorial(N-1)"
   ]
  },
  {
   "cell_type": "code",
   "execution_count": 5,
   "metadata": {},
   "outputs": [
    {
     "data": {
      "text/plain": [
       "6689502913449127057588118054090372586752746333138029810295671352301633557244962989366874165271984981308157637893214090552534408589408121859898481114389650005964960521256960000000000000000000000000000"
      ]
     },
     "execution_count": 5,
     "metadata": {},
     "output_type": "execute_result"
    }
   ],
   "source": [
    "factorial(120)"
   ]
  },
  {
   "cell_type": "code",
   "execution_count": 15,
   "metadata": {},
   "outputs": [],
   "source": [
    "max_score=35\n",
    "saved_p={}\n",
    "saved_whether_roll={}\n",
    "\n",
    "def p_win(i,j,k):  # i = my score, j is the other score, k is the turn score\n",
    "    \n",
    "    if i+k>=max_score:\n",
    "        return 1\n",
    "    \n",
    "    if j>=max_score:\n",
    "        return 0.0\n",
    "    \n",
    "    \n",
    "    if (i,j,k) in saved_p:\n",
    "        return saved_p[(i,j,k)]\n",
    "    \n",
    "\n",
    "    # if I roll a one\n",
    "    #p_win_roll=1-(probability that I lose, handing it off to the other)\n",
    "    p_win_roll=1-p_win(j,i+1,0)\n",
    "    \n",
    "    # if I roll a two, three,\n",
    "    for dice in [2,3,4,5,6]:  # range(2,6+1) is equal but unreadable\n",
    "        p_win_roll+=p_win(i,j,k+dice)\n",
    "    \n",
    "    p_win_roll/=6\n",
    "    \n",
    "    if k==0:  # add 1 even when the turn score is zero\n",
    "        p_win_hold=1-p_win(j,i+1,0)\n",
    "    else:\n",
    "        p_win_hold=1-p_win(j,i+k,0)\n",
    "\n",
    "        \n",
    "    # assume that we are rational\n",
    "    if p_win_roll>p_win_hold:\n",
    "        p=p_win_roll\n",
    "        saved_whether_roll[(i,j,k)]=True\n",
    "    else:\n",
    "        p=p_win_hold\n",
    "        saved_whether_roll[(i,j,k)]=False\n",
    "        \n",
    "    \n",
    "    saved_p[(i,j,k)]=p\n",
    "    \n",
    "    return p"
   ]
  },
  {
   "cell_type": "code",
   "execution_count": 17,
   "metadata": {},
   "outputs": [
    {
     "data": {
      "text/plain": [
       "0.23347277276452383"
      ]
     },
     "execution_count": 17,
     "metadata": {},
     "output_type": "execute_result"
    }
   ],
   "source": [
    "p_win(0,31,0)"
   ]
  },
  {
   "cell_type": "code",
   "execution_count": 13,
   "metadata": {},
   "outputs": [
    {
     "data": {
      "text/plain": [
       "0.9224240788491088"
      ]
     },
     "execution_count": 13,
     "metadata": {},
     "output_type": "execute_result"
    }
   ],
   "source": [
    "p_win(18,0,0)"
   ]
  },
  {
   "cell_type": "code",
   "execution_count": null,
   "metadata": {},
   "outputs": [],
   "source": []
  }
 ],
 "metadata": {
  "kernelspec": {
   "display_name": "Python 3",
   "language": "python",
   "name": "python3"
  },
  "language_info": {
   "codemirror_mode": {
    "name": "ipython",
    "version": 3
   },
   "file_extension": ".py",
   "mimetype": "text/x-python",
   "name": "python",
   "nbconvert_exporter": "python",
   "pygments_lexer": "ipython3",
   "version": "3.7.7"
  }
 },
 "nbformat": 4,
 "nbformat_minor": 4
}
