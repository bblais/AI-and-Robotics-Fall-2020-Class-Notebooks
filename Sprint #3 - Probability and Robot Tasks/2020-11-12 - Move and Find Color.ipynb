{
 "cells": [
  {
   "cell_type": "code",
   "execution_count": 1,
   "metadata": {},
   "outputs": [
    {
     "name": "stdout",
     "output_type": "stream",
     "text": [
      "Populating the interactive namespace from numpy and matplotlib\n"
     ]
    }
   ],
   "source": [
    "%pylab inline"
   ]
  },
  {
   "cell_type": "code",
   "execution_count": 2,
   "metadata": {},
   "outputs": [
    {
     "name": "stdout",
     "output_type": "stream",
     "text": [
      "Version:  0.0.22\n"
     ]
    }
   ],
   "source": [
    "from RobotSim373 import *"
   ]
  },
  {
   "cell_type": "code",
   "execution_count": 3,
   "metadata": {},
   "outputs": [],
   "source": [
    "def build(robot):\n",
    "    Box(robot,x=5,y=5,width=1,height=1,name='bob')"
   ]
  },
  {
   "cell_type": "code",
   "execution_count": 12,
   "metadata": {},
   "outputs": [],
   "source": [
    "def forward(t,robot):\n",
    "    robot['bob'].F=30\n",
    "    \n",
    "def until_blue(t,robot):\n",
    "    color=robot['bob'].read_color()\n",
    "    red,green,blue=color\n",
    "    \n",
    "    if blue>200 and green>200 and red<100:\n",
    "        return True\n",
    "        \n",
    "def monitor(t,robot):\n",
    "    robot.message=robot['bob'].read_color()"
   ]
  },
  {
   "cell_type": "code",
   "execution_count": 13,
   "metadata": {},
   "outputs": [],
   "source": [
    "state_machine=StateMachine({\n",
    "    'forward':[[forward,until_blue],'_end_simulation']\n",
    "},first_state='forward')"
   ]
  },
  {
   "cell_type": "code",
   "execution_count": 15,
   "metadata": {},
   "outputs": [
    {
     "data": {
      "image/png": "[encoded data removed]",
      "text/plain": [
       "<Figure size 576x312 with 1 Axes>"
      ]
     },
     "metadata": {
      "needs_background": "light"
     },
     "output_type": "display_data"
    }
   ],
   "source": [
    "env=Environment(image=\"../images/stripes-yellow-lines-blue-red-streaks-white-green.jpg\",linearDamping=20) \n",
    "robot=Robot(env)\n",
    "build(robot)\n",
    "\n",
    "robot.controller=Controller(robot,state_machine)\n",
    "robot.controller.monitor=monitor\n",
    "\n",
    "\n",
    "run_sim(env,robot.controller,\n",
    "        total_time=20,  # seconds\n",
    "        dt=1/60,\n",
    "        dt_display=.1,  # make this larger for a faster display\n",
    "        figure_width=8,\n",
    "       )    \n"
   ]
  },
  {
   "cell_type": "code",
   "execution_count": null,
   "metadata": {},
   "outputs": [],
   "source": []
  }
 ],
 "metadata": {
  "kernelspec": {
   "display_name": "Python 3",
   "language": "python",
   "name": "python3"
  },
  "language_info": {
   "codemirror_mode": {
    "name": "ipython",
    "version": 3
   },
   "file_extension": ".py",
   "mimetype": "text/x-python",
   "name": "python",
   "nbconvert_exporter": "python",
   "pygments_lexer": "ipython3",
   "version": "3.7.7"
  }
 },
 "nbformat": 4,
 "nbformat_minor": 4
}
