{
 "cells": [
  {
   "cell_type": "code",
   "execution_count": 1,
   "metadata": {},
   "outputs": [
    {
     "name": "stdout",
     "output_type": "stream",
     "text": [
      "Version:  0.2.23\n"
     ]
    }
   ],
   "source": [
    "from Game import *"
   ]
  },
  {
   "cell_type": "markdown",
   "metadata": {},
   "source": [
    "## Rules of the Game"
   ]
  },
  {
   "cell_type": "markdown",
   "metadata": {},
   "source": [
    "- before each roll, we can either choose to roll or hold\n",
    "- roll a die\n",
    "    - if it is a 1, turn score goes to zero (or 1), the turn stops and goes to the next player\n",
    "    - if not a 1, add to the turn score the number rolled, and have another turn\n",
    "- hold\n",
    "    - turn score gets added to my current score\n",
    "    - goes to the next player\n",
    "- first to 21 wins"
   ]
  },
  {
   "cell_type": "markdown",
   "metadata": {},
   "source": [
    "1. what is a move?  (how do we represent it, what are possibilities)\n",
    "    - \"roll\", \"hold\"\n",
    "2. what is a state?  (how do we represent it, what are possibilities)\n",
    "    - your current score, their current score, turn score"
   ]
  },
  {
   "cell_type": "code",
   "execution_count": 29,
   "metadata": {},
   "outputs": [],
   "source": [
    "def valid_moves(state,player):\n",
    "    return [\"roll\",\"hold\"]\n",
    "\n",
    "def initial_state():\n",
    "    # your current score, their current score, turn score, max_score, last die\n",
    "    return [0,0,0,101,0]"
   ]
  },
  {
   "cell_type": "code",
   "execution_count": 30,
   "metadata": {},
   "outputs": [],
   "source": [
    "def show_state(state):\n",
    "    \n",
    "    i,j,k,max_score,last_die=state\n",
    "    \n",
    "    if last_die==0:  # new turn\n",
    "        print(\"====\")\n",
    "    else:\n",
    "        print(\"Rolled \",last_die)\n",
    "        \n",
    "    print(\"%d\\t%d\\t%d\" % (i,j,k))\n",
    "    \n",
    "    print()\n",
    "    "
   ]
  },
  {
   "cell_type": "code",
   "execution_count": 31,
   "metadata": {},
   "outputs": [],
   "source": [
    "def win_status(state,player):\n",
    "    \n",
    "    max_score=state[3]\n",
    "    \n",
    "    if player==1:\n",
    "        current_score=state[0]\n",
    "        other_score=state[1]\n",
    "    else:\n",
    "        current_score=state[1]\n",
    "        other_score=state[0]\n",
    "        \n",
    "    turn_score=state[2]\n",
    "    \n",
    "    if current_score+turn_score>=max_score:\n",
    "        return 'win'\n",
    "    \n",
    "    "
   ]
  },
  {
   "cell_type": "code",
   "execution_count": 32,
   "metadata": {},
   "outputs": [],
   "source": [
    "def update_state(state,player,move):\n",
    "    \n",
    "    # if hold, update the scores\n",
    "    \n",
    "    # if roll, then random number 1-6, if 1, ....\n",
    "    # update turn score\n",
    "    new_state=state\n",
    "    \n",
    "    if move=='hold':\n",
    "        \n",
    "        # state[player-1]+=state[2]\n",
    "        \n",
    "        if player==1:\n",
    "            new_state[0]+=state[2]  # add the turn score to player 1's current score\n",
    "        else:\n",
    "            new_state[1]+=state[2]  # add the turn score to player 1's current score\n",
    "        \n",
    "        new_state[2]=0  # reset the turn score\n",
    "        last_die=0\n",
    "        state[4]=last_die\n",
    "        \n",
    "    else:  #  roll\n",
    "        dice=random.randint(1,6)\n",
    "        \n",
    "        if dice==1:\n",
    "            new_state[2]=0  # reset the turn score\n",
    "        else:\n",
    "            new_state[2]+=dice\n",
    "            \n",
    "        last_die=dice\n",
    "        state[4]=last_die\n",
    "    \n",
    "    return new_state"
   ]
  },
  {
   "cell_type": "code",
   "execution_count": 33,
   "metadata": {},
   "outputs": [],
   "source": [
    "def repeat_move(state,player,move):\n",
    "    turn_score=state[2]\n",
    "    \n",
    "    if turn_score>0:\n",
    "        return True\n",
    "    \n",
    "    return False\n",
    "    "
   ]
  },
  {
   "cell_type": "code",
   "execution_count": 34,
   "metadata": {},
   "outputs": [],
   "source": [
    "def human_move(state,player):\n",
    "    print(\"Player \",player)\n",
    "    s=input(\"hold or roll?\")\n",
    "    \n",
    "    if s[0]=='h':\n",
    "        return 'hold'\n",
    "    else:\n",
    "        return 'roll'\n",
    "    \n",
    "human_agent=Agent(human_move)"
   ]
  },
  {
   "cell_type": "code",
   "execution_count": 35,
   "metadata": {},
   "outputs": [],
   "source": [
    "def random_move(state,player):\n",
    "    possible_moves=valid_moves(state,player)\n",
    "    move=random.choice(possible_moves)\n",
    "    return move\n",
    "\n",
    "\n",
    "random_agent=Agent(random_move)"
   ]
  },
  {
   "cell_type": "code",
   "execution_count": 36,
   "metadata": {},
   "outputs": [],
   "source": [
    "saved_p={}\n",
    "saved_p_win_roll={}\n",
    "saved_p_win_hold={}\n",
    "saved_whether_roll={}\n",
    "\n",
    "def p_win(i,j,k,max_score=21):  # i = my score, j is the other score, k is the turn score\n",
    "    \n",
    "    if i+k>=max_score:\n",
    "        return 1\n",
    "    \n",
    "    if j>=max_score:\n",
    "        return 0.0\n",
    "    \n",
    "    \n",
    "    if (i,j,k,max_score) in saved_p:\n",
    "        return saved_p[(i,j,k,max_score)]\n",
    "    \n",
    "\n",
    "    # if I roll a one\n",
    "    #p_win_roll=1-(probability that I lose, handing it off to the other)\n",
    "    p_win_roll=1-p_win(j,i+1,0,max_score)\n",
    "    \n",
    "    # if I roll a two, three,\n",
    "    for dice in [2,3,4,5,6]:  # range(2,6+1) is equal but unreadable\n",
    "        p_win_roll+=p_win(i,j,k+dice,max_score)\n",
    "    \n",
    "    p_win_roll/=6\n",
    "    \n",
    "    if k==0:  # add 1 even when the turn score is zero\n",
    "        p_win_hold=1-p_win(j,i+1,0,max_score)\n",
    "    else:\n",
    "        p_win_hold=1-p_win(j,i+k,0,max_score)\n",
    "\n",
    "        \n",
    "    # assume that we are rational\n",
    "    if p_win_roll>p_win_hold:\n",
    "        p=p_win_roll\n",
    "        saved_whether_roll[(i,j,k,max_score)]=True\n",
    "    else:\n",
    "        p=p_win_hold\n",
    "        saved_whether_roll[(i,j,k,max_score)]=False\n",
    "        \n",
    "    \n",
    "    saved_p[(i,j,k,max_score)]=p\n",
    "    saved_p_win_roll[(i,j,k,max_score)]=p_win_roll\n",
    "    saved_p_win_hold[(i,j,k,max_score)]=p_win_hold\n",
    "    \n",
    "    return p"
   ]
  },
  {
   "cell_type": "code",
   "execution_count": 37,
   "metadata": {},
   "outputs": [
    {
     "data": {
      "text/plain": [
       "(0.731169217523134, 0.3436646265180189)"
      ]
     },
     "execution_count": 37,
     "metadata": {},
     "output_type": "execute_result"
    }
   ],
   "source": [
    "i,j,k,max_score=(20,18,0,30)\n",
    "p=p_win(i,j,k,max_score)\n",
    "saved_p_win_roll[(i,j,k,max_score)],saved_p_win_hold[(i,j,k,max_score)]"
   ]
  },
  {
   "cell_type": "code",
   "execution_count": 38,
   "metadata": {},
   "outputs": [],
   "source": [
    "keys=list(saved_p_win_roll.keys())"
   ]
  },
  {
   "cell_type": "code",
   "execution_count": 39,
   "metadata": {},
   "outputs": [
    {
     "name": "stdout",
     "output_type": "stream",
     "text": [
      "(29, 27, 0, 30) 1.0\n",
      "(29, 28, 0, 30) 1.0\n",
      "(26, 29, 2, 30) 0.8333333333333334\n",
      "(29, 29, 0, 30) 1.0\n",
      "(26, 29, 3, 30) 0.8333333333333334\n",
      "(26, 29, 0, 30) 0.7777777777777778\n",
      "(28, 26, 0, 30) 0.8703703703703703\n",
      "(28, 29, 0, 30) 0.8333333333333334\n",
      "(25, 28, 4, 30) 0.8549382716049383\n",
      "(27, 29, 2, 30) 0.8333333333333334\n",
      "(27, 29, 0, 30) 0.8055555555555557\n",
      "(28, 27, 0, 30) 0.8657407407407408\n"
     ]
    }
   ],
   "source": [
    "for i,key in enumerate(keys):\n",
    "    print(key,saved_p_win_roll[key])\n",
    "    if i>10:\n",
    "        break"
   ]
  },
  {
   "cell_type": "code",
   "execution_count": 40,
   "metadata": {},
   "outputs": [],
   "source": [
    "def probability_move(state,player):\n",
    "    \n",
    "    i,j,k,max_score,last_die=state\n",
    "    \n",
    "    p=p_win(i,j,k,max_score)\n",
    "    roll=saved_whether_roll[(i,j,k,max_score)]\n",
    "    \n",
    "    if roll:\n",
    "        return \"roll\"\n",
    "    else:\n",
    "        return \"hold\"\n",
    "    \n",
    "probability_agent=Agent(probability_move)"
   ]
  },
  {
   "cell_type": "code",
   "execution_count": null,
   "metadata": {},
   "outputs": [],
   "source": []
  },
  {
   "cell_type": "code",
   "execution_count": 41,
   "metadata": {},
   "outputs": [
    {
     "name": "stdout",
     "output_type": "stream",
     "text": [
      "====\n",
      "Game  1\n",
      "====\n",
      "0\t0\t0\n",
      "\n",
      "Player 1 moves roll\n",
      "Rolled  2\n",
      "0\t0\t2\n",
      "\n",
      "Player 1 moves roll\n",
      "Rolled  4\n",
      "0\t0\t6\n",
      "\n",
      "Player 1 moves roll\n",
      "Rolled  1\n",
      "0\t0\t0\n",
      "\n",
      "Player 2 moves hold\n",
      "====\n",
      "0\t0\t0\n",
      "\n",
      "Player 1 moves roll\n",
      "Rolled  6\n",
      "0\t0\t6\n",
      "\n",
      "Player 1 moves roll\n",
      "Rolled  1\n",
      "0\t0\t0\n",
      "\n",
      "Player 2 moves roll\n",
      "Rolled  3\n",
      "0\t0\t3\n",
      "\n",
      "Player 2 moves hold\n",
      "====\n",
      "0\t3\t0\n",
      "\n",
      "Player 1 moves roll\n",
      "Rolled  5\n",
      "0\t3\t5\n",
      "\n",
      "Player 1 moves roll\n",
      "Rolled  4\n",
      "0\t3\t9\n",
      "\n",
      "Player 1 moves roll\n",
      "Rolled  4\n",
      "0\t3\t13\n",
      "\n",
      "Player 1 moves roll\n",
      "Rolled  4\n",
      "0\t3\t17\n",
      "\n",
      "Player 1 moves roll\n",
      "Rolled  6\n",
      "0\t3\t23\n",
      "\n",
      "Player 1 moves hold\n",
      "====\n",
      "23\t3\t0\n",
      "\n",
      "Player 2 moves roll\n",
      "Rolled  1\n",
      "23\t3\t0\n",
      "\n",
      "Player 1 moves roll\n",
      "Rolled  1\n",
      "23\t3\t0\n",
      "\n",
      "Player 2 moves hold\n",
      "====\n",
      "23\t3\t0\n",
      "\n",
      "Player 1 moves roll\n",
      "Rolled  6\n",
      "23\t3\t6\n",
      "\n",
      "Player 1 moves roll\n",
      "Rolled  3\n",
      "23\t3\t9\n",
      "\n",
      "Player 1 moves roll\n",
      "Rolled  1\n",
      "23\t3\t0\n",
      "\n",
      "Player 2 moves hold\n",
      "====\n",
      "23\t3\t0\n",
      "\n",
      "Player 1 moves roll\n",
      "Rolled  2\n",
      "23\t3\t2\n",
      "\n",
      "Player 1 moves roll\n",
      "Rolled  3\n",
      "23\t3\t5\n",
      "\n",
      "Player 1 moves roll\n",
      "Rolled  4\n",
      "23\t3\t9\n",
      "\n",
      "Player 1 moves roll\n",
      "Rolled  5\n",
      "23\t3\t14\n",
      "\n",
      "Player 1 moves roll\n",
      "Rolled  4\n",
      "23\t3\t18\n",
      "\n",
      "Player 1 moves roll\n",
      "Rolled  3\n",
      "23\t3\t21\n",
      "\n",
      "Player 1 moves hold\n",
      "====\n",
      "44\t3\t0\n",
      "\n",
      "Player 2 moves hold\n",
      "====\n",
      "44\t3\t0\n",
      "\n",
      "Player 1 moves roll\n",
      "Rolled  5\n",
      "44\t3\t5\n",
      "\n",
      "Player 1 moves roll\n",
      "Rolled  2\n",
      "44\t3\t7\n",
      "\n",
      "Player 1 moves roll\n",
      "Rolled  6\n",
      "44\t3\t13\n",
      "\n",
      "Player 1 moves roll\n",
      "Rolled  5\n",
      "44\t3\t18\n",
      "\n",
      "Player 1 moves hold\n",
      "====\n",
      "62\t3\t0\n",
      "\n",
      "Player 2 moves roll\n",
      "Rolled  5\n",
      "62\t3\t5\n",
      "\n",
      "Player 2 moves roll\n",
      "Rolled  1\n",
      "62\t3\t0\n",
      "\n",
      "Player 1 moves roll\n",
      "Rolled  3\n",
      "62\t3\t3\n",
      "\n",
      "Player 1 moves roll\n",
      "Rolled  1\n",
      "62\t3\t0\n",
      "\n",
      "Player 2 moves roll\n",
      "Rolled  1\n",
      "62\t3\t0\n",
      "\n",
      "Player 1 moves roll\n",
      "Rolled  3\n",
      "62\t3\t3\n",
      "\n",
      "Player 1 moves roll\n",
      "Rolled  2\n",
      "62\t3\t5\n",
      "\n",
      "Player 1 moves roll\n",
      "Rolled  3\n",
      "62\t3\t8\n",
      "\n",
      "Player 1 moves roll\n",
      "Rolled  5\n",
      "62\t3\t13\n",
      "\n",
      "Player 1 moves roll\n",
      "Rolled  1\n",
      "62\t3\t0\n",
      "\n",
      "Player 2 moves hold\n",
      "====\n",
      "62\t3\t0\n",
      "\n",
      "Player 1 moves roll\n",
      "Rolled  2\n",
      "62\t3\t2\n",
      "\n",
      "Player 1 moves roll\n",
      "Rolled  6\n",
      "62\t3\t8\n",
      "\n",
      "Player 1 moves roll\n",
      "Rolled  3\n",
      "62\t3\t11\n",
      "\n",
      "Player 1 moves roll\n",
      "Rolled  2\n",
      "62\t3\t13\n",
      "\n",
      "Player 1 moves roll\n",
      "Rolled  2\n",
      "62\t3\t15\n",
      "\n",
      "Player 1 moves roll\n",
      "Rolled  4\n",
      "62\t3\t19\n",
      "\n",
      "Player 1 moves hold\n",
      "====\n",
      "81\t3\t0\n",
      "\n",
      "Player 2 moves hold\n",
      "====\n",
      "81\t3\t0\n",
      "\n",
      "Player 1 moves roll\n",
      "Rolled  4\n",
      "81\t3\t4\n",
      "\n",
      "Player 1 moves roll\n",
      "Rolled  1\n",
      "81\t3\t0\n",
      "\n",
      "Player 2 moves roll\n",
      "Rolled  4\n",
      "81\t3\t4\n",
      "\n",
      "Player 2 moves hold\n",
      "====\n",
      "81\t7\t0\n",
      "\n",
      "Player 1 moves roll\n",
      "Rolled  2\n",
      "81\t7\t2\n",
      "\n",
      "Player 1 moves roll\n",
      "Rolled  5\n",
      "81\t7\t7\n",
      "\n",
      "Player 1 moves roll\n",
      "Rolled  1\n",
      "81\t7\t0\n",
      "\n",
      "Player 2 moves roll\n",
      "Rolled  5\n",
      "81\t7\t5\n",
      "\n",
      "Player 2 moves roll\n",
      "Rolled  4\n",
      "81\t7\t9\n",
      "\n",
      "Player 2 moves hold\n",
      "====\n",
      "81\t16\t0\n",
      "\n",
      "Player 1 moves roll\n",
      "Rolled  2\n",
      "81\t16\t2\n",
      "\n",
      "Player 1 moves roll\n",
      "Rolled  1\n",
      "81\t16\t0\n",
      "\n",
      "Player 2 moves hold\n",
      "====\n",
      "81\t16\t0\n",
      "\n",
      "Player 1 moves roll\n",
      "Rolled  3\n",
      "81\t16\t3\n",
      "\n",
      "Player 1 moves roll\n",
      "Rolled  2\n",
      "81\t16\t5\n",
      "\n",
      "Player 1 moves roll\n",
      "Rolled  5\n",
      "81\t16\t10\n",
      "\n",
      "Player 1 moves roll\n",
      "Rolled  3\n",
      "81\t16\t13\n",
      "\n",
      "Player 1 moves roll\n",
      "Rolled  5\n",
      "81\t16\t18\n",
      "\n",
      "Player 1 moves roll\n",
      "Rolled  5\n",
      "81\t16\t18\n",
      "\n",
      "Player  1 won.\n"
     ]
    }
   ],
   "source": [
    "g=Game(number_of_games=1)\n",
    "g.display=True\n",
    "g.run(probability_agent,random_agent);"
   ]
  },
  {
   "cell_type": "code",
   "execution_count": 42,
   "metadata": {},
   "outputs": [],
   "source": [
    "g=Game(number_of_games=1000)\n",
    "g.display=False\n",
    "g.run(probability_agent,random_agent);"
   ]
  },
  {
   "cell_type": "code",
   "execution_count": 43,
   "metadata": {},
   "outputs": [
    {
     "data": {
      "text/plain": [
       "(99.6, 0.4, 0.0)"
      ]
     },
     "execution_count": 43,
     "metadata": {},
     "output_type": "execute_result"
    }
   ],
   "source": [
    "g.percent_win_lose_tie()"
   ]
  },
  {
   "cell_type": "code",
   "execution_count": 44,
   "metadata": {},
   "outputs": [],
   "source": [
    "def bob_move(state,player):\n",
    "    return \"roll\"\n",
    "\n",
    "bob=Agent(bob_move)"
   ]
  },
  {
   "cell_type": "code",
   "execution_count": 91,
   "metadata": {},
   "outputs": [],
   "source": [
    "g=Game(number_of_games=1000)\n",
    "g.display=False\n",
    "g.run(probability_agent,bob);"
   ]
  },
  {
   "cell_type": "code",
   "execution_count": 92,
   "metadata": {},
   "outputs": [
    {
     "data": {
      "text/plain": [
       "(89.1, 10.9, 0.0)"
      ]
     },
     "execution_count": 92,
     "metadata": {},
     "output_type": "execute_result"
    }
   ],
   "source": [
    "g.percent_win_lose_tie()"
   ]
  },
  {
   "cell_type": "markdown",
   "metadata": {},
   "source": [
    "For Bob to win, he has to roll non-1's up until the max_score.  What is the probability of doing that?"
   ]
  },
  {
   "cell_type": "code",
   "execution_count": 50,
   "metadata": {},
   "outputs": [
    {
     "data": {
      "text/plain": [
       "(50.5, 16.833333333333332)"
      ]
     },
     "execution_count": 50,
     "metadata": {},
     "output_type": "execute_result"
    }
   ],
   "source": [
    "101/2,101/6"
   ]
  },
  {
   "cell_type": "markdown",
   "metadata": {},
   "source": [
    "if bob has to roll $n$ times, the probability of doing that (and not getting a 1) is $(5/6)^n$"
   ]
  },
  {
   "cell_type": "code",
   "execution_count": 51,
   "metadata": {},
   "outputs": [
    {
     "data": {
      "text/plain": [
       "0.473685666186905"
      ]
     },
     "execution_count": 51,
     "metadata": {},
     "output_type": "execute_result"
    }
   ],
   "source": [
    "saved_p_win_hold[(0,0,0,101)]"
   ]
  },
  {
   "cell_type": "code",
   "execution_count": 54,
   "metadata": {},
   "outputs": [],
   "source": [
    "from numpy.random import randint"
   ]
  },
  {
   "cell_type": "code",
   "execution_count": 86,
   "metadata": {},
   "outputs": [
    {
     "data": {
      "text/plain": [
       "0.5"
      ]
     },
     "execution_count": 86,
     "metadata": {},
     "output_type": "execute_result"
    }
   ],
   "source": [
    "count=0\n",
    "mx=1000\n",
    "for i in range(mx):\n",
    "    r=randint(6,size=50)+1\n",
    "    r[r==1]=-1e6\n",
    "    cs=r.cumsum()\n",
    "    if any(cs>=101):\n",
    "        count+=1\n",
    "        \n",
    "count/mx*100"
   ]
  },
  {
   "cell_type": "code",
   "execution_count": 90,
   "metadata": {},
   "outputs": [
    {
     "data": {
      "text/plain": [
       "0.15705680661607324"
      ]
     },
     "execution_count": 90,
     "metadata": {},
     "output_type": "execute_result"
    }
   ],
   "source": [
    "1-0.99**17"
   ]
  },
  {
   "cell_type": "code",
   "execution_count": 99,
   "metadata": {},
   "outputs": [],
   "source": [
    "g=Game(number_of_games=100)\n",
    "g.display=False\n",
    "g.run(bob,bob);"
   ]
  },
  {
   "cell_type": "code",
   "execution_count": 100,
   "metadata": {},
   "outputs": [
    {
     "data": {
      "text/plain": [
       "(49.0, 51.0, 0.0)"
      ]
     },
     "execution_count": 100,
     "metadata": {},
     "output_type": "execute_result"
    }
   ],
   "source": [
    "g.percent_win_lose_tie()"
   ]
  },
  {
   "cell_type": "code",
   "execution_count": null,
   "metadata": {},
   "outputs": [],
   "source": []
  }
 ],
 "metadata": {
  "kernelspec": {
   "display_name": "Python 3",
   "language": "python",
   "name": "python3"
  },
  "language_info": {
   "codemirror_mode": {
    "name": "ipython",
    "version": 3
   },
   "file_extension": ".py",
   "mimetype": "text/x-python",
   "name": "python",
   "nbconvert_exporter": "python",
   "pygments_lexer": "ipython3",
   "version": "3.7.7"
  }
 },
 "nbformat": 4,
 "nbformat_minor": 4
}
