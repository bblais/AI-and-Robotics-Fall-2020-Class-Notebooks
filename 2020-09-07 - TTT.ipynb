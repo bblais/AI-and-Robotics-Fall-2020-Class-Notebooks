{
 "cells": [
  {
   "cell_type": "code",
   "execution_count": 1,
   "metadata": {},
   "outputs": [
    {
     "name": "stdout",
     "output_type": "stream",
     "text": [
      "Version:  0.2.20\n"
     ]
    }
   ],
   "source": [
    "from Game import *"
   ]
  },
  {
   "cell_type": "code",
   "execution_count": 2,
   "metadata": {},
   "outputs": [],
   "source": [
    "def initial_state():\n",
    "    board=Board(3,3)\n",
    "    \n",
    "    return board"
   ]
  },
  {
   "cell_type": "code",
   "execution_count": 3,
   "metadata": {},
   "outputs": [],
   "source": [
    "def show_state(state):\n",
    "    print(state)"
   ]
  },
  {
   "cell_type": "code",
   "execution_count": 4,
   "metadata": {},
   "outputs": [],
   "source": [
    "def valid_moves(state,player):  # returns a list of all of the possible moves given a state\n",
    "    moves=[]\n",
    "    \n",
    "    for i in range(9):\n",
    "        if state[i]==0:\n",
    "            moves.append(i)\n",
    "    \n",
    "    return moves\n",
    "    "
   ]
  },
  {
   "cell_type": "code",
   "execution_count": 5,
   "metadata": {},
   "outputs": [],
   "source": [
    "def update_state(state,player,move):\n",
    "    \n",
    "    new_state=state\n",
    "    state[move]=player\n",
    "    \n",
    "    return new_state"
   ]
  },
  {
   "cell_type": "code",
   "execution_count": 6,
   "metadata": {},
   "outputs": [],
   "source": [
    "def win_status(state,player):\n",
    "    # \"win\" if the player wins\n",
    "    # \"lose\" if the player loses\n",
    "    # \"stalemate\" if a tie\n",
    "    # None if the game continues\n",
    "    \n",
    "    # 0 1 2\n",
    "    # 3 4 5\n",
    "    # 6 7 8\n",
    "    \n",
    "    if state[0]==player and state[1]==player and state[2]==player:\n",
    "        return \"win\"\n",
    "    if state[3]==player and state[4]==player and state[5]==player:\n",
    "        return \"win\"\n",
    "    if state[6]==player and state[7]==player and state[8]==player:\n",
    "        return \"win\"\n",
    "    if state[0]==player and state[3]==player and state[6]==player:\n",
    "        return \"win\"\n",
    "    if state[1]==player and state[4]==player and state[7]==player:\n",
    "        return \"win\"\n",
    "    if state[2]==player and state[5]==player and state[8]==player:\n",
    "        return \"win\"\n",
    "    if state[0]==player and state[4]==player and state[8]==player:\n",
    "        return \"win\"\n",
    "    if state[6]==player and state[4]==player and state[2]==player:\n",
    "        return \"win\"\n",
    "    \n",
    "    if player==1:\n",
    "        other_player=2\n",
    "    else:\n",
    "        other_player=1\n",
    "        \n",
    "        \n",
    "    if not valid_moves(state,other_player):\n",
    "        return \"stalemate\"\n",
    "    \n",
    "    \n",
    "    return None\n",
    "    "
   ]
  },
  {
   "cell_type": "code",
   "execution_count": 7,
   "metadata": {},
   "outputs": [],
   "source": [
    "def human_move(state,player):\n",
    "    print(\"\"\"\n",
    "     0 1 2\n",
    "     3 4 5\n",
    "     6 7 8\n",
    "    \"\"\")\n",
    "    \n",
    "    move=int(input(\"What move?\"))\n",
    "    \n",
    "    return move"
   ]
  },
  {
   "cell_type": "code",
   "execution_count": 8,
   "metadata": {},
   "outputs": [],
   "source": [
    "def random_move(state,player):\n",
    "    possible_moves=valid_moves(state,player)\n",
    "    move=random.choice(possible_moves)\n",
    "    return move"
   ]
  },
  {
   "cell_type": "code",
   "execution_count": 9,
   "metadata": {},
   "outputs": [],
   "source": [
    "human_agent=Agent(human_move)\n",
    "random_agent=Agent(random_move)"
   ]
  },
  {
   "cell_type": "code",
   "execution_count": 10,
   "metadata": {},
   "outputs": [
    {
     "name": "stdout",
     "output_type": "stream",
     "text": [
      "====\n",
      "Game  1\n",
      " 0  0  0 \n",
      " 0  0  0 \n",
      " 0  0  0 \n",
      "\n",
      "\n",
      "     0 1 2\n",
      "     3 4 5\n",
      "     6 7 8\n",
      "    \n"
     ]
    },
    {
     "name": "stdin",
     "output_type": "stream",
     "text": [
      "What move? 4\n"
     ]
    },
    {
     "name": "stdout",
     "output_type": "stream",
     "text": [
      "Player 1 moves 4\n",
      " 0  0  0 \n",
      " 0  1  0 \n",
      " 0  0  0 \n",
      "\n",
      "Player 2 moves 0\n",
      " 2  0  0 \n",
      " 0  1  0 \n",
      " 0  0  0 \n",
      "\n",
      "\n",
      "     0 1 2\n",
      "     3 4 5\n",
      "     6 7 8\n",
      "    \n"
     ]
    },
    {
     "name": "stdin",
     "output_type": "stream",
     "text": [
      "What move? 2\n"
     ]
    },
    {
     "name": "stdout",
     "output_type": "stream",
     "text": [
      "Player 1 moves 2\n",
      " 2  0  1 \n",
      " 0  1  0 \n",
      " 0  0  0 \n",
      "\n",
      "Player 2 moves 5\n",
      " 2  0  1 \n",
      " 0  1  2 \n",
      " 0  0  0 \n",
      "\n",
      "\n",
      "     0 1 2\n",
      "     3 4 5\n",
      "     6 7 8\n",
      "    \n"
     ]
    },
    {
     "name": "stdin",
     "output_type": "stream",
     "text": [
      "What move? 6\n"
     ]
    },
    {
     "name": "stdout",
     "output_type": "stream",
     "text": [
      "Player 1 moves 6\n",
      " 2  0  1 \n",
      " 0  1  2 \n",
      " 1  0  0 \n",
      "\n",
      "Player  1 won.\n"
     ]
    },
    {
     "data": {
      "text/plain": [
       "[1]"
      ]
     },
     "execution_count": 10,
     "metadata": {},
     "output_type": "execute_result"
    }
   ],
   "source": [
    "g=Game()\n",
    "g.run(human_agent,random_agent)"
   ]
  },
  {
   "cell_type": "code",
   "execution_count": null,
   "metadata": {},
   "outputs": [],
   "source": []
  }
 ],
 "metadata": {
  "kernelspec": {
   "display_name": "Python 3",
   "language": "python",
   "name": "python3"
  },
  "language_info": {
   "codemirror_mode": {
    "name": "ipython",
    "version": 3
   },
   "file_extension": ".py",
   "mimetype": "text/x-python",
   "name": "python",
   "nbconvert_exporter": "python",
   "pygments_lexer": "ipython3",
   "version": "3.7.6"
  }
 },
 "nbformat": 4,
 "nbformat_minor": 4
}
